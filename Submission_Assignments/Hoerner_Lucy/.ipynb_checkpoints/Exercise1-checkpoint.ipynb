{
 "cells": [
  {
   "cell_type": "markdown",
   "id": "83c3c567914bf017",
   "metadata": {},
   "source": [
    "## Exercise: Writing functions\n",
    "In the following, you will write three functions in which you integrate the previously learned content."
   ]
  },
  {
   "cell_type": "markdown",
   "id": "2dea4c09a812a91b",
   "metadata": {},
   "source": [
    "### Function 1: Beergarden capacity\n",
    "\n",
    "Write a function `beer_garden_capacity(guests, tables)` that calculates whether there are enough seats in a beer garden.\n",
    "\n",
    "Each table has 8 seats.\n",
    "The function should return:\n",
    "- `“There are enough tables!”` → if there is enough space.\n",
    "- `“Not enough tables, find another beer garden!”` → if there are more guests than seats."
   ]
  },
  {
   "cell_type": "code",
   "execution_count": 17,
   "id": "6d0e85b58d23536f",
   "metadata": {},
   "outputs": [
    {
     "name": "stdout",
     "output_type": "stream",
     "text": [
      "There are enough tables!\n"
     ]
    }
   ],
   "source": [
    "\n",
    "def beer_garden_capacity(guests, tables):\n",
    "    seats_available = tables*8\n",
    "    if guests > seats_available: \n",
    "       return(\"Not enough tables, find another beer garden!\") \n",
    "    else: \n",
    "        return(\"There are enough tables!\")\n",
    "\n",
    "print(beer_garden_capacity(40, 7))"
   ]
  },
  {
   "cell_type": "code",
   "execution_count": 18,
   "id": "4c8d83ff20a41334",
   "metadata": {},
   "outputs": [
    {
     "name": "stdout",
     "output_type": "stream",
     "text": [
      "There are enough tables!\n",
      "Not enough tables, find another beer garden!\n"
     ]
    }
   ],
   "source": [
    "print(beer_garden_capacity(40, 6))  \n",
    "print(beer_garden_capacity(50, 5)) "
   ]
  },
  {
   "cell_type": "markdown",
   "id": "a710041a520f2564",
   "metadata": {},
   "source": [
    "### Function 2: Isar swimming warning\n",
    "Write a function `isar_swimming_warning(temp, flow_rate)` that outputs a warning whether the Isar is too dangerous for swimmers.\n",
    "\n",
    "- If the water temperature is below 15°C, the function should return `“Warning: The Isar is too cold! ❄️”` should be returned.\n",
    "- If the flow velocity is above 300 m³/s, the function `“Warning: The current is too strong! 🌊”` should be returned.\n",
    "- If both apply, the function `“Danger! The Isar is too cold and too strong! ⚠️”`.\n",
    "- If everything is fine, it returns `“Safe to swim! Enjoy the Isar! 🏊‍♂️”`."
   ]
  },
  {
   "cell_type": "code",
   "execution_count": 19,
   "id": "d36359a841e3ad73",
   "metadata": {},
   "outputs": [
    {
     "name": "stdout",
     "output_type": "stream",
     "text": [
      "Danger! The Isar is too cold and too strong!⚠️\n"
     ]
    }
   ],
   "source": [
    "def isar_swimming_warning(temp, flow_rate):\n",
    "    if temp < 15 and flow_rate > 300:\n",
    "        return(\"Danger! The Isar is too cold and too strong!⚠️\")\n",
    "    elif temp < 15:\n",
    "        return(\"Warning: The Isar is too cold!❄️\")\n",
    "    elif flow_rate > 300:\n",
    "        return(\"Warning: The current is too strong!🌊\")\n",
    "    else:\n",
    "        return(\"Safe to swim! Enjoy the Isar!🏊‍♂️\")\n",
    "\n",
    "\n",
    "print(isar_swimming_warning(14, 350))"
   ]
  },
  {
   "cell_type": "code",
   "execution_count": 21,
   "id": "b57cfa5a00c137ca",
   "metadata": {},
   "outputs": [
    {
     "name": "stdout",
     "output_type": "stream",
     "text": [
      "Warning: The Isar is too cold!❄️\n",
      "Warning: The current is too strong!🌊\n",
      "Danger! The Isar is too cold and too strong!⚠️\n",
      "Safe to swim! Enjoy the Isar!🏊‍♂️\n"
     ]
    }
   ],
   "source": [
    "print(isar_swimming_warning(14, 250))  \n",
    "print(isar_swimming_warning(16, 320))  \n",
    "print(isar_swimming_warning(12, 350))  \n",
    "print(isar_swimming_warning(18, 280))  "
   ]
  },
  {
   "cell_type": "markdown",
   "id": "1565a2837c639146",
   "metadata": {},
   "source": [
    "### Function 3: Flu cases\n",
    "Write a function `flu_cases(city_population, infection_rate, days)` that calculates the number of infected people in in several cities in Bavaria over a certain number of days using a simple exponential formula:\n",
    "\n",
    "$$\n",
    "\\text{Infected} = \\text{City population} \\times \\left( 1 - e^{-\\text{Infection rate} \\times \\text{Days}} \\right)\n",
    "$$\n",
    "\n",
    "- The cities and their populations are stored in two lists:\n",
    "    - city_names: Contains the city name (Munich, Nuremberg, Augsburg).\n",
    "    - populations: Contains the respective population figures (1480000, 530000, 300000).\n",
    "- The infection rate indicates how quickly the disease is spreading (e.g. `0.1` for slow spread, `0.3` for fast spread).\n",
    "- The function should round up the calculated number and output it in a formatted string.\n",
    "\n",
    "Note: `math.exp(-rate * days)` calculates the exponential term."
   ]
  },
  {
   "cell_type": "code",
   "execution_count": 22,
   "id": "8614fa0cca264bc7",
   "metadata": {},
   "outputs": [
    {
     "name": "stdout",
     "output_type": "stream",
     "text": [
      "Munich: Estimated infected people: 745054\n",
      "Nuremberg: Estimated infected people: 266810\n",
      "Augsburg: Estimated infected people: 151025\n",
      "Munich: Estimated infected people: 1298765\n",
      "Nuremberg: Estimated infected people: 465099\n",
      "Augsburg: Estimated infected people: 263264\n"
     ]
    }
   ],
   "source": [
    "import math\n",
    "\n",
    "def flu_cases(city_names, populations, infection_rate, days):\n",
    "    results = []\n",
    "    for i in range(len(city_names)):\n",
    "        infected = populations[i] * (1 - math.exp(-infection_rate * days))\n",
    "        infected_rounded = math.ceil(infected)\n",
    "        results.append(f\"{city_names[i]}: Estimated infected people: {infected_rounded}\")\n",
    "    return \"\\n\".join(results)"
   ]
  },
  {
   "cell_type": "code",
   "execution_count": 25,
   "id": "f88224f7c6e2325a",
   "metadata": {},
   "outputs": [
    {
     "name": "stdout",
     "output_type": "stream",
     "text": [
      "Munich: Estimated infected people: 745054\n",
      "Nuremberg: Estimated infected people: 266810\n",
      "Augsburg: Estimated infected people: 151025\n",
      "Munich: Estimated infected people: 1298765\n",
      "Nuremberg: Estimated infected people: 465099\n",
      "Augsburg: Estimated infected people: 263264\n"
     ]
    }
   ],
   "source": [
    "print(flu_cases(city_names, populations, 0.1, 7))\n",
    "print(flu_cases(city_names, populations, 0.3, 7))"
   ]
  }
 ],
 "metadata": {
  "kernelspec": {
   "display_name": "Python 3 (ipykernel)",
   "language": "python",
   "name": "python3"
  },
  "language_info": {
   "codemirror_mode": {
    "name": "ipython",
    "version": 3
   },
   "file_extension": ".py",
   "mimetype": "text/x-python",
   "name": "python",
   "nbconvert_exporter": "python",
   "pygments_lexer": "ipython3",
   "version": "3.10.15"
  }
 },
 "nbformat": 4,
 "nbformat_minor": 5
}
