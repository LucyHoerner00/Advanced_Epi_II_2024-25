{
 "cells": [
  {
   "metadata": {},
   "cell_type": "markdown",
   "source": [
    "# Exercise: Hierarchical Cluster Analysis\n",
    "You are provided with a dataset containing demographic indicators for 36 European countries. These include variables such as:\n",
    "\n",
    "- birth and death rates  \n",
    "- male and female life expectancy  \n",
    "- total population and population density\n",
    "\n",
    "Your goal is to uncover clusters of countries that share similar demographic profiles. To do this, proceed as follows:\n",
    "\n",
    "- Design and implement a **machine learning pipeline** that prepares your data for clustering.\n",
    "- Use **PCA** to reduce the dimensionality of the data and support your interpretation.\n",
    "- Apply **hierarchical clustering** to identify meaningful groups of countries.\n",
    "- Visualize your results using a **dendrogram**, and analyze the outcome.\n",
    "- Investigate and compare **different linkage methods** (`ward`, `complete`, `average`, etc.). Justify your final choice.\n",
    "- Characterize each resulting cluster: What do the countries in each group have in common? How do they differ from others?\n"
   ],
   "id": "65165fddcbee0bb6"
  },
  {
   "metadata": {
    "ExecuteTime": {
     "end_time": "2025-03-23T19:33:10.004500Z",
     "start_time": "2025-03-23T19:33:09.993786Z"
    }
   },
   "cell_type": "code",
   "source": [
    "import pandas as pd\n",
    "\n",
    "df = pd.read_csv(\"europe_demo_cleaned.csv\")"
   ],
   "id": "79be41dcf757debd",
   "outputs": [],
   "execution_count": 11
  },
  {
   "metadata": {},
   "cell_type": "code",
   "outputs": [],
   "execution_count": null,
   "source": "",
   "id": "b19a1f7410d86783"
  }
 ],
 "metadata": {
  "kernelspec": {
   "display_name": "Python 3",
   "language": "python",
   "name": "python3"
  },
  "language_info": {
   "codemirror_mode": {
    "name": "ipython",
    "version": 2
   },
   "file_extension": ".py",
   "mimetype": "text/x-python",
   "name": "python",
   "nbconvert_exporter": "python",
   "pygments_lexer": "ipython2",
   "version": "2.7.6"
  }
 },
 "nbformat": 4,
 "nbformat_minor": 5
}
