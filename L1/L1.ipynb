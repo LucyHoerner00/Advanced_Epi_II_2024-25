{
 "cells": [
  {
   "metadata": {},
   "cell_type": "markdown",
   "source": [
    "# Advanced Epi II: Introduction to Python\n",
    "## Lesson 1\n",
    "---"
   ],
   "id": "9fc55c63e5be0833"
  },
  {
   "metadata": {},
   "cell_type": "markdown",
   "source": [
    "## Markdown\n",
    "\n",
    "This is a **markdown** cell. You can use them to format text, integrate code, display mathematical formulas and much more.\n",
    "\n",
    "### 1. Text formatting\n",
    "\n",
    "**bold**\n",
    "\n",
    "*italic*\n",
    "\n",
    "~~strikethrough~~\n",
    "\n",
    "### 2. Headings\n",
    "\n",
    "# Title\n",
    "\n",
    "## Heading\n",
    "\n",
    "### Subheading\n",
    "\n",
    "### 3. Lists\n",
    "\n",
    "**Unsorted lists**  \n",
    "- Point 1\n",
    "- Point 2\n",
    "- Point 3\n",
    "\n",
    "**Sorted lists**  \n",
    "1. First point\n",
    "2. Second point\n",
    "3. Third point\n",
    "\n",
    "### 4. Links a\n",
    "\n",
    "**Link**  \n",
    "Here's a link to [codeacademy Markdown Tutorial](https://www.codecademy.com/resources/docs/markdown/emphasis).\n",
    "\n",
    "You're doing great!\n",
    "![small high five](https://preview.redd.it/ich-spreche-kein-deutsch-aber-ich-liebe-diesen-ort-v0-nlp8xkz1dqxd1.jpg?width=728&format=pjpg&auto=webp&s=4b3a227711056b82ca2e357d76999c636b091aef)\n",
    "\n",
    "### 5. Code\n",
    "**Inline-Code:**  \n",
    "Here's an example for an `inline code` in a markdown cell.\n",
    "\n",
    "**Codeblock:**  \n",
    "```python\n",
    "def hello():\n",
    "    print(\"Hello, world!\")\n",
    "```\n",
    "\n",
    "### 6. Tables\n",
    "\n",
    "| Name      | Age |\n",
    "|-----------|-------|\n",
    "| Anna      | 24    |\n",
    "| Bernd     | 30    |\n",
    "| Claudia   | 28    |\n",
    "\n",
    "### 6. Formulas\n",
    "\n",
    "Einstein once said $E = mc^2$ and I agree, $Energy = Milk * Coffee^2$\n",
    "\n"
   ],
   "id": "ff176e8079ff552"
  },
  {
   "metadata": {},
   "cell_type": "markdown",
   "source": [
    "## Variable types\n",
    "\n",
    "In **Python**, there are different types of variables, each suited for specific types of data. The most important data types are:\n",
    "\n",
    "- **Integer (`int`)**: Whole numbers without decimal places, e.g., `42`, `-7`, `1000`.\n",
    "- **Floating-Point (`float`)**: Numbers with decimals, also known as floating-point numbers, e.g., `3.14`, `-0.5`, `2.0`.\n",
    "- **String (`str`)**: A sequence of characters, used for text representation, e.g., `\"Hello\"`, `'Python'`, `\"123\"` (even though it contains numbers, it's still a string).\n",
    "- **Boolean (`bool`)**: Logical values that can be either `True` or `False`, e.g., `is_sunny = True`.\n",
    "- **List (`list`)**: An **ordered, mutable** collection of values, e.g., `[1, 2, 3]`, `[\"Apple\", \"Banana\", \"Cherry\"]`.\n",
    "- **Tuple (`tuple`)**: An **ordered, immutable** collection of values, e.g., `(1, 2, 3)`, `(\"Python\", \"Java\", \"C++\")`.\n",
    "- **Dictionary (`dict`)**: A **key-value pair collection**, e.g., `{\"name\": \"Anna\", \"age\": 25}`.\n",
    "- **Set (`set`)**: An **unordered collection of unique values**, e.g., `{1, 2, 3, 4, 5}`.\n",
    "\n",
    "Python is **dynamically typed**, meaning you don’t need to declare variable types explicitly – the interpreter determines the type based on the assigned value. You can check a variable’s type using `type(variable_name)`."
   ],
   "id": "98a70120104418a7"
  },
  {
   "metadata": {
    "ExecuteTime": {
     "end_time": "2025-03-12T14:18:31.580065Z",
     "start_time": "2025-03-12T14:18:31.575679Z"
    }
   },
   "cell_type": "code",
   "source": [
    "x = 42\n",
    "y = 3.14\n",
    "text = \"Python\"\n",
    "\n",
    "print(type(x))   \n",
    "print(type(y))    \n",
    "print(type(text)) "
   ],
   "id": "431a5ab318831db5",
   "outputs": [
    {
     "name": "stdout",
     "output_type": "stream",
     "text": [
      "<class 'int'>\n",
      "<class 'float'>\n",
      "<class 'str'>\n"
     ]
    }
   ],
   "execution_count": 6
  },
  {
   "metadata": {},
   "cell_type": "markdown",
   "source": "Python also allows dynamic type changes, meaning a variable can store different types over time:",
   "id": "37af609d78326767"
  },
  {
   "metadata": {
    "ExecuteTime": {
     "end_time": "2025-03-12T14:18:34.699775Z",
     "start_time": "2025-03-12T14:18:34.696887Z"
    }
   },
   "cell_type": "code",
   "source": [
    "x = 42       # int\n",
    "x = \"Hello\"  # Now x is a string\n",
    "\n",
    "print(type(x))"
   ],
   "id": "d9b47b80ad560e07",
   "outputs": [
    {
     "name": "stdout",
     "output_type": "stream",
     "text": [
      "<class 'str'>\n"
     ]
    }
   ],
   "execution_count": 7
  },
  {
   "metadata": {},
   "cell_type": "markdown",
   "source": [
    "### Strings\n",
    "- Handles textual data (names, messages, etc.).\n",
    "- Supports indexing and slicing."
   ],
   "id": "77b51c19c0396ac4"
  },
  {
   "metadata": {
    "ExecuteTime": {
     "end_time": "2025-03-12T14:18:36.807689Z",
     "start_time": "2025-03-12T14:18:36.803501Z"
    }
   },
   "cell_type": "code",
   "source": [
    "name = \"Alice\"\n",
    "greeting = 'Hello, ' + name + \"!\"\n",
    "\n",
    "print(greeting) "
   ],
   "id": "c84237f0890c01e4",
   "outputs": [
    {
     "name": "stdout",
     "output_type": "stream",
     "text": [
      "Hello, Alice!\n"
     ]
    }
   ],
   "execution_count": 8
  },
  {
   "metadata": {
    "ExecuteTime": {
     "end_time": "2025-03-12T14:18:38.890116Z",
     "start_time": "2025-03-12T14:18:38.737385Z"
    }
   },
   "cell_type": "code",
   "source": "message = Hello",
   "id": "c443e49ecb256c40",
   "outputs": [
    {
     "ename": "NameError",
     "evalue": "name 'Hello' is not defined",
     "output_type": "error",
     "traceback": [
      "\u001B[0;31m---------------------------------------------------------------------------\u001B[0m",
      "\u001B[0;31mNameError\u001B[0m                                 Traceback (most recent call last)",
      "Cell \u001B[0;32mIn[9], line 1\u001B[0m\n\u001B[0;32m----> 1\u001B[0m message \u001B[38;5;241m=\u001B[39m \u001B[43mHello\u001B[49m\n",
      "\u001B[0;31mNameError\u001B[0m: name 'Hello' is not defined"
     ]
    }
   ],
   "execution_count": 9
  },
  {
   "metadata": {
    "ExecuteTime": {
     "end_time": "2025-03-12T14:18:41.867778Z",
     "start_time": "2025-03-12T14:18:41.863796Z"
    }
   },
   "cell_type": "code",
   "source": [
    "message = \"Hello\"\n",
    "\n",
    "print(message)"
   ],
   "id": "2b5e5f41ccd4fc93",
   "outputs": [
    {
     "name": "stdout",
     "output_type": "stream",
     "text": [
      "Hello\n"
     ]
    }
   ],
   "execution_count": 10
  },
  {
   "metadata": {
    "ExecuteTime": {
     "end_time": "2025-03-12T14:18:43.883721Z",
     "start_time": "2025-03-12T14:18:43.867573Z"
    }
   },
   "cell_type": "code",
   "source": [
    "text = \"Python\"\n",
    "text[0] = \"J\""
   ],
   "id": "6fd3829d2904bee9",
   "outputs": [
    {
     "ename": "TypeError",
     "evalue": "'str' object does not support item assignment",
     "output_type": "error",
     "traceback": [
      "\u001B[0;31m---------------------------------------------------------------------------\u001B[0m",
      "\u001B[0;31mTypeError\u001B[0m                                 Traceback (most recent call last)",
      "Cell \u001B[0;32mIn[11], line 2\u001B[0m\n\u001B[1;32m      1\u001B[0m text \u001B[38;5;241m=\u001B[39m \u001B[38;5;124m\"\u001B[39m\u001B[38;5;124mPython\u001B[39m\u001B[38;5;124m\"\u001B[39m\n\u001B[0;32m----> 2\u001B[0m \u001B[43mtext\u001B[49m\u001B[43m[\u001B[49m\u001B[38;5;241;43m0\u001B[39;49m\u001B[43m]\u001B[49m \u001B[38;5;241m=\u001B[39m \u001B[38;5;124m\"\u001B[39m\u001B[38;5;124mJ\u001B[39m\u001B[38;5;124m\"\u001B[39m\n",
      "\u001B[0;31mTypeError\u001B[0m: 'str' object does not support item assignment"
     ]
    }
   ],
   "execution_count": 11
  },
  {
   "metadata": {
    "ExecuteTime": {
     "end_time": "2025-03-12T14:18:45.725823Z",
     "start_time": "2025-03-12T14:18:45.722665Z"
    }
   },
   "cell_type": "code",
   "source": [
    "new_text = \"J\" + text[1:]\n",
    "print(new_text)"
   ],
   "id": "9e77a34c36911a2b",
   "outputs": [
    {
     "name": "stdout",
     "output_type": "stream",
     "text": [
      "Jython\n"
     ]
    }
   ],
   "execution_count": 12
  },
  {
   "metadata": {},
   "cell_type": "markdown",
   "source": "### Boolean operators",
   "id": "e0ac64d1ff3d92e6"
  },
  {
   "metadata": {
    "ExecuteTime": {
     "end_time": "2025-03-12T14:18:48.483403Z",
     "start_time": "2025-03-12T14:18:48.479639Z"
    }
   },
   "cell_type": "code",
   "source": [
    "is_raining = True\n",
    "has_coffee = False\n",
    "\n",
    "print(type(is_raining))"
   ],
   "id": "47f5dec557793d34",
   "outputs": [
    {
     "name": "stdout",
     "output_type": "stream",
     "text": [
      "<class 'bool'>\n"
     ]
    }
   ],
   "execution_count": 13
  },
  {
   "metadata": {
    "ExecuteTime": {
     "end_time": "2025-03-12T14:18:50.868213Z",
     "start_time": "2025-03-12T14:18:50.863101Z"
    }
   },
   "cell_type": "code",
   "source": [
    "if is_raining = True:\n",
    "    print(\"Bring an umbrella!\")"
   ],
   "id": "3c9d17b808b1b983",
   "outputs": [
    {
     "ename": "SyntaxError",
     "evalue": "invalid syntax (93615245.py, line 1)",
     "output_type": "error",
     "traceback": [
      "\u001B[0;36m  Cell \u001B[0;32mIn[14], line 1\u001B[0;36m\u001B[0m\n\u001B[0;31m    if is_raining = True:\u001B[0m\n\u001B[0m                  ^\u001B[0m\n\u001B[0;31mSyntaxError\u001B[0m\u001B[0;31m:\u001B[0m invalid syntax\n"
     ]
    }
   ],
   "execution_count": 14
  },
  {
   "metadata": {
    "ExecuteTime": {
     "end_time": "2025-03-12T14:18:56.480535Z",
     "start_time": "2025-03-12T14:18:56.477740Z"
    }
   },
   "cell_type": "code",
   "source": [
    "if is_raining == True:\n",
    "    print(\"Bring an umbrella!\")"
   ],
   "id": "d354b1268cb29cd2",
   "outputs": [
    {
     "name": "stdout",
     "output_type": "stream",
     "text": [
      "Bring an umbrella!\n"
     ]
    }
   ],
   "execution_count": 15
  },
  {
   "metadata": {},
   "cell_type": "markdown",
   "source": "### Arithmetic operators",
   "id": "661841f1561afacf"
  },
  {
   "metadata": {
    "ExecuteTime": {
     "end_time": "2025-03-12T14:22:52.154880Z",
     "start_time": "2025-03-12T14:22:52.150799Z"
    }
   },
   "cell_type": "code",
   "source": [
    "a, b = 10, 3\n",
    "print(a + b)\n",
    "print(a - b) \n",
    "print(a * b)  \n",
    "print(a / b)  \n",
    "print(a // b)  \n",
    "print(a ** b) \n",
    "print(a % 3)"
   ],
   "id": "973677e91375c88b",
   "outputs": [
    {
     "name": "stdout",
     "output_type": "stream",
     "text": [
      "13\n",
      "7\n",
      "30\n",
      "3.3333333333333335\n",
      "3\n",
      "1000\n",
      "1\n"
     ]
    }
   ],
   "execution_count": 21
  },
  {
   "metadata": {},
   "cell_type": "markdown",
   "source": "### Comparison operators",
   "id": "4f2cd9db6a261507"
  },
  {
   "metadata": {
    "ExecuteTime": {
     "end_time": "2025-03-12T12:15:28.940254Z",
     "start_time": "2025-03-12T12:15:28.935709Z"
    }
   },
   "cell_type": "code",
   "source": [
    "print(5 == 5)\n",
    "print(5 != 3)\n",
    "print(5 > 3)\n",
    "print(5 < 3)"
   ],
   "id": "9fe94b8fdf212c3b",
   "outputs": [
    {
     "name": "stdout",
     "output_type": "stream",
     "text": [
      "True\n",
      "True\n",
      "True\n",
      "False\n"
     ]
    }
   ],
   "execution_count": 1
  },
  {
   "metadata": {
    "ExecuteTime": {
     "end_time": "2025-03-12T12:15:37.391960Z",
     "start_time": "2025-03-12T12:15:37.386405Z"
    }
   },
   "cell_type": "code",
   "source": "5 + 7 == 3 + 6",
   "id": "c7350b635ad4b1dd",
   "outputs": [
    {
     "data": {
      "text/plain": [
       "False"
      ]
     },
     "execution_count": 2,
     "metadata": {},
     "output_type": "execute_result"
    }
   ],
   "execution_count": 2
  },
  {
   "metadata": {},
   "cell_type": "code",
   "outputs": [],
   "execution_count": null,
   "source": "abs(5 - 10) != 10 - 5",
   "id": "92c2a316360f0a8d"
  },
  {
   "metadata": {},
   "cell_type": "code",
   "outputs": [],
   "execution_count": null,
   "source": "8.0 == 8",
   "id": "1ef3c850982ca03"
  },
  {
   "metadata": {},
   "cell_type": "markdown",
   "source": "### Logical operators",
   "id": "6a9fec0c97dffd71"
  },
  {
   "metadata": {},
   "cell_type": "code",
   "outputs": [],
   "execution_count": null,
   "source": [
    "x = True\n",
    "y = False\n",
    "print(x and y) \n",
    "print(x or y)  \n",
    "print(not x)  "
   ],
   "id": "6012560c9244698e"
  },
  {
   "metadata": {},
   "cell_type": "markdown",
   "source": "### Conditionals",
   "id": "e45d3373b42f2f5f"
  },
  {
   "metadata": {},
   "cell_type": "code",
   "outputs": [],
   "execution_count": null,
   "source": [
    "age = 18\n",
    "if age >= 18:\n",
    "    print(\"You are (somewhat) an adult.\")\n",
    "elif age >= 13:\n",
    "    print(\"You are a teenager.\")\n",
    "else:\n",
    "    print(\"You are a child.\")"
   ],
   "id": "d54adc91ca925264"
  },
  {
   "metadata": {},
   "cell_type": "markdown",
   "source": [
    "### Lists\n",
    "\n",
    "- Stores multiple values in one variable.\n",
    "- Supports indexing and modification."
   ],
   "id": "285d6dab59025738"
  },
  {
   "metadata": {},
   "cell_type": "code",
   "outputs": [],
   "execution_count": null,
   "source": [
    "fruits = [\"apple\", \"banana\", \"cherry\"]\n",
    "fruits.append(\"orange\")\n",
    "print(fruits[1])"
   ],
   "id": "8b6452bf30445e5c"
  },
  {
   "metadata": {},
   "cell_type": "code",
   "outputs": [],
   "execution_count": null,
   "source": [
    "fruits[0] = \"kiwi\"\n",
    "print(fruits)"
   ],
   "id": "460ceee5e2fcded1"
  },
  {
   "metadata": {},
   "cell_type": "code",
   "outputs": [],
   "execution_count": null,
   "source": "data = [1, \"text\", 3.14]  # This is allowed, but not always advisable",
   "id": "bb32fe845930f184"
  },
  {
   "metadata": {},
   "cell_type": "markdown",
   "source": [
    "Here are some other common list methods.\n",
    "\n",
    "- `list.append(elem)`: adds a single element to the end of the list. Common error: does not return the new list, just modifies the original.\n",
    "- `list.insert(index, elem)`: inserts the element at the given index, shifting elements to the right.\n",
    "- `list.extend(list2)`: adds the elements in list2 to the end of the list. Using + or += on a list is similar to using extend().\n",
    "- `list.index(elem)`: searches for the given element from the start of the list and returns its index. Throws a ValueError if the element does not appear (use \"in\" to check without a ValueError).\n",
    "- `list.pop(index)`: removes and returns the element at the given index. Returns the rightmost element if index is omitted (roughly the opposite of append()).\n",
    "- `list.remove(elem)`: searches for the first instance of the given element and removes it (throws ValueError if not present)."
   ],
   "id": "4fc9c868ef6ad42"
  },
  {
   "metadata": {},
   "cell_type": "code",
   "outputs": [],
   "execution_count": null,
   "source": [
    "fruits.insert(1, \"apple\")\n",
    "print(fruits)"
   ],
   "id": "57b5beb594c7e4de"
  },
  {
   "metadata": {},
   "cell_type": "code",
   "outputs": [],
   "execution_count": null,
   "source": "fruits.index(\"banana\")",
   "id": "be9f2cccf5512d0b"
  },
  {
   "metadata": {},
   "cell_type": "code",
   "outputs": [],
   "execution_count": null,
   "source": [
    "fruits.remove(\"banana\")\n",
    "print(fruits)"
   ],
   "id": "57a5e230574a18a4"
  },
  {
   "metadata": {},
   "cell_type": "markdown",
   "source": [
    "### Tuple\n",
    "- Faster than lists.\n",
    "- Protects data from modification."
   ],
   "id": "cdbeef82989d9e70"
  },
  {
   "metadata": {},
   "cell_type": "code",
   "outputs": [],
   "execution_count": null,
   "source": [
    "coordinates = (10, 20)\n",
    "print(coordinates[0])"
   ],
   "id": "cf5780aa6cbe06aa"
  },
  {
   "metadata": {},
   "cell_type": "code",
   "outputs": [],
   "execution_count": null,
   "source": "coordinates[0] = 50",
   "id": "9fcc66a89b50fa8c"
  },
  {
   "metadata": {},
   "cell_type": "markdown",
   "source": [
    "### Dictionaries\n",
    "- Fast lookups by key.\n",
    "- Unordered but highly efficient."
   ],
   "id": "babe3203c300ab76"
  },
  {
   "metadata": {
    "ExecuteTime": {
     "end_time": "2025-03-10T08:56:13.900070Z",
     "start_time": "2025-03-10T08:56:13.897908Z"
    }
   },
   "cell_type": "code",
   "source": [
    "person = {\n",
    "    \"name\": \"Alice\",\n",
    "    \"age\": 30,\n",
    "    \"city\": \"Munich\",\n",
    "    \"hobbies\": [\"cycling\", \"reading\"]\n",
    "}"
   ],
   "id": "18a1a84d73c33d3a",
   "outputs": [],
   "execution_count": 1
  },
  {
   "metadata": {},
   "cell_type": "code",
   "outputs": [],
   "execution_count": null,
   "source": [
    "print(person[\"name\"])\n",
    "print(person[\"hobbies\"])"
   ],
   "id": "33db187821afb3d3"
  },
  {
   "metadata": {},
   "cell_type": "markdown",
   "source": "Dictionaries are mutable, meaning we can modify them:",
   "id": "a798264025c9654c"
  },
  {
   "metadata": {},
   "cell_type": "code",
   "outputs": [],
   "execution_count": null,
   "source": [
    "person[\"age\"] = 31  # Updating an existing key\n",
    "person[\"profession\"] = \"epidemiologist\"  # Adding a new key-value pair\n",
    "\n",
    "print(person)"
   ],
   "id": "967ca69b220ed0dc"
  },
  {
   "metadata": {},
   "cell_type": "markdown",
   "source": [
    "Dictionaries can store other dictionaries inside them, making them useful for structured data.\n",
    "\n",
    "In public health and epidemiology, researchers deal with patient records and medical statistics. Dictionaries help store and organize this data efficiently."
   ],
   "id": "16707201ceabec16"
  },
  {
   "metadata": {},
   "cell_type": "code",
   "outputs": [],
   "execution_count": null,
   "source": [
    "patient_data = {\n",
    "    \"patient_id\": 1023,\n",
    "    \"name\": \"John Doe\",\n",
    "    \"age\": 45,\n",
    "    \"medical_history\": [\"diabetes\", \"hypertension\"],\n",
    "    \"latest_tests\": {\n",
    "        \"blood_pressure\": \"140/90\",\n",
    "        \"glucose_level\": 6.2,\n",
    "        \"cholesterol\": 210\n",
    "    }\n",
    "}\n",
    "\n",
    "# Accessing nested medical test data\n",
    "print(patient_data[\"latest_tests\"][\"glucose_level\"])\n"
   ],
   "id": "a04333531c56e2c"
  },
  {
   "metadata": {},
   "cell_type": "markdown",
   "source": "Modelling disease spread via Susceptible-Recovered-Infected (SIR) model:",
   "id": "5152f9bdcec2a5e0"
  },
  {
   "metadata": {
    "ExecuteTime": {
     "end_time": "2025-03-12T12:19:24.054626Z",
     "start_time": "2025-03-12T12:19:24.048326Z"
    }
   },
   "cell_type": "code",
   "source": [
    "sir_model = {\n",
    "    \"susceptible\": 5000,\n",
    "    \"infected\": 120,\n",
    "    \"recovered\": 30\n",
    "}\n",
    "\n",
    "# Simulate new infections\n",
    "new_cases = sir_model[\"infected\"] * 0.1\n",
    "sir_model[\"infected\"] += new_cases\n",
    "sir_model[\"susceptible\"] -= new_cases\n",
    "\n",
    "print(sir_model)"
   ],
   "id": "18261c745b5d2e17",
   "outputs": [
    {
     "name": "stdout",
     "output_type": "stream",
     "text": [
      "{'susceptible': 4988.0, 'infected': 132.0, 'recovered': 30}\n"
     ]
    }
   ],
   "execution_count": 4
  },
  {
   "metadata": {},
   "cell_type": "markdown",
   "source": [
    "### Functions\n",
    "The `input()` function allows users to enter data."
   ],
   "id": "1f85a3408391d46a"
  },
  {
   "metadata": {},
   "cell_type": "code",
   "outputs": [],
   "execution_count": null,
   "source": [
    "user_name = input(\"Enter your name: \")\n",
    "print(\"Hello,\", user_name)"
   ],
   "id": "109a3aaba4ea6da1"
  },
  {
   "metadata": {},
   "cell_type": "code",
   "outputs": [],
   "execution_count": null,
   "source": [
    "age = int(input(\"Enter your age: \"))  # Converts input to an integer\n",
    "print(\"In 5 years, you will be:\", age + 5)"
   ],
   "id": "8f544d338f8d145e"
  },
  {
   "metadata": {},
   "cell_type": "code",
   "outputs": [],
   "execution_count": null,
   "source": "round(3.14159, 2)",
   "id": "a59bd38af5e5051a"
  },
  {
   "metadata": {},
   "cell_type": "code",
   "outputs": [],
   "execution_count": null,
   "source": [
    "numbers = [3, 7, 1, 9, 5]\n",
    "print(max(numbers))\n",
    "print(min(numbers))\n",
    "print(sum(numbers))"
   ],
   "id": "cbe46fc90ba757e2"
  },
  {
   "metadata": {},
   "cell_type": "code",
   "outputs": [],
   "execution_count": null,
   "source": [
    "import math\n",
    "print(math.sqrt(25))\n",
    "print(math.pi)       "
   ],
   "id": "c58eb2ee6c943003"
  },
  {
   "metadata": {},
   "cell_type": "markdown",
   "source": "String functions:",
   "id": "2945595bada40417"
  },
  {
   "metadata": {},
   "cell_type": "code",
   "outputs": [],
   "execution_count": null,
   "source": [
    "text = \"Python\"\n",
    "print(len(text))"
   ],
   "id": "8fc49d2f373c4a1a"
  },
  {
   "metadata": {},
   "cell_type": "code",
   "outputs": [],
   "execution_count": null,
   "source": [
    "text = \"Hello World\"\n",
    "print(text.lower()) \n",
    "print(text.upper()) \n",
    "print(text.replace(\"World\", \"Python\")) "
   ],
   "id": "893ae10ab55ca4ef"
  },
  {
   "metadata": {},
   "cell_type": "markdown",
   "source": "Functions for lists:",
   "id": "ddb76a81fbef319c"
  },
  {
   "metadata": {},
   "cell_type": "code",
   "outputs": [],
   "execution_count": null,
   "source": [
    "fruits = [\"apple\", \"banana\", \"cherry\"]\n",
    "fruits.append(\"orange\") \n",
    "fruits.remove(\"banana\")  \n",
    "fruits.sort()            \n",
    "fruits.reverse()         \n",
    "print(fruits)"
   ],
   "id": "44c8f291997fe850"
  },
  {
   "metadata": {},
   "cell_type": "markdown",
   "source": "The `range()` function generates a sequence of numbers:",
   "id": "5f5a8e964d04d6bc"
  },
  {
   "metadata": {
    "ExecuteTime": {
     "end_time": "2025-03-12T12:20:54.008612Z",
     "start_time": "2025-03-12T12:20:54.005467Z"
    }
   },
   "cell_type": "code",
   "source": [
    "for i in range(5):  # 0 to 4\n",
    "    print(i) "
   ],
   "id": "41f57180bf40ea90",
   "outputs": [
    {
     "name": "stdout",
     "output_type": "stream",
     "text": [
      "0\n",
      "1\n",
      "2\n",
      "3\n",
      "4\n"
     ]
    }
   ],
   "execution_count": 5
  },
  {
   "metadata": {},
   "cell_type": "code",
   "outputs": [],
   "execution_count": null,
   "source": [
    "for i in range(2, 10, 2):  # Start=2, Stop=10, Step=2\n",
    "    print(i, end=\" \")"
   ],
   "id": "ecb6114c8b6c54e3"
  },
  {
   "metadata": {},
   "cell_type": "markdown",
   "source": "Defining your own functions:",
   "id": "7a13ea7a084f8f06"
  },
  {
   "metadata": {},
   "cell_type": "code",
   "outputs": [],
   "execution_count": null,
   "source": [
    "def beer_garden_time(current_hour, sunset_hour=21):\n",
    "\n",
    "    if current_hour >= sunset_hour:\n",
    "        return \"Too late! The sun has already set. Better luck tomorrow.\"\n",
    "    \n",
    "    hours_left = sunset_hour - current_hour\n",
    "    return f\"You have {hours_left} hours left to enjoy your beer in the sun!!️\"\n",
    "\n",
    "# Example usage\n",
    "print(beer_garden_time(18))\n",
    "print(beer_garden_time(22))"
   ],
   "id": "fb926033e6e78069"
  },
  {
   "metadata": {},
   "cell_type": "markdown",
   "source": "If you want to look up a function, use `help(function)`:",
   "id": "b5cff358e4a7b4a5"
  },
  {
   "metadata": {},
   "cell_type": "code",
   "outputs": [],
   "execution_count": null,
   "source": "help(max)",
   "id": "d743594c46f5e441"
  }
 ],
 "metadata": {
  "kernelspec": {
   "display_name": "Python 3",
   "language": "python",
   "name": "python3"
  },
  "language_info": {
   "codemirror_mode": {
    "name": "ipython",
    "version": 2
   },
   "file_extension": ".py",
   "mimetype": "text/x-python",
   "name": "python",
   "nbconvert_exporter": "python",
   "pygments_lexer": "ipython2",
   "version": "2.7.6"
  }
 },
 "nbformat": 4,
 "nbformat_minor": 5
}
