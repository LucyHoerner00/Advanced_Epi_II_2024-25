{
 "cells": [
  {
   "metadata": {},
   "cell_type": "markdown",
   "source": [
    "## Exercise: Writing functions\n",
    "In the following, you will write three functions in which you integrate the previously learned content."
   ],
   "id": "83c3c567914bf017"
  },
  {
   "metadata": {},
   "cell_type": "markdown",
   "source": [
    "### Function 1: Beergarden capacity\n",
    "\n",
    "Write a function `beer_garden_capacity(guests, tables)` that calculates whether there are enough seats in a beer garden.\n",
    "\n",
    "Each table has 8 seats.\n",
    "The function should return:\n",
    "- `“There are enough tables!”` → if there is enough space.\n",
    "- `“Not enough tables, find another beer garden!”` → if there are more guests than seats."
   ],
   "id": "2dea4c09a812a91b"
  },
  {
   "metadata": {},
   "cell_type": "code",
   "outputs": [],
   "execution_count": null,
   "source": "",
   "id": "6d0e85b58d23536f"
  },
  {
   "metadata": {},
   "cell_type": "code",
   "outputs": [],
   "execution_count": null,
   "source": [
    "# Example calls\n",
    "print(beer_garden_capacity(40, 6))  # \"There are enough tables!\"\n",
    "print(beer_garden_capacity(50, 5))  # \"Not enough tables, find another beer garden!\""
   ],
   "id": "4c8d83ff20a41334"
  },
  {
   "metadata": {},
   "cell_type": "markdown",
   "source": [
    "### Function 2: Isar swimming warning\n",
    "Write a function `isar_swimming_warning(temp, flow_rate)` that outputs a warning whether the Isar is too dangerous for swimmers.\n",
    "\n",
    "- If the water temperature is below 15°C, the function should return `“Warning: The Isar is too cold! ❄️”` should be returned.\n",
    "- If the flow velocity is above 300 m³/s, the function `“Warning: The current is too strong! 🌊”` should be returned.\n",
    "- If both apply, the function `“Danger! The Isar is too cold and too strong! ⚠️”`.\n",
    "- If everything is fine, it returns `“Safe to swim! Enjoy the Isar! 🏊‍♂️”`."
   ],
   "id": "a710041a520f2564"
  },
  {
   "metadata": {},
   "cell_type": "code",
   "outputs": [],
   "execution_count": null,
   "source": "",
   "id": "d36359a841e3ad73"
  },
  {
   "metadata": {},
   "cell_type": "code",
   "outputs": [],
   "execution_count": null,
   "source": [
    "print(isar_swimming_warning(14, 250))  # \"Warning: The Isar is too cold! ❄️\"\n",
    "print(isar_swimming_warning(16, 320))  # \"Warning: The current is too strong! 🌊\"\n",
    "print(isar_swimming_warning(12, 350))  # \"Danger! The Isar is too cold and too strong! ⚠️\"\n",
    "print(isar_swimming_warning(18, 280))  # \"Safe to swim! Enjoy the Isar! 🏊‍♂️\""
   ],
   "id": "b57cfa5a00c137ca"
  },
  {
   "metadata": {},
   "cell_type": "markdown",
   "source": [
    "### Function 3: Flu cases\n",
    "Write a function `flu_cases(city_population, infection_rate, days)` that calculates the number of infected people in in several cities in Bavaria over a certain number of days using a simple exponential formula:\n",
    "\n",
    "$$\n",
    "\\text{Infected} = \\text{City population} \\times \\left( 1 - e^{-\\text{Infection rate} \\times \\text{Days}} \\right)\n",
    "$$\n",
    "\n",
    "- The cities and their populations are stored in two lists:\n",
    "    - city_names: Contains the city name (Munich, Nuremberg, Augsburg).\n",
    "    - populations: Contains the respective population figures (1480000, 530000, 300000).\n",
    "- The infection rate indicates how quickly the disease is spreading (e.g. `0.1` for slow spread, `0.3` for fast spread).\n",
    "- The function should round up the calculated number and output it in a formatted string.\n",
    "\n",
    "Note: `math.exp(-rate * days)` calculates the exponential term."
   ],
   "id": "1565a2837c639146"
  },
  {
   "metadata": {},
   "cell_type": "code",
   "outputs": [],
   "execution_count": null,
   "source": "",
   "id": "8614fa0cca264bc7"
  },
  {
   "metadata": {},
   "cell_type": "code",
   "outputs": [],
   "execution_count": null,
   "source": [
    "print(flu_cases(city_names, populations, 0.1, 7))\n",
    "print(flu_cases(city_names, populations, 0.3, 7))"
   ],
   "id": "f88224f7c6e2325a"
  }
 ],
 "metadata": {
  "kernelspec": {
   "display_name": "Python 3",
   "language": "python",
   "name": "python3"
  },
  "language_info": {
   "codemirror_mode": {
    "name": "ipython",
    "version": 2
   },
   "file_extension": ".py",
   "mimetype": "text/x-python",
   "name": "python",
   "nbconvert_exporter": "python",
   "pygments_lexer": "ipython2",
   "version": "2.7.6"
  }
 },
 "nbformat": 4,
 "nbformat_minor": 5
}
