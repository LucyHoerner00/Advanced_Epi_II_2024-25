{
 "cells": [
  {
   "metadata": {},
   "cell_type": "markdown",
   "source": [
    "# Exercise: Predicting Customer Churn with a Neural Network\n",
    "\n",
    "You are provided with a real-world dataset from a telecom company that includes information about their customers, such as services signed up for, contract type, and payment behavior. Your task is to build a simple neural network to predict whether a customer will churn (i.e., leave the company) or not.\n",
    "\n",
    "## Task\n",
    "Build, train, and evaluate a neural network that predicts whether a customer has churned (`Churn` = Yes) or not (`Churn` = No), based on the other available features in the dataset.\n",
    "\n",
    "1. **Drop irrelevant columns**, which have no numerical meaning.\n",
    "2. **Convert columns** to numeric. There may be non-numeric entries; handle them appropriately (e.g. by coercing errors and dropping missing values).\n",
    "3. **Convert the target column** from categorical (\"Yes\"/\"No\") to binary (1/0).\n",
    "4. **Encode categorical features** using the `get_dummies`-function.\n",
    "5. **Prepare your data** before you feed it into your model.\n",
    "6. **Build a neural network** using Keras (e.g., with 1–3 layers) to predict churn.\n",
    "7. **Compile your model** with an appropriate loss function and optimizer.\n",
    "8. **Train your model** on the training data. \n",
    "9. **Evaluate the performance** of your model on the test set and report the test accuracy."
   ],
   "id": "9cf8654c36783a2c"
  },
  {
   "metadata": {},
   "cell_type": "code",
   "outputs": [],
   "execution_count": null,
   "source": [
    "import pandas as pd\n",
    "\n",
    "df = pd.read_csv(\"Telco-Customer-Churn.csv\")"
   ],
   "id": "cf71709349a0df64"
  },
  {
   "metadata": {},
   "cell_type": "code",
   "outputs": [],
   "execution_count": null,
   "source": "",
   "id": "d919e4346e688fb8"
  }
 ],
 "metadata": {
  "kernelspec": {
   "display_name": "Python 3",
   "language": "python",
   "name": "python3"
  },
  "language_info": {
   "codemirror_mode": {
    "name": "ipython",
    "version": 2
   },
   "file_extension": ".py",
   "mimetype": "text/x-python",
   "name": "python",
   "nbconvert_exporter": "python",
   "pygments_lexer": "ipython2",
   "version": "2.7.6"
  }
 },
 "nbformat": 4,
 "nbformat_minor": 5
}
