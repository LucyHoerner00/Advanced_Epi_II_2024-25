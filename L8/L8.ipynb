{
 "cells": [
  {
   "metadata": {},
   "cell_type": "markdown",
   "source": [
    "# Advanced Epi II: Introduction to Python\n",
    "## Lesson 8\n",
    "- Deep Learning\n",
    "---\n",
    "# Introduction to Deep Learning\n",
    "\n",
    "Deep learning is a **powerful machine learning approach** that utilizes **neural networks** to model complex relationships in data.  \n",
    "Unlike traditional models, deep learning can **automatically capture intricate interactions** between features, making it ideal for tasks involving:\n",
    "- **Text** (e.g., Chatbots, Language Translation)  \n",
    "- **Images** (e.g., Object Recognition, Medical Imaging)  \n",
    "- **Videos** (e.g., Self-Driving Cars, Face Detection)  \n",
    "- **Audio** (e.g., Speech Recognition, Music Classification)  \n",
    "- **Source Code & Data Science** (e.g., AI-assisted Coding, Anomaly Detection)\n",
    "\n",
    "**Use cases in public health**:\n",
    "- to predict disease outbreaks.\n",
    "- to recognize risk factors in electronic health records (EHRs) and identify high-risk patients.\n",
    "- Deep reinforcement learning can optimize emergency care strategies.\n",
    "- to analyzes satellite images to map air pollution.\n",
    "- Etc.\n",
    "\n",
    "**Deep learning models go beyond standard predictive models** by identifying complex, nonlinear relationships in data.\n",
    "\n",
    "---\n",
    "\n",
    "**How neural networks work**:\n",
    "A neural network consists of **layers of interconnected nodes (neurons)** that process and transform data:\n",
    "\n",
    "1. **Input Layer**  \n",
    "   - Represents the **predictive features** (e.g., age, income, pixel values in an image).  \n",
    "   - This is the **raw data** the model learns from.  \n",
    "2. **Hidden Layers**\n",
    "   - These layers **learn abstract features** and **model interactions** between inputs.  \n",
    "   - Each node aggregates information and **passes it forward** to the next layer.  \n",
    "   - The **more nodes & layers**, the **more complex interactions** the model captures.  \n",
    "3. **Output Layer**\n",
    "   - Generates the final **prediction** (e.g., fraud detection, object classification).  \n",
    "   - Can be **continuous (regression)** or **categorical (classification)**.\n",
    "\n",
    "![simple neural network](https://impicode.com/wp-content/uploads/sites/2/2020/12/neural_network_layers_diagram..png)\n",
    "\n",
    "**Why Are Hidden Layers Important?**\n",
    "- The **hidden layers** are called **hidden** because their values are **not directly observable** from the input data.\n",
    "- Instead, they represent **learned abstractions** that improve model performance.\n",
    "- The more **hidden layers and nodes**, the **better the model captures complex patterns**.\n",
    "\n",
    "**Example: Predicting Customer Transactions**  \n",
    "- **Input Layer:** Age, Income, Purchase History  \n",
    "- **Hidden Layers:** Learn interactions (e.g., \"Young customers with high income make frequent purchases\").  \n",
    "- **Output Layer:** Predicts the **number of transactions**.  \n",
    "\n",
    "**Why is Deep Learning So Powerful?**\n",
    "- **Automatically captures complex relationships** that traditional models struggle with.  \n",
    "- **Scales to large datasets** and learns from vast amounts of data.  \n",
    "- **Can process any data type**: text, images, audio, and more.  \n",
    "- **Continues improving** with more data and computational power.  "
   ],
   "id": "2fe08352bca2d076"
  },
  {
   "metadata": {},
   "cell_type": "markdown",
   "source": [
    "### Forward Propagation in Neural Networks\n",
    "\n",
    "Neural networks which move from left to right through the network to make predictions, use a **Forward Propagation Algorithm**. At each step, a **matrix multiplication (dot product)** and sum of the values is performed.\n",
    "\n",
    "**Example: Predicting Bank Transactions**\n",
    "We want to predict how many transactions a customer will make at our bank. For this, we use two input variables:\n",
    "- **Number of children the customer has**\n",
    "- **Number of existing accounts**\n",
    "\n",
    "In our example, the customer has **2 children** and **3 accounts**.\n",
    "\n",
    "![example neural network](https://datascience103579984.wordpress.com/wp-content/uploads/2019/09/capture4-4.png)\n",
    "\n",
    "Each connection between layers has a **weight**, which indicates how strongly an input feature influences a particular hidden neuron.\n",
    "\n",
    "In our example, we have the following weights:\n",
    "- From the first input to the top neuron in the hidden layer: **1**\n",
    "- From the second input to the top neuron in the hidden layer: **1**\n",
    "- From the first input to the bottom neuron in the hidden layer: **-1**\n",
    "- From the second input to the bottom neuron in the hidden layer: **1**\n",
    "- From the top hidden neuron to the output: **2**\n",
    "- From the bottom hidden neuron to the output: **-1**\n",
    "\n",
    "To compute the value of a neuron in the hidden layer, **multiply** each input by its respective weight and **sum** the results:\n",
    "\n",
    "**Top Hidden Neuron:**\n",
    "$\n",
    "(2 \\times 1) + (3 \\times 1) = 2 + 3 = 5\n",
    "$\n",
    "\n",
    "**Bottom Hidden Neuron:**\n",
    "$\n",
    "(2 \\times -1) + (3 \\times 1) = -2 + 3 = 1\n",
    "$\n",
    "\n",
    "Now, we perform the same computation for the **output neuron**:\n",
    "\n",
    "$\n",
    "(5 \\times 2) + (1 \\times -1) = 10 - 1 = 9\n",
    "$\n",
    "\n",
    "The model predicts that the customer will make **9 transactions**."
   ],
   "id": "5b6842aee23a9242"
  },
  {
   "metadata": {
    "ExecuteTime": {
     "end_time": "2025-03-24T12:53:44.416366Z",
     "start_time": "2025-03-24T12:53:44.410303Z"
    }
   },
   "cell_type": "code",
   "source": [
    "import numpy as np\n",
    "\n",
    "input_data = np.array([3, 5])   \n",
    "weights = {'node_0': np.array([2, 4]), 'node_1': np.array([ 4, -5]), 'output': np.array([2, 7])}"
   ],
   "id": "e6e0450f8dfd491d",
   "outputs": [],
   "execution_count": 29
  },
  {
   "metadata": {},
   "cell_type": "markdown",
   "source": "![simple network example](https://assets.datacamp.com/production/course_3524/datasets/1_4.png)\n",
   "id": "706118d0fcb09300"
  },
  {
   "metadata": {
    "ExecuteTime": {
     "end_time": "2025-03-24T12:53:47.057347Z",
     "start_time": "2025-03-24T12:53:47.053704Z"
    }
   },
   "cell_type": "code",
   "source": [
    "# Calculate node 0 value: node_0_value\n",
    "node_0_value = (input_data * weights[\"node_0\"]).sum()\n",
    "\n",
    "# Calculate node 1 value: node_1_value\n",
    "node_1_value = (input_data * weights[\"node_1\"]).sum()\n",
    "\n",
    "# Put node values into array: hidden_layer_outputs\n",
    "hidden_layer_outputs = np.array([node_0_value, node_1_value])\n",
    "\n",
    "# Calculate output: output\n",
    "output = (hidden_layer_outputs * weights[\"output\"]).sum()\n",
    "\n",
    "# Print output\n",
    "print(output)"
   ],
   "id": "efbcc19dda3fe56e",
   "outputs": [
    {
     "name": "stdout",
     "output_type": "stream",
     "text": [
      "-39\n"
     ]
    }
   ],
   "execution_count": 30
  },
  {
   "metadata": {},
   "cell_type": "markdown",
   "source": [
    "### Activation Functions in Neural Networks\n",
    "\n",
    "When building neural networks, the **multiply-add process** in the hidden layers is only half the story. To unlock the full predictive power of neural networks, we need to apply something called an **activation function** in the hidden layers.\n",
    "\n",
    "An **activation function** allows the model to capture **non-linear** relationships in the data. \n",
    "- **Linear relationships** can be represented with straight-line functions.\n",
    "- **Non-linear relationships** capture more complex patterns.\n",
    "\n",
    "![linear vs. non-linear](https://datascience103579984.wordpress.com/wp-content/uploads/2019/09/capture5-4.png)\n",
    "\n",
    "For example:\n",
    "- Going from **zero to one child** may impact banking transactions **differently** than going from **three to four children**. \n",
    "- A simple **linear transformation** would fail to capture such differences. \n",
    "- Instead, **non-linear activation functions** help model these interactions effectively.\n",
    "\n",
    "An activation function is applied to the value coming into a node. It **transforms** this value before passing it to the next layer. \n",
    "\n",
    "Without activation functions, a neural network would just be a **series of linear transformations**, meaning it could only model straight-line relationships. Activation functions introduce the necessary **non-linearity** to make deep learning models powerful.\n",
    "\n",
    "Today, the most widely used activation function in both industry and research is the **ReLU (Rectified Linear Unit)**:\n",
    "\n",
    "![ReLu function](https://www.nomidl.com/wp-content/uploads/2022/04/image-10.png)\n",
    "\n",
    "- Despite being composed of **two linear parts**, ReLU is surprisingly **powerful** when stacked across multiple hidden layers.\n",
    "- ReLU allows networks to **learn complex patterns** while being computationally efficient.\n",
    "\n",
    "The ReLu function takes a single number as an input, returning 0 if the input is negative, and the input if the input is positive."
   ],
   "id": "211f542858311178"
  },
  {
   "metadata": {
    "ExecuteTime": {
     "end_time": "2025-03-25T09:21:13.246840Z",
     "start_time": "2025-03-25T09:21:13.238917Z"
    }
   },
   "cell_type": "code",
   "source": [
    "def relu(input):\n",
    "    '''Define your relu activation function here'''\n",
    "    # Calculate the value for the output of the relu function: output\n",
    "    output = max(0, input)\n",
    "    \n",
    "    # Return the value just calculated\n",
    "    return(output)\n",
    "\n",
    "# Calculate node 0 value: node_0_output\n",
    "node_0_input = (input_data * weights['node_0']).sum()\n",
    "node_0_output = relu(node_0_input)\n",
    "\n",
    "# Calculate node 1 value: node_1_output\n",
    "node_1_input = (input_data * weights['node_1']).sum()\n",
    "node_1_output = relu(node_1_input)\n",
    "\n",
    "# Put node values into array: hidden_layer_outputs\n",
    "hidden_layer_outputs = np.array([node_0_output, node_1_output])\n",
    "\n",
    "# Calculate model output (do not apply relu)\n",
    "model_output = (hidden_layer_outputs * weights['output']).sum()\n",
    "\n",
    "# Print model output\n",
    "print(model_output)"
   ],
   "id": "6ca62df517fab5a0",
   "outputs": [
    {
     "name": "stdout",
     "output_type": "stream",
     "text": [
      "52\n"
     ]
    }
   ],
   "execution_count": 53
  },
  {
   "metadata": {},
   "cell_type": "markdown",
   "source": [
    "A few years ago, **15-layer neural networks** were considered state of the art. Today, this number can **scale naturally to hundreds or even thousands of layers**! The core idea remains the same: \n",
    "- We **apply forward propagation** iteratively through multiple layers.\n",
    "- The **more layers** we have, the **more complex** patterns the model can learn.\n",
    "\n",
    "A key insight in deep learning is that neural networks **internally build up representations** of the patterns in data that are useful for making predictions.\n",
    "- As we go through successive **hidden layers**, the network learns **increasingly complex patterns**.\n",
    "- This process **reduces** the need for **manual feature engineering** (where humans define predictive features).\n",
    "- Because of this, **deep learning is often called \"representation learning\"**.\n",
    "\n",
    "To better understand this, let's consider how a deep neural network processes an **image**:\n",
    "\n",
    "![neural network on images](https://datascience103579984.wordpress.com/wp-content/uploads/2019/09/capture9.png)\n",
    "\n",
    "1. **First Hidden Layers:** Detect **basic patterns** in the image:\n",
    "   - Nearby pixels\n",
    "   - Simple shapes like **diagonal lines, horizontal lines, vertical lines, or blurry areas**.\n",
    "2. **Middle Layers:** Identify **combinations of basic patterns**:\n",
    "   - Combine lines into **bigger structures**, such as squares or curves.\n",
    "3. **Deeper Layers:** Recognize **high-level patterns**:\n",
    "   - Detect **checkerboard textures, faces, cars, or any other meaningful objects**.\n",
    "\n",
    "The **model automatically discovers** these features—**we don’t explicitly program it to look for diagonal lines or squares**. Instead, as we **train the model** , it **adjusts its weights** to find the most relevant patterns.\n"
   ],
   "id": "41db5f6d51b8a29f"
  },
  {
   "metadata": {},
   "cell_type": "markdown",
   "source": "![multi-layer neural network](https://assets.datacamp.com/production/course_3524/datasets/ch1ex10.png)",
   "id": "3a9a3b413929013"
  },
  {
   "metadata": {
    "ExecuteTime": {
     "end_time": "2025-03-25T09:24:56.026666Z",
     "start_time": "2025-03-25T09:24:56.019569Z"
    }
   },
   "cell_type": "code",
   "source": [
    "input_data = np.array([3, 5])\n",
    "weights = {'node_0_0': np.array([2, 4]),\n",
    "           'node_0_1': np.array([ 4, -5]),\n",
    "           'node_1_0': np.array([-1,  2]),\n",
    "           'node_1_1': np.array([1, 2]),\n",
    "           'output': np.array([2, 7])}\n",
    "\n",
    "def predict_with_network(input_data):\n",
    "    # Calculate node 0 in the first hidden layer\n",
    "    node_0_0_input = (input_data * weights[\"node_0_0\"]).sum()\n",
    "    node_0_0_output = relu(node_0_0_input)\n",
    "\n",
    "    # Calculate node 1 in the first hidden layer\n",
    "    node_0_1_input = (input_data * weights[\"node_0_1\"]).sum()\n",
    "    node_0_1_output = relu(node_0_1_input)\n",
    "\n",
    "    # Put node values into array: hidden_0_outputs\n",
    "    hidden_0_outputs = np.array([node_0_0_output, node_0_1_output])\n",
    "    \n",
    "    # Calculate node 0 in the second hidden layer\n",
    "    node_1_0_input = (hidden_0_outputs * weights[\"node_1_0\"]).sum()\n",
    "    node_1_0_output = relu(node_1_0_input)\n",
    "\n",
    "    # Calculate node 1 in the second hidden layer\n",
    "    node_1_1_input = (hidden_0_outputs * weights[\"node_1_1\"]).sum()\n",
    "    node_1_1_output = relu(node_1_1_input)\n",
    "\n",
    "    # Put node values into array: hidden_1_outputs\n",
    "    hidden_1_outputs = np.array([node_1_0_output, node_1_1_output])\n",
    "\n",
    "    # Calculate model output: model_output\n",
    "    model_output = (hidden_1_outputs *weights[\"output\"]).sum()\n",
    "    \n",
    "    # Return model_output\n",
    "    return(model_output)\n",
    "\n",
    "output = predict_with_network(input_data)\n",
    "print(output)"
   ],
   "id": "1c4f710e8c3bc24d",
   "outputs": [
    {
     "name": "stdout",
     "output_type": "stream",
     "text": [
      "182\n"
     ]
    }
   ],
   "execution_count": 54
  },
  {
   "metadata": {},
   "cell_type": "markdown",
   "source": [
    "### Loss Functions & Gradient Descent: How Neural Networks Learn\n",
    "\n",
    "Just because a model has the **structure of a neural network** does **not** guarantee **good predictions**. In fact, the challenge of making accurate predictions increases as we deal with **more complex data points**. At any given set of weights, a neural network makes **many predictions**, each with some **error**. \n",
    "To measure how well the network is performing, we use a **loss function**, which **aggregates all individual errors into a single score**.\n",
    "\n",
    "One of the most common loss functions in **regression** tasks is **Mean Squared Error (MSE)**:\n",
    "\n",
    "$\n",
    "MSE = \\frac{1}{n} \\sum_{i=1}^{n} (y_i - \\hat{y}_i)^2\n",
    "$\n",
    "- We take each error $(y_i - \\hat{y}_i)$, **square it**, and compute the **average**.\n",
    "- A **lower MSE** means a **better model**.\n",
    "\n",
    "Our goal is to **find the weights** that minimize the **loss function**.\n",
    "\n",
    "Imagine you are in a **pitch-dark field**, and you need to find the **lowest point**. What do you do?\n",
    "1. Feel the ground to see **which direction slopes downward**.  \n",
    "2. Take a **small step downhill**.  \n",
    "3. Repeat this process until you reach a point where **all directions slope upward** (a minimum).\n",
    "\n",
    "This is exactly how **gradient descent** works:\n",
    "- The algorithm **computes the slope** (gradient) of the loss function.\n",
    "- It **adjusts the weights** step by step in the **downhill direction** to **minimize the loss**.\n",
    "- Eventually, the algorithm **converges to the lowest loss possible**."
   ],
   "id": "cf076cec3902721a"
  },
  {
   "metadata": {},
   "cell_type": "markdown",
   "source": "![next example](https://assets.datacamp.com/production/course_3524/datasets/ch2ex4.png)",
   "id": "a974acafee43ae25"
  },
  {
   "metadata": {
    "ExecuteTime": {
     "end_time": "2025-03-25T09:27:09.429344Z",
     "start_time": "2025-03-25T09:27:09.421831Z"
    }
   },
   "cell_type": "code",
   "source": [
    "def predict_with_network(input_data, weights):\n",
    "    # Beispielcode für einen 2-Schicht-Netzwerk\n",
    "    node_0_input = (input_data * weights['node_0']).sum()\n",
    "    node_0_output = node_0_input  # keine Aktivierungsfunktion\n",
    "\n",
    "    node_1_input = (input_data * weights['node_1']).sum()\n",
    "    node_1_output = node_1_input\n",
    "\n",
    "    hidden_layer_outputs = np.array([node_0_output, node_1_output])\n",
    "\n",
    "    model_output = (hidden_layer_outputs * weights['output']).sum()\n",
    "\n",
    "    return model_output"
   ],
   "id": "423994b721d4158a",
   "outputs": [],
   "execution_count": 55
  },
  {
   "metadata": {
    "ExecuteTime": {
     "end_time": "2025-03-25T09:35:40.646834Z",
     "start_time": "2025-03-25T09:35:40.642656Z"
    }
   },
   "cell_type": "code",
   "source": [
    "# The data point you will make a prediction for\n",
    "input_data = np.array([0, 3])\n",
    "\n",
    "# Sample weights\n",
    "weights_0 = {'node_0': np.array([2, 1]),\n",
    "             'node_1': np.array([1, 2]),\n",
    "             'output': np.array([1, 1])\n",
    "            }\n",
    "\n",
    "# The actual target value, used to calculate the error\n",
    "target_actual = 3\n",
    "\n",
    "# Make prediction using original weights\n",
    "model_output_0 = predict_with_network(input_data, weights_0)\n",
    "\n"
   ],
   "id": "4c296bdd9ef634f8",
   "outputs": [],
   "execution_count": 62
  },
  {
   "metadata": {
    "ExecuteTime": {
     "end_time": "2025-03-25T09:35:41.088252Z",
     "start_time": "2025-03-25T09:35:41.084705Z"
    }
   },
   "cell_type": "code",
   "source": "model_output_0",
   "id": "5f380315da04a636",
   "outputs": [
    {
     "data": {
      "text/plain": [
       "np.int64(9)"
      ]
     },
     "execution_count": 63,
     "metadata": {},
     "output_type": "execute_result"
    }
   ],
   "execution_count": 63
  },
  {
   "metadata": {
    "ExecuteTime": {
     "end_time": "2025-03-25T09:37:15.125949Z",
     "start_time": "2025-03-25T09:37:15.112276Z"
    }
   },
   "cell_type": "code",
   "source": [
    "# Calculate error: error_0\n",
    "error_0 = model_output_0 - target_actual\n",
    "\n",
    "# Create weights that cause the network to make perfect prediction (3): weights_1\n",
    "weights_1 = {'node_0': np.array([2, 1]),\n",
    "             'node_1': np.array([1, 2]),\n",
    "             'output': np.array([1, 0])\n",
    "            }\n",
    "\n",
    "# Make prediction using new weights: model_output_1\n",
    "model_output_1 = predict_with_network(input_data, weights_1)\n",
    "\n",
    "# Calculate error: error_1\n",
    "error_1 = model_output_1 - target_actual\n",
    "\n",
    "# Print error_0 and error_1\n",
    "print(error_0)\n",
    "print(error_1)"
   ],
   "id": "44e559bd7f5c2fb9",
   "outputs": [
    {
     "name": "stdout",
     "output_type": "stream",
     "text": [
      "6\n",
      "0\n"
     ]
    }
   ],
   "execution_count": 65
  },
  {
   "metadata": {},
   "cell_type": "markdown",
   "source": "Measure accuracy for each set of weights:",
   "id": "d1110f73fc04c746"
  },
  {
   "metadata": {
    "ExecuteTime": {
     "end_time": "2025-03-25T09:38:58.151213Z",
     "start_time": "2025-03-25T09:38:58.145951Z"
    }
   },
   "cell_type": "code",
   "source": [
    "from sklearn.metrics import mean_squared_error\n",
    "\n",
    "input_data = [np.array([0, 3]), \n",
    "              np.array([1, 2]), \n",
    "              np.array([-1, -2]), \n",
    "              np.array([4, 0])]\n",
    "\n",
    "target_actuals = [1, 3, 5, 7]\n",
    "\n",
    "weights_0 = {'node_0': np.array([2, 1]), \n",
    "             'node_1': np.array([1, 2]), \n",
    "             'output': np.array([1, 1])}\n",
    "\n",
    "weights_1 = {'node_0': np.array([2, 1]), \n",
    "              'node_1': np.array([1, 2]),\n",
    "              'output': np.array([1, 0])}\n",
    "\n",
    "# Create model_output_0 \n",
    "model_output_0 = []\n",
    "# Create model_output_1\n",
    "model_output_1 = []\n",
    "\n",
    "# Loop over input_data\n",
    "for row in input_data:\n",
    "    # Append prediction to model_output_0\n",
    "    model_output_0.append(predict_with_network(row, weights_0))\n",
    "    \n",
    "    # Append prediction to model_output_1\n",
    "    model_output_1.append(predict_with_network(row, weights_1))\n",
    "\n",
    "# Calculate the mean squared error for model_output_0: mse_0\n",
    "mse_0 = mean_squared_error(target_actuals, model_output_0)\n",
    "\n",
    "# Calculate the mean squared error for model_output_1: mse_1\n",
    "mse_1 = mean_squared_error(target_actuals, model_output_1)\n",
    "\n",
    "# Print mse_0 and mse_1\n",
    "print(\"Mean squared error with weights_0: %f\" %mse_0)\n",
    "print(\"Mean squared error with weights_1: %f\" %mse_1)"
   ],
   "id": "cda4c368b4e4e2e2",
   "outputs": [
    {
     "name": "stdout",
     "output_type": "stream",
     "text": [
      "Mean squared error with weights_0: 80.250000\n",
      "Mean squared error with weights_1: 21.750000\n"
     ]
    }
   ],
   "execution_count": 67
  },
  {
   "metadata": {},
   "cell_type": "markdown",
   "source": [
    "When plotting the mean-squared error loss function against predictions, the slope is $2 * x * (xb-y)$, or `2 * input_data * error`. Note that x and b may have multiple numbers (x is a vector for each data point, and b is a vector). If we add the slopes to your weights, we will move in the right direction. However, it's possible to move too far in that direction. So we  want to take a small step in that direction first, using a lower learning rate, and verify that the model is improving:\n",
    "\n",
    "![gradient descent](https://cdn.analyticsvidhya.com/wp-content/uploads/2024/09/631731_P7z2BKhd0R-9uyn9ThDasA.webp)"
   ],
   "id": "1d310e58af4433f6"
  },
  {
   "metadata": {
    "ExecuteTime": {
     "end_time": "2025-03-25T09:42:59.837510Z",
     "start_time": "2025-03-25T09:42:59.833987Z"
    }
   },
   "cell_type": "code",
   "source": [
    "import numpy as np\n",
    "\n",
    "input_data = np.array([1, 2, 3])\n",
    "weights = np.array([0, 2, 1])\n",
    "target = 0\n",
    "\n",
    "# Set the learning rate: learning_rate\n",
    "learning_rate = 0.01\n",
    "\n",
    "# Calculate the predictions: preds\n",
    "preds = (weights * input_data).sum()\n",
    "\n",
    "# Calculate the error: error\n",
    "error = preds - target\n",
    "\n",
    "# Calculate the slope: slope\n",
    "slope = 2 * input_data * error\n",
    "\n",
    "# Update the weights: weights_updated\n",
    "weights_updated = weights - learning_rate * slope\n",
    "\n",
    "# Get updated predictions: preds_updated\n",
    "preds_updated = (weights_updated * input_data).sum()\n",
    "\n",
    "# Calculate updated error: error_updated\n",
    "error_updated = preds_updated - target\n",
    "\n",
    "# Print the original error\n",
    "print(error)\n",
    "\n",
    "# Print the updated error\n",
    "print(error_updated)"
   ],
   "id": "9b37ffd396f81f6f",
   "outputs": [
    {
     "name": "stdout",
     "output_type": "stream",
     "text": [
      "7\n",
      "5.04\n"
     ]
    }
   ],
   "execution_count": 70
  },
  {
   "metadata": {},
   "cell_type": "markdown",
   "source": "![updated error](data:image/svg+xml;base64,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)",
   "id": "45295bb62748e39b"
  },
  {
   "metadata": {},
   "cell_type": "markdown",
   "source": [
    "## The Keras Workflow: Building and Training a Neural Network\n",
    "\n",
    "Keras makes it easy to build and train deep learning models. The workflow consists of **4 key steps**:\n",
    "\n",
    "1. **Specify the Architecture**\n",
    "\n",
    "Before training a neural network, we need to define its structure. This involves:\n",
    "- **Number of layers** – How deep should the network be?\n",
    "- **Number of nodes per layer** – How many nodes in each layer?\n",
    "- **Activation functions** – What functions will be applied to transform inputs?\n",
    "\n",
    "2. **Compile the Model**\n",
    "\n",
    "Once the architecture is defined, the model needs to be compiled. This step involves:\n",
    "- **Defining a loss function** – Measures how far predictions are from the actual values.\n",
    "- **Choosing an optimizer** – Determines how the model updates weights to minimize loss.\n",
    "\n",
    "3. **Fit the Model (Training)**\n",
    "\n",
    "The model is trained using **backpropagation and optimization**. This involves:\n",
    "- **Passing the data through the network**\n",
    "- **Calculating the error using the loss function**\n",
    "- **Updating the weights using gradient descent**  \n",
    "This process is repeated for multiple epochs to improve accuracy.\n",
    "\n",
    "4. **Make Predictions**\n",
    "\n",
    "Once trained, the model can be used to **make predictions on new data**.\n",
    "\n"
   ],
   "id": "82e320e45e82bf7f"
  },
  {
   "metadata": {
    "ExecuteTime": {
     "end_time": "2025-03-25T09:53:22.120428Z",
     "start_time": "2025-03-25T09:53:22.112685Z"
    }
   },
   "cell_type": "code",
   "source": [
    "import pandas as pd\n",
    "import numpy as np\n",
    "\n",
    "df = pd.read_csv('hourly_wages.csv')\n",
    "df.head()"
   ],
   "id": "907ea569efb11ff1",
   "outputs": [
    {
     "data": {
      "text/plain": [
       "   wage_per_hour  union  education_yrs  experience_yrs  age  female  marr  \\\n",
       "0           5.10      0              8              21   35       1     1   \n",
       "1           4.95      0              9              42   57       1     1   \n",
       "2           6.67      0             12               1   19       0     0   \n",
       "3           4.00      0             12               4   22       0     0   \n",
       "4           7.50      0             12              17   35       0     1   \n",
       "\n",
       "   south  manufacturing  construction  \n",
       "0      0              1             0  \n",
       "1      0              1             0  \n",
       "2      0              1             0  \n",
       "3      0              0             0  \n",
       "4      0              0             0  "
      ],
      "text/html": [
       "<div>\n",
       "<style scoped>\n",
       "    .dataframe tbody tr th:only-of-type {\n",
       "        vertical-align: middle;\n",
       "    }\n",
       "\n",
       "    .dataframe tbody tr th {\n",
       "        vertical-align: top;\n",
       "    }\n",
       "\n",
       "    .dataframe thead th {\n",
       "        text-align: right;\n",
       "    }\n",
       "</style>\n",
       "<table border=\"1\" class=\"dataframe\">\n",
       "  <thead>\n",
       "    <tr style=\"text-align: right;\">\n",
       "      <th></th>\n",
       "      <th>wage_per_hour</th>\n",
       "      <th>union</th>\n",
       "      <th>education_yrs</th>\n",
       "      <th>experience_yrs</th>\n",
       "      <th>age</th>\n",
       "      <th>female</th>\n",
       "      <th>marr</th>\n",
       "      <th>south</th>\n",
       "      <th>manufacturing</th>\n",
       "      <th>construction</th>\n",
       "    </tr>\n",
       "  </thead>\n",
       "  <tbody>\n",
       "    <tr>\n",
       "      <th>0</th>\n",
       "      <td>5.10</td>\n",
       "      <td>0</td>\n",
       "      <td>8</td>\n",
       "      <td>21</td>\n",
       "      <td>35</td>\n",
       "      <td>1</td>\n",
       "      <td>1</td>\n",
       "      <td>0</td>\n",
       "      <td>1</td>\n",
       "      <td>0</td>\n",
       "    </tr>\n",
       "    <tr>\n",
       "      <th>1</th>\n",
       "      <td>4.95</td>\n",
       "      <td>0</td>\n",
       "      <td>9</td>\n",
       "      <td>42</td>\n",
       "      <td>57</td>\n",
       "      <td>1</td>\n",
       "      <td>1</td>\n",
       "      <td>0</td>\n",
       "      <td>1</td>\n",
       "      <td>0</td>\n",
       "    </tr>\n",
       "    <tr>\n",
       "      <th>2</th>\n",
       "      <td>6.67</td>\n",
       "      <td>0</td>\n",
       "      <td>12</td>\n",
       "      <td>1</td>\n",
       "      <td>19</td>\n",
       "      <td>0</td>\n",
       "      <td>0</td>\n",
       "      <td>0</td>\n",
       "      <td>1</td>\n",
       "      <td>0</td>\n",
       "    </tr>\n",
       "    <tr>\n",
       "      <th>3</th>\n",
       "      <td>4.00</td>\n",
       "      <td>0</td>\n",
       "      <td>12</td>\n",
       "      <td>4</td>\n",
       "      <td>22</td>\n",
       "      <td>0</td>\n",
       "      <td>0</td>\n",
       "      <td>0</td>\n",
       "      <td>0</td>\n",
       "      <td>0</td>\n",
       "    </tr>\n",
       "    <tr>\n",
       "      <th>4</th>\n",
       "      <td>7.50</td>\n",
       "      <td>0</td>\n",
       "      <td>12</td>\n",
       "      <td>17</td>\n",
       "      <td>35</td>\n",
       "      <td>0</td>\n",
       "      <td>1</td>\n",
       "      <td>0</td>\n",
       "      <td>0</td>\n",
       "      <td>0</td>\n",
       "    </tr>\n",
       "  </tbody>\n",
       "</table>\n",
       "</div>"
      ]
     },
     "execution_count": 5,
     "metadata": {},
     "output_type": "execute_result"
    }
   ],
   "execution_count": 5
  },
  {
   "metadata": {
    "ExecuteTime": {
     "end_time": "2025-03-25T09:53:22.931958Z",
     "start_time": "2025-03-25T09:53:22.926681Z"
    }
   },
   "cell_type": "code",
   "source": [
    "predictors = np.array(df.drop(\"wage_per_hour\", axis=1))\n",
    "predictors"
   ],
   "id": "48925a9234b0274f",
   "outputs": [
    {
     "data": {
      "text/plain": [
       "array([[ 0,  8, 21, ...,  0,  1,  0],\n",
       "       [ 0,  9, 42, ...,  0,  1,  0],\n",
       "       [ 0, 12,  1, ...,  0,  1,  0],\n",
       "       ...,\n",
       "       [ 1, 17, 25, ...,  0,  0,  0],\n",
       "       [ 1, 12, 13, ...,  1,  0,  0],\n",
       "       [ 0, 16, 33, ...,  0,  1,  0]])"
      ]
     },
     "execution_count": 6,
     "metadata": {},
     "output_type": "execute_result"
    }
   ],
   "execution_count": 6
  },
  {
   "metadata": {
    "ExecuteTime": {
     "end_time": "2025-03-25T09:53:23.729465Z",
     "start_time": "2025-03-25T09:53:23.724363Z"
    }
   },
   "cell_type": "code",
   "source": [
    "target = np.array(df['wage_per_hour'])\n",
    "target"
   ],
   "id": "50bb1d57ce2f5094",
   "outputs": [
    {
     "data": {
      "text/plain": [
       "array([ 5.1 ,  4.95,  6.67,  4.  ,  7.5 , 13.07,  4.45, 19.47, 13.28,\n",
       "        8.75, 11.35, 11.5 ,  6.5 ,  6.25, 19.98,  7.3 ,  8.  , 22.2 ,\n",
       "        3.65, 20.55,  5.71,  7.  ,  3.75,  4.5 ,  9.56,  5.75,  9.36,\n",
       "        6.5 ,  3.35,  4.75,  8.9 ,  4.  ,  4.7 ,  5.  ,  9.25, 10.67,\n",
       "        7.61, 10.  ,  7.5 , 12.2 ,  3.35, 11.  , 12.  ,  4.85,  4.3 ,\n",
       "        6.  , 15.  ,  4.85,  9.  ,  6.36,  9.15, 11.  ,  4.5 ,  4.8 ,\n",
       "        4.  ,  5.5 ,  8.4 ,  6.75, 10.  ,  5.  ,  6.5 , 10.75,  7.  ,\n",
       "       11.43,  4.  ,  9.  , 13.  , 12.22,  6.28,  6.75,  3.35, 16.  ,\n",
       "        5.25,  3.5 ,  4.22,  3.  ,  4.  , 10.  ,  5.  , 16.  , 13.98,\n",
       "       13.26,  6.1 ,  3.75,  9.  ,  9.45,  5.5 ,  8.93,  6.25,  9.75,\n",
       "        6.73,  7.78,  2.85,  3.35, 19.98,  8.5 ,  9.75, 15.  ,  8.  ,\n",
       "       11.25, 14.  , 10.  ,  6.5 ,  9.83, 18.5 , 12.5 , 26.  , 14.  ,\n",
       "       10.5 , 11.  , 12.47, 12.5 , 15.  ,  6.  ,  9.5 ,  5.  ,  3.75,\n",
       "       12.57,  6.88,  5.5 ,  7.  ,  4.5 ,  6.5 , 12.  ,  5.  ,  6.5 ,\n",
       "        6.8 ,  8.75,  3.75,  4.5 ,  6.  ,  5.5 , 13.  ,  5.65,  4.8 ,\n",
       "        7.  ,  5.25,  3.35,  8.5 ,  6.  ,  6.75,  8.89, 14.21, 10.78,\n",
       "        8.9 ,  7.5 ,  4.5 , 11.25, 13.45,  6.  ,  4.62, 10.58,  5.  ,\n",
       "        8.2 ,  6.25,  8.5 , 24.98, 16.65,  6.25,  4.55, 11.25, 21.25,\n",
       "       12.65,  7.5 , 10.25,  3.35, 13.45,  4.84, 26.29,  6.58, 44.5 ,\n",
       "       15.  , 11.25,  7.  , 10.  , 14.53, 20.  , 22.5 ,  3.64, 10.62,\n",
       "       24.98,  6.  , 19.  , 13.2 , 22.5 , 15.  ,  6.88, 11.84, 16.14,\n",
       "       13.95, 13.16,  5.3 ,  4.5 , 10.  , 10.  , 10.  ,  9.37,  5.8 ,\n",
       "       17.86,  1.  ,  8.8 ,  9.  , 18.16,  7.81, 10.62,  4.5 , 17.25,\n",
       "       10.5 ,  9.22, 15.  , 22.5 ,  4.55,  9.  , 13.33, 15.  ,  7.5 ,\n",
       "        4.25, 12.5 ,  5.13,  3.35, 11.11,  3.84,  6.4 ,  5.56, 10.  ,\n",
       "        5.65, 11.5 ,  3.5 ,  3.35,  4.75, 19.98,  3.5 ,  4.  ,  7.  ,\n",
       "        6.25,  4.5 , 14.29,  5.  , 13.75, 13.71,  7.5 ,  3.8 ,  5.  ,\n",
       "        9.42,  5.5 ,  3.75,  3.5 ,  5.8 , 12.  ,  5.  ,  8.75, 10.  ,\n",
       "        8.5 ,  8.63,  9.  ,  5.5 , 11.11, 10.  ,  5.2 ,  8.  ,  3.56,\n",
       "        5.2 , 11.67, 11.32,  7.5 ,  5.5 ,  5.  ,  7.75,  5.25,  9.  ,\n",
       "        9.65,  5.21,  7.  , 12.16,  5.25, 10.32,  3.35,  7.7 ,  9.17,\n",
       "        8.43,  4.  ,  4.13,  3.  ,  4.25,  7.53, 10.53,  5.  , 15.03,\n",
       "       11.25,  6.25,  3.5 ,  6.85, 12.5 , 12.  ,  6.  ,  9.5 ,  4.1 ,\n",
       "       10.43,  5.  ,  7.69,  5.5 ,  6.4 , 12.5 ,  6.25,  8.  ,  9.6 ,\n",
       "        9.1 ,  7.5 ,  5.  ,  7.  ,  3.55,  8.5 ,  4.5 ,  7.88,  5.25,\n",
       "        5.  ,  9.33, 10.5 ,  7.5 ,  9.5 ,  9.6 ,  5.87, 11.02,  5.  ,\n",
       "        5.62, 12.5 , 10.81,  5.4 ,  7.  ,  4.59,  6.  , 11.71,  5.62,\n",
       "        5.5 ,  4.85,  6.75,  4.25,  5.75,  3.5 ,  3.35, 10.62,  8.  ,\n",
       "        4.75,  8.5 ,  8.85,  8.  ,  6.  ,  7.14,  3.4 ,  6.  ,  3.75,\n",
       "        8.89,  4.35, 13.1 ,  4.35,  3.5 ,  3.8 ,  5.26,  3.35, 16.26,\n",
       "        4.25,  4.5 ,  8.  ,  4.  ,  7.96,  4.  ,  4.15,  5.95,  3.6 ,\n",
       "        8.75,  3.4 ,  4.28,  5.35,  5.  ,  7.65,  6.94,  7.5 ,  3.6 ,\n",
       "        1.75,  3.45,  9.63,  8.49,  8.99,  3.65,  3.5 ,  3.43,  5.5 ,\n",
       "        6.93,  3.51,  3.75,  4.17,  9.57, 14.67, 12.5 ,  5.5 ,  5.15,\n",
       "        8.  ,  5.83,  3.35,  7.  , 10.  ,  8.  ,  6.88,  5.55,  7.5 ,\n",
       "        8.93,  9.  ,  3.5 ,  5.77, 25.  ,  6.85,  6.5 ,  3.75,  3.5 ,\n",
       "        4.5 ,  2.01,  4.17, 13.  ,  3.98,  7.5 , 13.12,  4.  ,  3.95,\n",
       "       13.  ,  9.  ,  4.55,  9.5 ,  4.5 ,  8.75, 10.  , 18.  , 24.98,\n",
       "       12.05, 22.  ,  8.75, 22.2 , 17.25,  6.  ,  8.06,  9.24, 12.  ,\n",
       "       10.61,  5.71, 10.  , 17.5 , 15.  ,  7.78,  7.8 , 10.  , 24.98,\n",
       "       10.28, 15.  , 12.  , 10.58,  5.85, 11.22,  8.56, 13.89,  5.71,\n",
       "       15.79,  7.5 , 11.25,  6.15, 13.45,  6.25,  6.5 , 12.  ,  8.5 ,\n",
       "        8.  ,  5.75, 15.73,  9.86, 13.51,  5.4 ,  6.25,  5.5 ,  5.  ,\n",
       "        6.25,  5.75, 20.5 ,  5.  ,  7.  , 18.  , 12.  , 20.4 , 22.2 ,\n",
       "       16.42,  8.63, 19.38, 14.  , 10.  , 15.95, 20.  , 10.  , 24.98,\n",
       "       11.25, 22.83, 10.2 , 10.  , 14.  , 12.5 ,  5.79, 24.98,  4.35,\n",
       "       11.25,  6.67,  8.  , 18.16, 12.  ,  8.89,  9.5 , 13.65, 12.  ,\n",
       "       15.  , 12.67,  7.38, 15.56,  7.45,  6.25,  6.25,  9.37, 22.5 ,\n",
       "        7.5 ,  7.  ,  5.75,  7.67, 12.5 , 16.  , 11.79, 11.36,  6.1 ,\n",
       "       23.25, 19.88, 15.38])"
      ]
     },
     "execution_count": 7,
     "metadata": {},
     "output_type": "execute_result"
    }
   ],
   "execution_count": 7
  },
  {
   "metadata": {
    "ExecuteTime": {
     "end_time": "2025-03-25T09:53:25.521861Z",
     "start_time": "2025-03-25T09:53:25.467465Z"
    }
   },
   "cell_type": "code",
   "source": [
    "# Import necessary modules\n",
    "from tensorflow.keras.layers import Dense\n",
    "from tensorflow.keras.models import Sequential\n",
    "\n",
    "# Save the number of columns in predictors: n_cols\n",
    "n_cols = predictors.shape[1]\n",
    "\n",
    "# Set up the model: model\n",
    "model = Sequential()\n",
    "\n",
    "# Add the first layer\n",
    "model.add(Dense(50, activation=\"relu\", input_shape=(n_cols,)))\n",
    "\n",
    "# Add the second layer\n",
    "model.add(Dense(32, activation=\"relu\"))\n",
    "\n",
    "# Add the output layer\n",
    "model.add(Dense(1))"
   ],
   "id": "586da8eff30d1710",
   "outputs": [
    {
     "name": "stderr",
     "output_type": "stream",
     "text": [
      "/Users/_ariee_/Library/Caches/JetBrains/PyCharm2024.2/demo/PyCharmLearningProject/venv/lib/python3.9/site-packages/keras/src/layers/core/dense.py:87: UserWarning: Do not pass an `input_shape`/`input_dim` argument to a layer. When using Sequential models, prefer using an `Input(shape)` object as the first layer in the model instead.\n",
      "  super().__init__(activity_regularizer=activity_regularizer, **kwargs)\n"
     ]
    }
   ],
   "execution_count": 8
  },
  {
   "metadata": {},
   "cell_type": "markdown",
   "source": [
    "### Compiling a Neural Network  \n",
    "\n",
    "After specifying a model, the next step is to **compile** it, which prepares the network for optimization by setting up internal functions for efficient back-propagation. The `compile` method has two key arguments that need to be chosen carefully:  \n",
    "\n",
    "1. **Optimizer**: This controls the **learning rate**, which can significantly impact how quickly the model finds optimal weights and even how good those weights ultimately are. A well-chosen learning rate ensures stable and efficient training. There are several optimization algorithms available, but even experts in the field may not be familiar with all their intricacies. A **pragmatic approach** is to choose a **versatile optimizer** that works well in most scenarios. **Adam** is an excellent default choice. It automatically adjusts the learning rate throughout gradient descent to ensure stability and efficiency during weight optimization.  \n",
    "\n",
    "2. **Loss Function**: This function measures how well the model’s predictions match the actual values. For **regression problems**, the most common choice is **Mean Squared Error (MSE)**, which penalizes larger errors more heavily than smaller ones.  \n",
    "\n",
    "Even when using a powerful optimizer like **Adam**, **scaling the data** before training is crucial. Ensuring that all features have similar ranges improves numerical stability and enhances the optimization process, leading to **faster convergence** and **better model performance**.  \n"
   ],
   "id": "caccee143b00b786"
  },
  {
   "metadata": {
    "ExecuteTime": {
     "end_time": "2025-03-25T09:54:37.870627Z",
     "start_time": "2025-03-25T09:54:37.406631Z"
    }
   },
   "cell_type": "code",
   "source": [
    "# Compile the model\n",
    "model.compile(optimizer='adam', loss='mean_squared_error')\n",
    "\n",
    "# Fit the model\n",
    "model.fit(predictors, target)"
   ],
   "id": "84a998b1af225697",
   "outputs": [
    {
     "name": "stdout",
     "output_type": "stream",
     "text": [
      "\u001B[1m17/17\u001B[0m \u001B[32m━━━━━━━━━━━━━━━━━━━━\u001B[0m\u001B[37m\u001B[0m \u001B[1m0s\u001B[0m 1ms/step - loss: 49.1841  \n"
     ]
    },
    {
     "data": {
      "text/plain": [
       "<keras.src.callbacks.history.History at 0x160633c40>"
      ]
     },
     "execution_count": 9,
     "metadata": {},
     "output_type": "execute_result"
    }
   ],
   "execution_count": 9
  },
  {
   "metadata": {},
   "cell_type": "markdown",
   "source": [
    "### Classification models\n",
    "\n",
    "Deep learning can also be used for **classification tasks**, where the goal is to predict outcomes from a set of **discrete options**. However, there are a few key differences in how classification models are set up compared to regression models:  \n",
    "\n",
    "1. **Loss Function**:  \n",
    "   - Instead of using `mean_squared_error` (used for regression), classification models typically use **`categorical_crossentropy`**.  \n",
    "   - This loss function is specifically designed for multi-class classification problems and helps optimize the model for predicting categorical labels.  \n",
    "\n",
    "2. **Accuracy as a Metric**:  \n",
    "   - When compiling the model, you should specify `metrics=['accuracy']`.  \n",
    "   - This ensures that the model prints out the **accuracy score** at the end of each epoch, making it easier to track progress during training.  \n",
    "\n",
    "3. **Modifying the Last Layer**:  \n",
    "   - The **output layer** should have **one node per class**, corresponding to the possible outcomes.  \n",
    "   - The activation function should be **`softmax`**, which ensures that the output values sum to 1. This allows the predictions to be interpreted as **probabilities**, making it easy to determine the most likely class.  \n"
   ],
   "id": "ffa0a2d63fa3f98c"
  },
  {
   "metadata": {
    "ExecuteTime": {
     "end_time": "2025-03-25T10:01:48.417548Z",
     "start_time": "2025-03-25T10:01:48.396005Z"
    }
   },
   "cell_type": "code",
   "source": [
    "import pandas as pd\n",
    "\n",
    "df = pd.read_csv(\"Titanic All Numeric.csv\")\n",
    "df.head()"
   ],
   "id": "1c8415d253caab96",
   "outputs": [
    {
     "data": {
      "text/plain": [
       "   survived  pclass   age  sibsp  parch     fare  male  age_was_missing  \\\n",
       "0         0       3  22.0      1      0   7.2500     1            False   \n",
       "1         1       1  38.0      1      0  71.2833     0            False   \n",
       "2         1       3  26.0      0      0   7.9250     0            False   \n",
       "3         1       1  35.0      1      0  53.1000     0            False   \n",
       "4         0       3  35.0      0      0   8.0500     1            False   \n",
       "\n",
       "   embarked_from_cherbourg  embarked_from_queenstown  \\\n",
       "0                        0                         0   \n",
       "1                        1                         0   \n",
       "2                        0                         0   \n",
       "3                        0                         0   \n",
       "4                        0                         0   \n",
       "\n",
       "   embarked_from_southampton  \n",
       "0                          1  \n",
       "1                          0  \n",
       "2                          1  \n",
       "3                          1  \n",
       "4                          1  "
      ],
      "text/html": [
       "<div>\n",
       "<style scoped>\n",
       "    .dataframe tbody tr th:only-of-type {\n",
       "        vertical-align: middle;\n",
       "    }\n",
       "\n",
       "    .dataframe tbody tr th {\n",
       "        vertical-align: top;\n",
       "    }\n",
       "\n",
       "    .dataframe thead th {\n",
       "        text-align: right;\n",
       "    }\n",
       "</style>\n",
       "<table border=\"1\" class=\"dataframe\">\n",
       "  <thead>\n",
       "    <tr style=\"text-align: right;\">\n",
       "      <th></th>\n",
       "      <th>survived</th>\n",
       "      <th>pclass</th>\n",
       "      <th>age</th>\n",
       "      <th>sibsp</th>\n",
       "      <th>parch</th>\n",
       "      <th>fare</th>\n",
       "      <th>male</th>\n",
       "      <th>age_was_missing</th>\n",
       "      <th>embarked_from_cherbourg</th>\n",
       "      <th>embarked_from_queenstown</th>\n",
       "      <th>embarked_from_southampton</th>\n",
       "    </tr>\n",
       "  </thead>\n",
       "  <tbody>\n",
       "    <tr>\n",
       "      <th>0</th>\n",
       "      <td>0</td>\n",
       "      <td>3</td>\n",
       "      <td>22.0</td>\n",
       "      <td>1</td>\n",
       "      <td>0</td>\n",
       "      <td>7.2500</td>\n",
       "      <td>1</td>\n",
       "      <td>False</td>\n",
       "      <td>0</td>\n",
       "      <td>0</td>\n",
       "      <td>1</td>\n",
       "    </tr>\n",
       "    <tr>\n",
       "      <th>1</th>\n",
       "      <td>1</td>\n",
       "      <td>1</td>\n",
       "      <td>38.0</td>\n",
       "      <td>1</td>\n",
       "      <td>0</td>\n",
       "      <td>71.2833</td>\n",
       "      <td>0</td>\n",
       "      <td>False</td>\n",
       "      <td>1</td>\n",
       "      <td>0</td>\n",
       "      <td>0</td>\n",
       "    </tr>\n",
       "    <tr>\n",
       "      <th>2</th>\n",
       "      <td>1</td>\n",
       "      <td>3</td>\n",
       "      <td>26.0</td>\n",
       "      <td>0</td>\n",
       "      <td>0</td>\n",
       "      <td>7.9250</td>\n",
       "      <td>0</td>\n",
       "      <td>False</td>\n",
       "      <td>0</td>\n",
       "      <td>0</td>\n",
       "      <td>1</td>\n",
       "    </tr>\n",
       "    <tr>\n",
       "      <th>3</th>\n",
       "      <td>1</td>\n",
       "      <td>1</td>\n",
       "      <td>35.0</td>\n",
       "      <td>1</td>\n",
       "      <td>0</td>\n",
       "      <td>53.1000</td>\n",
       "      <td>0</td>\n",
       "      <td>False</td>\n",
       "      <td>0</td>\n",
       "      <td>0</td>\n",
       "      <td>1</td>\n",
       "    </tr>\n",
       "    <tr>\n",
       "      <th>4</th>\n",
       "      <td>0</td>\n",
       "      <td>3</td>\n",
       "      <td>35.0</td>\n",
       "      <td>0</td>\n",
       "      <td>0</td>\n",
       "      <td>8.0500</td>\n",
       "      <td>1</td>\n",
       "      <td>False</td>\n",
       "      <td>0</td>\n",
       "      <td>0</td>\n",
       "      <td>1</td>\n",
       "    </tr>\n",
       "  </tbody>\n",
       "</table>\n",
       "</div>"
      ]
     },
     "execution_count": 11,
     "metadata": {},
     "output_type": "execute_result"
    }
   ],
   "execution_count": 11
  },
  {
   "metadata": {
    "ExecuteTime": {
     "end_time": "2025-03-25T10:01:49.074691Z",
     "start_time": "2025-03-25T10:01:49.070573Z"
    }
   },
   "cell_type": "code",
   "source": [
    "import numpy as np\n",
    "\n",
    "predictors = np.array(df.drop([\"survived\", \"age_was_missing\"], axis=1))\n",
    "predictors"
   ],
   "id": "2a024cdf6454f589",
   "outputs": [
    {
     "data": {
      "text/plain": [
       "array([[ 3.        , 22.        ,  1.        , ...,  0.        ,\n",
       "         0.        ,  1.        ],\n",
       "       [ 1.        , 38.        ,  1.        , ...,  1.        ,\n",
       "         0.        ,  0.        ],\n",
       "       [ 3.        , 26.        ,  0.        , ...,  0.        ,\n",
       "         0.        ,  1.        ],\n",
       "       ...,\n",
       "       [ 3.        , 29.69911765,  1.        , ...,  0.        ,\n",
       "         0.        ,  1.        ],\n",
       "       [ 1.        , 26.        ,  0.        , ...,  1.        ,\n",
       "         0.        ,  0.        ],\n",
       "       [ 3.        , 32.        ,  0.        , ...,  0.        ,\n",
       "         1.        ,  0.        ]])"
      ]
     },
     "execution_count": 12,
     "metadata": {},
     "output_type": "execute_result"
    }
   ],
   "execution_count": 12
  },
  {
   "metadata": {
    "ExecuteTime": {
     "end_time": "2025-03-25T10:01:54.512615Z",
     "start_time": "2025-03-25T10:01:50.997582Z"
    }
   },
   "cell_type": "code",
   "source": [
    "# Import necessary modules\n",
    "from sklearn.model_selection import train_test_split\n",
    "from tensorflow.keras.layers import Dense\n",
    "from tensorflow.keras.models import Sequential\n",
    "from tensorflow.keras.utils import to_categorical\n",
    "from sklearn.preprocessing import StandardScaler\n",
    "\n",
    "# Convert the target to categorical: target\n",
    "target = to_categorical(df[\"survived\"])\n",
    "\n",
    "# Split data into training and testing sets\n",
    "X_train, X_test, y_train, y_test = train_test_split(predictors, target, test_size=0.2, random_state=42)\n",
    "\n",
    "# Scale data\n",
    "scaler = StandardScaler()\n",
    "X_train = scaler.fit_transform(X_train)\n",
    "X_test = scaler.transform(X_test)\n",
    "\n",
    "n_cols = X_train.shape[1]  # Number of input features\n",
    "\n",
    "# Set up the model\n",
    "model = Sequential()\n",
    "model.add(Dense(32, activation=\"relu\", input_shape=(n_cols,)))\n",
    "model.add(Dense(2, activation=\"softmax\"))\n",
    "\n",
    "# Compile the model\n",
    "model.compile(optimizer=\"sgd\", loss=\"categorical_crossentropy\", metrics=[\"accuracy\"])\n",
    "\n",
    "# Fit the model\n",
    "history = model.fit(X_train, y_train, validation_data=(X_test, y_test), epochs=50, batch_size=10, verbose=1)"
   ],
   "id": "3962068ec5cf0cd8",
   "outputs": [
    {
     "name": "stdout",
     "output_type": "stream",
     "text": [
      "Epoch 1/50\n",
      "\u001B[1m 1/72\u001B[0m \u001B[37m━━━━━━━━━━━━━━━━━━━━\u001B[0m \u001B[1m8s\u001B[0m 116ms/step - accuracy: 0.5000 - loss: 1.0087"
     ]
    },
    {
     "name": "stderr",
     "output_type": "stream",
     "text": [
      "/Users/_ariee_/Library/Caches/JetBrains/PyCharm2024.2/demo/PyCharmLearningProject/venv/lib/python3.9/site-packages/keras/src/layers/core/dense.py:87: UserWarning: Do not pass an `input_shape`/`input_dim` argument to a layer. When using Sequential models, prefer using an `Input(shape)` object as the first layer in the model instead.\n",
      "  super().__init__(activity_regularizer=activity_regularizer, **kwargs)\n"
     ]
    },
    {
     "name": "stdout",
     "output_type": "stream",
     "text": [
      "\u001B[1m72/72\u001B[0m \u001B[32m━━━━━━━━━━━━━━━━━━━━\u001B[0m\u001B[37m\u001B[0m \u001B[1m0s\u001B[0m 1ms/step - accuracy: 0.6672 - loss: 0.7069 - val_accuracy: 0.6983 - val_loss: 0.5676\n",
      "Epoch 2/50\n",
      "\u001B[1m72/72\u001B[0m \u001B[32m━━━━━━━━━━━━━━━━━━━━\u001B[0m\u001B[37m\u001B[0m \u001B[1m0s\u001B[0m 652us/step - accuracy: 0.7482 - loss: 0.5477 - val_accuracy: 0.7430 - val_loss: 0.5290\n",
      "Epoch 3/50\n",
      "\u001B[1m72/72\u001B[0m \u001B[32m━━━━━━━━━━━━━━━━━━━━\u001B[0m\u001B[37m\u001B[0m \u001B[1m0s\u001B[0m 703us/step - accuracy: 0.7763 - loss: 0.5217 - val_accuracy: 0.7709 - val_loss: 0.5019\n",
      "Epoch 4/50\n",
      "\u001B[1m72/72\u001B[0m \u001B[32m━━━━━━━━━━━━━━━━━━━━\u001B[0m\u001B[37m\u001B[0m \u001B[1m0s\u001B[0m 758us/step - accuracy: 0.7732 - loss: 0.5143 - val_accuracy: 0.7877 - val_loss: 0.4840\n",
      "Epoch 5/50\n",
      "\u001B[1m72/72\u001B[0m \u001B[32m━━━━━━━━━━━━━━━━━━━━\u001B[0m\u001B[37m\u001B[0m \u001B[1m0s\u001B[0m 712us/step - accuracy: 0.7950 - loss: 0.4778 - val_accuracy: 0.7877 - val_loss: 0.4717\n",
      "Epoch 6/50\n",
      "\u001B[1m72/72\u001B[0m \u001B[32m━━━━━━━━━━━━━━━━━━━━\u001B[0m\u001B[37m\u001B[0m \u001B[1m0s\u001B[0m 680us/step - accuracy: 0.7999 - loss: 0.4755 - val_accuracy: 0.7765 - val_loss: 0.4633\n",
      "Epoch 7/50\n",
      "\u001B[1m72/72\u001B[0m \u001B[32m━━━━━━━━━━━━━━━━━━━━\u001B[0m\u001B[37m\u001B[0m \u001B[1m0s\u001B[0m 672us/step - accuracy: 0.8001 - loss: 0.4702 - val_accuracy: 0.7765 - val_loss: 0.4570\n",
      "Epoch 8/50\n",
      "\u001B[1m72/72\u001B[0m \u001B[32m━━━━━━━━━━━━━━━━━━━━\u001B[0m\u001B[37m\u001B[0m \u001B[1m0s\u001B[0m 743us/step - accuracy: 0.8111 - loss: 0.4437 - val_accuracy: 0.7765 - val_loss: 0.4522\n",
      "Epoch 9/50\n",
      "\u001B[1m72/72\u001B[0m \u001B[32m━━━━━━━━━━━━━━━━━━━━\u001B[0m\u001B[37m\u001B[0m \u001B[1m0s\u001B[0m 680us/step - accuracy: 0.8235 - loss: 0.4326 - val_accuracy: 0.7765 - val_loss: 0.4474\n",
      "Epoch 10/50\n",
      "\u001B[1m72/72\u001B[0m \u001B[32m━━━━━━━━━━━━━━━━━━━━\u001B[0m\u001B[37m\u001B[0m \u001B[1m0s\u001B[0m 697us/step - accuracy: 0.8057 - loss: 0.4512 - val_accuracy: 0.7765 - val_loss: 0.4436\n",
      "Epoch 11/50\n",
      "\u001B[1m72/72\u001B[0m \u001B[32m━━━━━━━━━━━━━━━━━━━━\u001B[0m\u001B[37m\u001B[0m \u001B[1m0s\u001B[0m 672us/step - accuracy: 0.7996 - loss: 0.4523 - val_accuracy: 0.7765 - val_loss: 0.4410\n",
      "Epoch 12/50\n",
      "\u001B[1m72/72\u001B[0m \u001B[32m━━━━━━━━━━━━━━━━━━━━\u001B[0m\u001B[37m\u001B[0m \u001B[1m0s\u001B[0m 693us/step - accuracy: 0.8196 - loss: 0.4186 - val_accuracy: 0.7877 - val_loss: 0.4385\n",
      "Epoch 13/50\n",
      "\u001B[1m72/72\u001B[0m \u001B[32m━━━━━━━━━━━━━━━━━━━━\u001B[0m\u001B[37m\u001B[0m \u001B[1m0s\u001B[0m 727us/step - accuracy: 0.8186 - loss: 0.4117 - val_accuracy: 0.7877 - val_loss: 0.4362\n",
      "Epoch 14/50\n",
      "\u001B[1m72/72\u001B[0m \u001B[32m━━━━━━━━━━━━━━━━━━━━\u001B[0m\u001B[37m\u001B[0m \u001B[1m0s\u001B[0m 712us/step - accuracy: 0.7944 - loss: 0.4561 - val_accuracy: 0.7877 - val_loss: 0.4344\n",
      "Epoch 15/50\n",
      "\u001B[1m72/72\u001B[0m \u001B[32m━━━━━━━━━━━━━━━━━━━━\u001B[0m\u001B[37m\u001B[0m \u001B[1m0s\u001B[0m 720us/step - accuracy: 0.8006 - loss: 0.4427 - val_accuracy: 0.7877 - val_loss: 0.4332\n",
      "Epoch 16/50\n",
      "\u001B[1m72/72\u001B[0m \u001B[32m━━━━━━━━━━━━━━━━━━━━\u001B[0m\u001B[37m\u001B[0m \u001B[1m0s\u001B[0m 723us/step - accuracy: 0.8283 - loss: 0.3981 - val_accuracy: 0.7877 - val_loss: 0.4328\n",
      "Epoch 17/50\n",
      "\u001B[1m72/72\u001B[0m \u001B[32m━━━━━━━━━━━━━━━━━━━━\u001B[0m\u001B[37m\u001B[0m \u001B[1m0s\u001B[0m 676us/step - accuracy: 0.8177 - loss: 0.4231 - val_accuracy: 0.7877 - val_loss: 0.4304\n",
      "Epoch 18/50\n",
      "\u001B[1m72/72\u001B[0m \u001B[32m━━━━━━━━━━━━━━━━━━━━\u001B[0m\u001B[37m\u001B[0m \u001B[1m0s\u001B[0m 665us/step - accuracy: 0.7962 - loss: 0.4705 - val_accuracy: 0.7877 - val_loss: 0.4292\n",
      "Epoch 19/50\n",
      "\u001B[1m72/72\u001B[0m \u001B[32m━━━━━━━━━━━━━━━━━━━━\u001B[0m\u001B[37m\u001B[0m \u001B[1m0s\u001B[0m 662us/step - accuracy: 0.8142 - loss: 0.4251 - val_accuracy: 0.7877 - val_loss: 0.4279\n",
      "Epoch 20/50\n",
      "\u001B[1m72/72\u001B[0m \u001B[32m━━━━━━━━━━━━━━━━━━━━\u001B[0m\u001B[37m\u001B[0m \u001B[1m0s\u001B[0m 670us/step - accuracy: 0.7933 - loss: 0.4301 - val_accuracy: 0.7877 - val_loss: 0.4272\n",
      "Epoch 21/50\n",
      "\u001B[1m72/72\u001B[0m \u001B[32m━━━━━━━━━━━━━━━━━━━━\u001B[0m\u001B[37m\u001B[0m \u001B[1m0s\u001B[0m 674us/step - accuracy: 0.8295 - loss: 0.4030 - val_accuracy: 0.7877 - val_loss: 0.4263\n",
      "Epoch 22/50\n",
      "\u001B[1m72/72\u001B[0m \u001B[32m━━━━━━━━━━━━━━━━━━━━\u001B[0m\u001B[37m\u001B[0m \u001B[1m0s\u001B[0m 737us/step - accuracy: 0.8151 - loss: 0.4007 - val_accuracy: 0.7877 - val_loss: 0.4269\n",
      "Epoch 23/50\n",
      "\u001B[1m72/72\u001B[0m \u001B[32m━━━━━━━━━━━━━━━━━━━━\u001B[0m\u001B[37m\u001B[0m \u001B[1m0s\u001B[0m 726us/step - accuracy: 0.8231 - loss: 0.4195 - val_accuracy: 0.7877 - val_loss: 0.4257\n",
      "Epoch 24/50\n",
      "\u001B[1m72/72\u001B[0m \u001B[32m━━━━━━━━━━━━━━━━━━━━\u001B[0m\u001B[37m\u001B[0m \u001B[1m0s\u001B[0m 707us/step - accuracy: 0.8196 - loss: 0.4204 - val_accuracy: 0.7821 - val_loss: 0.4250\n",
      "Epoch 25/50\n",
      "\u001B[1m72/72\u001B[0m \u001B[32m━━━━━━━━━━━━━━━━━━━━\u001B[0m\u001B[37m\u001B[0m \u001B[1m0s\u001B[0m 696us/step - accuracy: 0.8261 - loss: 0.4147 - val_accuracy: 0.7821 - val_loss: 0.4248\n",
      "Epoch 26/50\n",
      "\u001B[1m72/72\u001B[0m \u001B[32m━━━━━━━━━━━━━━━━━━━━\u001B[0m\u001B[37m\u001B[0m \u001B[1m0s\u001B[0m 714us/step - accuracy: 0.8347 - loss: 0.3755 - val_accuracy: 0.7877 - val_loss: 0.4239\n",
      "Epoch 27/50\n",
      "\u001B[1m72/72\u001B[0m \u001B[32m━━━━━━━━━━━━━━━━━━━━\u001B[0m\u001B[37m\u001B[0m \u001B[1m0s\u001B[0m 694us/step - accuracy: 0.8296 - loss: 0.3984 - val_accuracy: 0.7933 - val_loss: 0.4233\n",
      "Epoch 28/50\n",
      "\u001B[1m72/72\u001B[0m \u001B[32m━━━━━━━━━━━━━━━━━━━━\u001B[0m\u001B[37m\u001B[0m \u001B[1m0s\u001B[0m 684us/step - accuracy: 0.8267 - loss: 0.4256 - val_accuracy: 0.7877 - val_loss: 0.4235\n",
      "Epoch 29/50\n",
      "\u001B[1m72/72\u001B[0m \u001B[32m━━━━━━━━━━━━━━━━━━━━\u001B[0m\u001B[37m\u001B[0m \u001B[1m0s\u001B[0m 649us/step - accuracy: 0.8301 - loss: 0.4096 - val_accuracy: 0.7933 - val_loss: 0.4225\n",
      "Epoch 30/50\n",
      "\u001B[1m72/72\u001B[0m \u001B[32m━━━━━━━━━━━━━━━━━━━━\u001B[0m\u001B[37m\u001B[0m \u001B[1m0s\u001B[0m 639us/step - accuracy: 0.8282 - loss: 0.4041 - val_accuracy: 0.7933 - val_loss: 0.4223\n",
      "Epoch 31/50\n",
      "\u001B[1m72/72\u001B[0m \u001B[32m━━━━━━━━━━━━━━━━━━━━\u001B[0m\u001B[37m\u001B[0m \u001B[1m0s\u001B[0m 646us/step - accuracy: 0.8439 - loss: 0.3976 - val_accuracy: 0.7933 - val_loss: 0.4215\n",
      "Epoch 32/50\n",
      "\u001B[1m72/72\u001B[0m \u001B[32m━━━━━━━━━━━━━━━━━━━━\u001B[0m\u001B[37m\u001B[0m \u001B[1m0s\u001B[0m 686us/step - accuracy: 0.8393 - loss: 0.4059 - val_accuracy: 0.7933 - val_loss: 0.4217\n",
      "Epoch 33/50\n",
      "\u001B[1m72/72\u001B[0m \u001B[32m━━━━━━━━━━━━━━━━━━━━\u001B[0m\u001B[37m\u001B[0m \u001B[1m0s\u001B[0m 695us/step - accuracy: 0.8181 - loss: 0.4253 - val_accuracy: 0.7933 - val_loss: 0.4211\n",
      "Epoch 34/50\n",
      "\u001B[1m72/72\u001B[0m \u001B[32m━━━━━━━━━━━━━━━━━━━━\u001B[0m\u001B[37m\u001B[0m \u001B[1m0s\u001B[0m 713us/step - accuracy: 0.8378 - loss: 0.3813 - val_accuracy: 0.7933 - val_loss: 0.4222\n",
      "Epoch 35/50\n",
      "\u001B[1m72/72\u001B[0m \u001B[32m━━━━━━━━━━━━━━━━━━━━\u001B[0m\u001B[37m\u001B[0m \u001B[1m0s\u001B[0m 667us/step - accuracy: 0.8130 - loss: 0.4273 - val_accuracy: 0.7877 - val_loss: 0.4210\n",
      "Epoch 36/50\n",
      "\u001B[1m72/72\u001B[0m \u001B[32m━━━━━━━━━━━━━━━━━━━━\u001B[0m\u001B[37m\u001B[0m \u001B[1m0s\u001B[0m 679us/step - accuracy: 0.8281 - loss: 0.4157 - val_accuracy: 0.7877 - val_loss: 0.4212\n",
      "Epoch 37/50\n",
      "\u001B[1m72/72\u001B[0m \u001B[32m━━━━━━━━━━━━━━━━━━━━\u001B[0m\u001B[37m\u001B[0m \u001B[1m0s\u001B[0m 655us/step - accuracy: 0.8266 - loss: 0.4046 - val_accuracy: 0.7933 - val_loss: 0.4212\n",
      "Epoch 38/50\n",
      "\u001B[1m72/72\u001B[0m \u001B[32m━━━━━━━━━━━━━━━━━━━━\u001B[0m\u001B[37m\u001B[0m \u001B[1m0s\u001B[0m 655us/step - accuracy: 0.8176 - loss: 0.4187 - val_accuracy: 0.7989 - val_loss: 0.4214\n",
      "Epoch 39/50\n",
      "\u001B[1m72/72\u001B[0m \u001B[32m━━━━━━━━━━━━━━━━━━━━\u001B[0m\u001B[37m\u001B[0m \u001B[1m0s\u001B[0m 664us/step - accuracy: 0.8263 - loss: 0.4043 - val_accuracy: 0.7989 - val_loss: 0.4210\n",
      "Epoch 40/50\n",
      "\u001B[1m72/72\u001B[0m \u001B[32m━━━━━━━━━━━━━━━━━━━━\u001B[0m\u001B[37m\u001B[0m \u001B[1m0s\u001B[0m 643us/step - accuracy: 0.8245 - loss: 0.4097 - val_accuracy: 0.7989 - val_loss: 0.4204\n",
      "Epoch 41/50\n",
      "\u001B[1m72/72\u001B[0m \u001B[32m━━━━━━━━━━━━━━━━━━━━\u001B[0m\u001B[37m\u001B[0m \u001B[1m0s\u001B[0m 643us/step - accuracy: 0.8587 - loss: 0.3800 - val_accuracy: 0.7989 - val_loss: 0.4233\n",
      "Epoch 42/50\n",
      "\u001B[1m72/72\u001B[0m \u001B[32m━━━━━━━━━━━━━━━━━━━━\u001B[0m\u001B[37m\u001B[0m \u001B[1m0s\u001B[0m 642us/step - accuracy: 0.8492 - loss: 0.3698 - val_accuracy: 0.7989 - val_loss: 0.4244\n",
      "Epoch 43/50\n",
      "\u001B[1m72/72\u001B[0m \u001B[32m━━━━━━━━━━━━━━━━━━━━\u001B[0m\u001B[37m\u001B[0m \u001B[1m0s\u001B[0m 664us/step - accuracy: 0.8548 - loss: 0.3880 - val_accuracy: 0.7989 - val_loss: 0.4243\n",
      "Epoch 44/50\n",
      "\u001B[1m72/72\u001B[0m \u001B[32m━━━━━━━━━━━━━━━━━━━━\u001B[0m\u001B[37m\u001B[0m \u001B[1m0s\u001B[0m 655us/step - accuracy: 0.8282 - loss: 0.4222 - val_accuracy: 0.7989 - val_loss: 0.4248\n",
      "Epoch 45/50\n",
      "\u001B[1m72/72\u001B[0m \u001B[32m━━━━━━━━━━━━━━━━━━━━\u001B[0m\u001B[37m\u001B[0m \u001B[1m0s\u001B[0m 716us/step - accuracy: 0.8626 - loss: 0.3657 - val_accuracy: 0.7989 - val_loss: 0.4239\n",
      "Epoch 46/50\n",
      "\u001B[1m72/72\u001B[0m \u001B[32m━━━━━━━━━━━━━━━━━━━━\u001B[0m\u001B[37m\u001B[0m \u001B[1m0s\u001B[0m 650us/step - accuracy: 0.8274 - loss: 0.4043 - val_accuracy: 0.7989 - val_loss: 0.4242\n",
      "Epoch 47/50\n",
      "\u001B[1m72/72\u001B[0m \u001B[32m━━━━━━━━━━━━━━━━━━━━\u001B[0m\u001B[37m\u001B[0m \u001B[1m0s\u001B[0m 635us/step - accuracy: 0.8307 - loss: 0.3872 - val_accuracy: 0.7989 - val_loss: 0.4237\n",
      "Epoch 48/50\n",
      "\u001B[1m72/72\u001B[0m \u001B[32m━━━━━━━━━━━━━━━━━━━━\u001B[0m\u001B[37m\u001B[0m \u001B[1m0s\u001B[0m 763us/step - accuracy: 0.8525 - loss: 0.3807 - val_accuracy: 0.8045 - val_loss: 0.4232\n",
      "Epoch 49/50\n",
      "\u001B[1m72/72\u001B[0m \u001B[32m━━━━━━━━━━━━━━━━━━━━\u001B[0m\u001B[37m\u001B[0m \u001B[1m0s\u001B[0m 642us/step - accuracy: 0.8494 - loss: 0.3861 - val_accuracy: 0.8045 - val_loss: 0.4231\n",
      "Epoch 50/50\n",
      "\u001B[1m72/72\u001B[0m \u001B[32m━━━━━━━━━━━━━━━━━━━━\u001B[0m\u001B[37m\u001B[0m \u001B[1m0s\u001B[0m 638us/step - accuracy: 0.8428 - loss: 0.3959 - val_accuracy: 0.8045 - val_loss: 0.4229\n"
     ]
    }
   ],
   "execution_count": 13
  },
  {
   "metadata": {
    "ExecuteTime": {
     "end_time": "2025-03-25T10:04:09.204684Z",
     "start_time": "2025-03-25T10:04:05.940525Z"
    }
   },
   "cell_type": "code",
   "source": [
    "# Import necessary modules\n",
    "from sklearn.model_selection import train_test_split\n",
    "from tensorflow.keras.layers import Dense\n",
    "from tensorflow.keras.models import Sequential\n",
    "from tensorflow.keras.utils import to_categorical\n",
    "from sklearn.preprocessing import StandardScaler\n",
    "\n",
    "# Convert the target to categorical: target\n",
    "target = df[\"survived\"].values\n",
    "\n",
    "# Split data into training and testing sets\n",
    "X_train, X_test, y_train, y_test = train_test_split(predictors, target, test_size=0.2, random_state=42)\n",
    "\n",
    "# Scale data\n",
    "scaler = StandardScaler()\n",
    "X_train = scaler.fit_transform(X_train)\n",
    "X_test = scaler.transform(X_test)\n",
    "\n",
    "n_cols = X_train.shape[1]  # Number of input features\n",
    "\n",
    "# Set up the model\n",
    "model = Sequential()\n",
    "model.add(Dense(32, activation=\"relu\", input_shape=(n_cols,)))\n",
    "model.add(Dense(1, activation=\"sigmoid\"))  # Nur 1 Output!\n",
    "\n",
    "# Compile the model\n",
    "model.compile(optimizer=\"adam\", loss=\"binary_crossentropy\", metrics=[\"accuracy\"])\n",
    "\n",
    "# Fit the model\n",
    "history = model.fit(X_train, y_train, validation_data=(X_test, y_test), epochs=50, batch_size=10, verbose=1)"
   ],
   "id": "390077ca69f2bd0a",
   "outputs": [
    {
     "name": "stdout",
     "output_type": "stream",
     "text": [
      "Epoch 1/50\n"
     ]
    },
    {
     "name": "stderr",
     "output_type": "stream",
     "text": [
      "/Users/_ariee_/Library/Caches/JetBrains/PyCharm2024.2/demo/PyCharmLearningProject/venv/lib/python3.9/site-packages/keras/src/layers/core/dense.py:87: UserWarning: Do not pass an `input_shape`/`input_dim` argument to a layer. When using Sequential models, prefer using an `Input(shape)` object as the first layer in the model instead.\n",
      "  super().__init__(activity_regularizer=activity_regularizer, **kwargs)\n"
     ]
    },
    {
     "name": "stdout",
     "output_type": "stream",
     "text": [
      "\u001B[1m72/72\u001B[0m \u001B[32m━━━━━━━━━━━━━━━━━━━━\u001B[0m\u001B[37m\u001B[0m \u001B[1m0s\u001B[0m 1ms/step - accuracy: 0.6911 - loss: 0.6166 - val_accuracy: 0.7374 - val_loss: 0.5419\n",
      "Epoch 2/50\n",
      "\u001B[1m72/72\u001B[0m \u001B[32m━━━━━━━━━━━━━━━━━━━━\u001B[0m\u001B[37m\u001B[0m \u001B[1m0s\u001B[0m 735us/step - accuracy: 0.7563 - loss: 0.5270 - val_accuracy: 0.7933 - val_loss: 0.4851\n",
      "Epoch 3/50\n",
      "\u001B[1m72/72\u001B[0m \u001B[32m━━━━━━━━━━━━━━━━━━━━\u001B[0m\u001B[37m\u001B[0m \u001B[1m0s\u001B[0m 690us/step - accuracy: 0.8167 - loss: 0.4829 - val_accuracy: 0.7933 - val_loss: 0.4555\n",
      "Epoch 4/50\n",
      "\u001B[1m72/72\u001B[0m \u001B[32m━━━━━━━━━━━━━━━━━━━━\u001B[0m\u001B[37m\u001B[0m \u001B[1m0s\u001B[0m 681us/step - accuracy: 0.8145 - loss: 0.4524 - val_accuracy: 0.7989 - val_loss: 0.4398\n",
      "Epoch 5/50\n",
      "\u001B[1m72/72\u001B[0m \u001B[32m━━━━━━━━━━━━━━━━━━━━\u001B[0m\u001B[37m\u001B[0m \u001B[1m0s\u001B[0m 691us/step - accuracy: 0.7988 - loss: 0.4460 - val_accuracy: 0.8101 - val_loss: 0.4296\n",
      "Epoch 6/50\n",
      "\u001B[1m72/72\u001B[0m \u001B[32m━━━━━━━━━━━━━━━━━━━━\u001B[0m\u001B[37m\u001B[0m \u001B[1m0s\u001B[0m 697us/step - accuracy: 0.8082 - loss: 0.4438 - val_accuracy: 0.8101 - val_loss: 0.4234\n",
      "Epoch 7/50\n",
      "\u001B[1m72/72\u001B[0m \u001B[32m━━━━━━━━━━━━━━━━━━━━\u001B[0m\u001B[37m\u001B[0m \u001B[1m0s\u001B[0m 727us/step - accuracy: 0.8111 - loss: 0.4489 - val_accuracy: 0.8101 - val_loss: 0.4199\n",
      "Epoch 8/50\n",
      "\u001B[1m72/72\u001B[0m \u001B[32m━━━━━━━━━━━━━━━━━━━━\u001B[0m\u001B[37m\u001B[0m \u001B[1m0s\u001B[0m 718us/step - accuracy: 0.8146 - loss: 0.4352 - val_accuracy: 0.8101 - val_loss: 0.4176\n",
      "Epoch 9/50\n",
      "\u001B[1m72/72\u001B[0m \u001B[32m━━━━━━━━━━━━━━━━━━━━\u001B[0m\u001B[37m\u001B[0m \u001B[1m0s\u001B[0m 725us/step - accuracy: 0.8134 - loss: 0.4154 - val_accuracy: 0.8156 - val_loss: 0.4165\n",
      "Epoch 10/50\n",
      "\u001B[1m72/72\u001B[0m \u001B[32m━━━━━━━━━━━━━━━━━━━━\u001B[0m\u001B[37m\u001B[0m \u001B[1m0s\u001B[0m 736us/step - accuracy: 0.8386 - loss: 0.3969 - val_accuracy: 0.8101 - val_loss: 0.4168\n",
      "Epoch 11/50\n",
      "\u001B[1m72/72\u001B[0m \u001B[32m━━━━━━━━━━━━━━━━━━━━\u001B[0m\u001B[37m\u001B[0m \u001B[1m0s\u001B[0m 736us/step - accuracy: 0.8371 - loss: 0.4000 - val_accuracy: 0.8156 - val_loss: 0.4170\n",
      "Epoch 12/50\n",
      "\u001B[1m72/72\u001B[0m \u001B[32m━━━━━━━━━━━━━━━━━━━━\u001B[0m\u001B[37m\u001B[0m \u001B[1m0s\u001B[0m 734us/step - accuracy: 0.8263 - loss: 0.4180 - val_accuracy: 0.8156 - val_loss: 0.4142\n",
      "Epoch 13/50\n",
      "\u001B[1m72/72\u001B[0m \u001B[32m━━━━━━━━━━━━━━━━━━━━\u001B[0m\u001B[37m\u001B[0m \u001B[1m0s\u001B[0m 719us/step - accuracy: 0.8347 - loss: 0.4002 - val_accuracy: 0.8156 - val_loss: 0.4150\n",
      "Epoch 14/50\n",
      "\u001B[1m72/72\u001B[0m \u001B[32m━━━━━━━━━━━━━━━━━━━━\u001B[0m\u001B[37m\u001B[0m \u001B[1m0s\u001B[0m 724us/step - accuracy: 0.8291 - loss: 0.4010 - val_accuracy: 0.8101 - val_loss: 0.4152\n",
      "Epoch 15/50\n",
      "\u001B[1m72/72\u001B[0m \u001B[32m━━━━━━━━━━━━━━━━━━━━\u001B[0m\u001B[37m\u001B[0m \u001B[1m0s\u001B[0m 722us/step - accuracy: 0.8296 - loss: 0.4031 - val_accuracy: 0.8101 - val_loss: 0.4160\n",
      "Epoch 16/50\n",
      "\u001B[1m72/72\u001B[0m \u001B[32m━━━━━━━━━━━━━━━━━━━━\u001B[0m\u001B[37m\u001B[0m \u001B[1m0s\u001B[0m 705us/step - accuracy: 0.8451 - loss: 0.3640 - val_accuracy: 0.8156 - val_loss: 0.4155\n",
      "Epoch 17/50\n",
      "\u001B[1m72/72\u001B[0m \u001B[32m━━━━━━━━━━━━━━━━━━━━\u001B[0m\u001B[37m\u001B[0m \u001B[1m0s\u001B[0m 703us/step - accuracy: 0.8652 - loss: 0.3558 - val_accuracy: 0.8156 - val_loss: 0.4170\n",
      "Epoch 18/50\n",
      "\u001B[1m72/72\u001B[0m \u001B[32m━━━━━━━━━━━━━━━━━━━━\u001B[0m\u001B[37m\u001B[0m \u001B[1m0s\u001B[0m 724us/step - accuracy: 0.8372 - loss: 0.3898 - val_accuracy: 0.8156 - val_loss: 0.4176\n",
      "Epoch 19/50\n",
      "\u001B[1m72/72\u001B[0m \u001B[32m━━━━━━━━━━━━━━━━━━━━\u001B[0m\u001B[37m\u001B[0m \u001B[1m0s\u001B[0m 734us/step - accuracy: 0.8157 - loss: 0.4143 - val_accuracy: 0.8156 - val_loss: 0.4179\n",
      "Epoch 20/50\n",
      "\u001B[1m72/72\u001B[0m \u001B[32m━━━━━━━━━━━━━━━━━━━━\u001B[0m\u001B[37m\u001B[0m \u001B[1m0s\u001B[0m 712us/step - accuracy: 0.8254 - loss: 0.4105 - val_accuracy: 0.8156 - val_loss: 0.4180\n",
      "Epoch 21/50\n",
      "\u001B[1m72/72\u001B[0m \u001B[32m━━━━━━━━━━━━━━━━━━━━\u001B[0m\u001B[37m\u001B[0m \u001B[1m0s\u001B[0m 701us/step - accuracy: 0.8580 - loss: 0.3725 - val_accuracy: 0.8101 - val_loss: 0.4169\n",
      "Epoch 22/50\n",
      "\u001B[1m72/72\u001B[0m \u001B[32m━━━━━━━━━━━━━━━━━━━━\u001B[0m\u001B[37m\u001B[0m \u001B[1m0s\u001B[0m 711us/step - accuracy: 0.8629 - loss: 0.3594 - val_accuracy: 0.8212 - val_loss: 0.4163\n",
      "Epoch 23/50\n",
      "\u001B[1m72/72\u001B[0m \u001B[32m━━━━━━━━━━━━━━━━━━━━\u001B[0m\u001B[37m\u001B[0m \u001B[1m0s\u001B[0m 702us/step - accuracy: 0.8496 - loss: 0.3760 - val_accuracy: 0.8212 - val_loss: 0.4166\n",
      "Epoch 24/50\n",
      "\u001B[1m72/72\u001B[0m \u001B[32m━━━━━━━━━━━━━━━━━━━━\u001B[0m\u001B[37m\u001B[0m \u001B[1m0s\u001B[0m 706us/step - accuracy: 0.8367 - loss: 0.3868 - val_accuracy: 0.8156 - val_loss: 0.4184\n",
      "Epoch 25/50\n",
      "\u001B[1m72/72\u001B[0m \u001B[32m━━━━━━━━━━━━━━━━━━━━\u001B[0m\u001B[37m\u001B[0m \u001B[1m0s\u001B[0m 701us/step - accuracy: 0.8478 - loss: 0.3905 - val_accuracy: 0.8045 - val_loss: 0.4186\n",
      "Epoch 26/50\n",
      "\u001B[1m72/72\u001B[0m \u001B[32m━━━━━━━━━━━━━━━━━━━━\u001B[0m\u001B[37m\u001B[0m \u001B[1m0s\u001B[0m 700us/step - accuracy: 0.8332 - loss: 0.4148 - val_accuracy: 0.8101 - val_loss: 0.4192\n",
      "Epoch 27/50\n",
      "\u001B[1m72/72\u001B[0m \u001B[32m━━━━━━━━━━━━━━━━━━━━\u001B[0m\u001B[37m\u001B[0m \u001B[1m0s\u001B[0m 732us/step - accuracy: 0.8310 - loss: 0.4033 - val_accuracy: 0.8156 - val_loss: 0.4184\n",
      "Epoch 28/50\n",
      "\u001B[1m72/72\u001B[0m \u001B[32m━━━━━━━━━━━━━━━━━━━━\u001B[0m\u001B[37m\u001B[0m \u001B[1m0s\u001B[0m 703us/step - accuracy: 0.8580 - loss: 0.3528 - val_accuracy: 0.8212 - val_loss: 0.4186\n",
      "Epoch 29/50\n",
      "\u001B[1m72/72\u001B[0m \u001B[32m━━━━━━━━━━━━━━━━━━━━\u001B[0m\u001B[37m\u001B[0m \u001B[1m0s\u001B[0m 719us/step - accuracy: 0.8498 - loss: 0.4005 - val_accuracy: 0.8156 - val_loss: 0.4199\n",
      "Epoch 30/50\n",
      "\u001B[1m72/72\u001B[0m \u001B[32m━━━━━━━━━━━━━━━━━━━━\u001B[0m\u001B[37m\u001B[0m \u001B[1m0s\u001B[0m 703us/step - accuracy: 0.8286 - loss: 0.3957 - val_accuracy: 0.8212 - val_loss: 0.4209\n",
      "Epoch 31/50\n",
      "\u001B[1m72/72\u001B[0m \u001B[32m━━━━━━━━━━━━━━━━━━━━\u001B[0m\u001B[37m\u001B[0m \u001B[1m0s\u001B[0m 700us/step - accuracy: 0.8333 - loss: 0.4091 - val_accuracy: 0.8212 - val_loss: 0.4210\n",
      "Epoch 32/50\n",
      "\u001B[1m72/72\u001B[0m \u001B[32m━━━━━━━━━━━━━━━━━━━━\u001B[0m\u001B[37m\u001B[0m \u001B[1m0s\u001B[0m 695us/step - accuracy: 0.8382 - loss: 0.4147 - val_accuracy: 0.8212 - val_loss: 0.4211\n",
      "Epoch 33/50\n",
      "\u001B[1m72/72\u001B[0m \u001B[32m━━━━━━━━━━━━━━━━━━━━\u001B[0m\u001B[37m\u001B[0m \u001B[1m0s\u001B[0m 697us/step - accuracy: 0.8369 - loss: 0.3891 - val_accuracy: 0.8101 - val_loss: 0.4217\n",
      "Epoch 34/50\n",
      "\u001B[1m72/72\u001B[0m \u001B[32m━━━━━━━━━━━━━━━━━━━━\u001B[0m\u001B[37m\u001B[0m \u001B[1m0s\u001B[0m 698us/step - accuracy: 0.8264 - loss: 0.4105 - val_accuracy: 0.8101 - val_loss: 0.4222\n",
      "Epoch 35/50\n",
      "\u001B[1m72/72\u001B[0m \u001B[32m━━━━━━━━━━━━━━━━━━━━\u001B[0m\u001B[37m\u001B[0m \u001B[1m0s\u001B[0m 701us/step - accuracy: 0.8403 - loss: 0.3815 - val_accuracy: 0.8101 - val_loss: 0.4222\n",
      "Epoch 36/50\n",
      "\u001B[1m72/72\u001B[0m \u001B[32m━━━━━━━━━━━━━━━━━━━━\u001B[0m\u001B[37m\u001B[0m \u001B[1m0s\u001B[0m 724us/step - accuracy: 0.8351 - loss: 0.4046 - val_accuracy: 0.8156 - val_loss: 0.4225\n",
      "Epoch 37/50\n",
      "\u001B[1m72/72\u001B[0m \u001B[32m━━━━━━━━━━━━━━━━━━━━\u001B[0m\u001B[37m\u001B[0m \u001B[1m0s\u001B[0m 697us/step - accuracy: 0.8628 - loss: 0.3685 - val_accuracy: 0.8212 - val_loss: 0.4218\n",
      "Epoch 38/50\n",
      "\u001B[1m72/72\u001B[0m \u001B[32m━━━━━━━━━━━━━━━━━━━━\u001B[0m\u001B[37m\u001B[0m \u001B[1m0s\u001B[0m 854us/step - accuracy: 0.8285 - loss: 0.3906 - val_accuracy: 0.8212 - val_loss: 0.4218\n",
      "Epoch 39/50\n",
      "\u001B[1m72/72\u001B[0m \u001B[32m━━━━━━━━━━━━━━━━━━━━\u001B[0m\u001B[37m\u001B[0m \u001B[1m0s\u001B[0m 708us/step - accuracy: 0.8458 - loss: 0.3733 - val_accuracy: 0.8212 - val_loss: 0.4226\n",
      "Epoch 40/50\n",
      "\u001B[1m72/72\u001B[0m \u001B[32m━━━━━━━━━━━━━━━━━━━━\u001B[0m\u001B[37m\u001B[0m \u001B[1m0s\u001B[0m 705us/step - accuracy: 0.8504 - loss: 0.3852 - val_accuracy: 0.8212 - val_loss: 0.4223\n",
      "Epoch 41/50\n",
      "\u001B[1m72/72\u001B[0m \u001B[32m━━━━━━━━━━━━━━━━━━━━\u001B[0m\u001B[37m\u001B[0m \u001B[1m0s\u001B[0m 696us/step - accuracy: 0.8649 - loss: 0.3512 - val_accuracy: 0.8212 - val_loss: 0.4229\n",
      "Epoch 42/50\n",
      "\u001B[1m72/72\u001B[0m \u001B[32m━━━━━━━━━━━━━━━━━━━━\u001B[0m\u001B[37m\u001B[0m \u001B[1m0s\u001B[0m 700us/step - accuracy: 0.8722 - loss: 0.3522 - val_accuracy: 0.8156 - val_loss: 0.4234\n",
      "Epoch 43/50\n",
      "\u001B[1m72/72\u001B[0m \u001B[32m━━━━━━━━━━━━━━━━━━━━\u001B[0m\u001B[37m\u001B[0m \u001B[1m0s\u001B[0m 704us/step - accuracy: 0.8082 - loss: 0.4142 - val_accuracy: 0.8212 - val_loss: 0.4215\n",
      "Epoch 44/50\n",
      "\u001B[1m72/72\u001B[0m \u001B[32m━━━━━━━━━━━━━━━━━━━━\u001B[0m\u001B[37m\u001B[0m \u001B[1m0s\u001B[0m 722us/step - accuracy: 0.8479 - loss: 0.3917 - val_accuracy: 0.8156 - val_loss: 0.4228\n",
      "Epoch 45/50\n",
      "\u001B[1m72/72\u001B[0m \u001B[32m━━━━━━━━━━━━━━━━━━━━\u001B[0m\u001B[37m\u001B[0m \u001B[1m0s\u001B[0m 722us/step - accuracy: 0.8372 - loss: 0.3840 - val_accuracy: 0.8156 - val_loss: 0.4225\n",
      "Epoch 46/50\n",
      "\u001B[1m72/72\u001B[0m \u001B[32m━━━━━━━━━━━━━━━━━━━━\u001B[0m\u001B[37m\u001B[0m \u001B[1m0s\u001B[0m 703us/step - accuracy: 0.8525 - loss: 0.3856 - val_accuracy: 0.8212 - val_loss: 0.4255\n",
      "Epoch 47/50\n",
      "\u001B[1m72/72\u001B[0m \u001B[32m━━━━━━━━━━━━━━━━━━━━\u001B[0m\u001B[37m\u001B[0m \u001B[1m0s\u001B[0m 705us/step - accuracy: 0.8330 - loss: 0.3847 - val_accuracy: 0.8212 - val_loss: 0.4244\n",
      "Epoch 48/50\n",
      "\u001B[1m72/72\u001B[0m \u001B[32m━━━━━━━━━━━━━━━━━━━━\u001B[0m\u001B[37m\u001B[0m \u001B[1m0s\u001B[0m 699us/step - accuracy: 0.8679 - loss: 0.3351 - val_accuracy: 0.8156 - val_loss: 0.4243\n",
      "Epoch 49/50\n",
      "\u001B[1m72/72\u001B[0m \u001B[32m━━━━━━━━━━━━━━━━━━━━\u001B[0m\u001B[37m\u001B[0m \u001B[1m0s\u001B[0m 704us/step - accuracy: 0.8659 - loss: 0.3445 - val_accuracy: 0.8156 - val_loss: 0.4241\n",
      "Epoch 50/50\n",
      "\u001B[1m72/72\u001B[0m \u001B[32m━━━━━━━━━━━━━━━━━━━━\u001B[0m\u001B[37m\u001B[0m \u001B[1m0s\u001B[0m 706us/step - accuracy: 0.8582 - loss: 0.3613 - val_accuracy: 0.8156 - val_loss: 0.4240\n"
     ]
    }
   ],
   "execution_count": 14
  },
  {
   "metadata": {
    "ExecuteTime": {
     "end_time": "2025-03-25T10:04:17.870934Z",
     "start_time": "2025-03-25T10:04:17.831224Z"
    }
   },
   "cell_type": "code",
   "source": "loss, accuracy = model.evaluate(X_test, y_test)",
   "id": "b40fff7d6e9ba471",
   "outputs": [
    {
     "name": "stdout",
     "output_type": "stream",
     "text": [
      "\u001B[1m6/6\u001B[0m \u001B[32m━━━━━━━━━━━━━━━━━━━━\u001B[0m\u001B[37m\u001B[0m \u001B[1m0s\u001B[0m 2ms/step - accuracy: 0.8297 - loss: 0.4069\n"
     ]
    }
   ],
   "execution_count": 15
  },
  {
   "metadata": {
    "ExecuteTime": {
     "end_time": "2025-03-25T10:04:30.156679Z",
     "start_time": "2025-03-25T10:04:29.991152Z"
    }
   },
   "cell_type": "code",
   "source": [
    "import matplotlib.pyplot as plt\n",
    "\n",
    "plt.figure(figsize=(10, 4))\n",
    "\n",
    "# Plot loss\n",
    "plt.subplot(1, 2, 1)\n",
    "plt.plot(history.history['loss'], label='Train Loss')\n",
    "plt.plot(history.history['val_loss'], label='Validation Loss')\n",
    "plt.xlabel('Epochs')\n",
    "plt.ylabel('Loss')\n",
    "plt.title('Model Loss')\n",
    "plt.legend()\n",
    "\n",
    "# Plot accuracy\n",
    "plt.subplot(1, 2, 2)\n",
    "plt.plot(history.history['accuracy'], label='Train Accuracy')\n",
    "plt.plot(history.history['val_accuracy'], label='Validation Accuracy')\n",
    "plt.xlabel('Epochs')\n",
    "plt.ylabel('Accuracy')\n",
    "plt.title('Model Accuracy')\n",
    "plt.legend()\n",
    "\n",
    "plt.tight_layout()\n",
    "plt.show()"
   ],
   "id": "468a89edfa4ac11b",
   "outputs": [
    {
     "data": {
      "text/plain": [
       "<Figure size 1000x400 with 2 Axes>"
      ],
      "image/png": "[encoded data removed]"
     },
     "metadata": {},
     "output_type": "display_data"
    }
   ],
   "execution_count": 16
  },
  {
   "metadata": {
    "ExecuteTime": {
     "end_time": "2025-03-25T10:05:40.832857Z",
     "start_time": "2025-03-25T10:05:40.787239Z"
    }
   },
   "cell_type": "code",
   "source": [
    "predictions = model.predict(X_test)  # Predict on test data\n",
    "predicted_prob_true = predictions[:,1]  # Extract probability of survival\n",
    "\n",
    "# Print predictions\n",
    "print(predicted_prob_true)"
   ],
   "id": "5c941bb80dada190",
   "outputs": [
    {
     "name": "stdout",
     "output_type": "stream",
     "text": [
      "\u001B[1m6/6\u001B[0m \u001B[32m━━━━━━━━━━━━━━━━━━━━\u001B[0m\u001B[37m\u001B[0m \u001B[1m0s\u001B[0m 2ms/step\n"
     ]
    },
    {
     "ename": "IndexError",
     "evalue": "index 1 is out of bounds for axis 1 with size 1",
     "output_type": "error",
     "traceback": [
      "\u001B[0;31m---------------------------------------------------------------------------\u001B[0m",
      "\u001B[0;31mIndexError\u001B[0m                                Traceback (most recent call last)",
      "Cell \u001B[0;32mIn[18], line 2\u001B[0m\n\u001B[1;32m      1\u001B[0m predictions \u001B[38;5;241m=\u001B[39m model\u001B[38;5;241m.\u001B[39mpredict(X_test)  \u001B[38;5;66;03m# Predict on test data\u001B[39;00m\n\u001B[0;32m----> 2\u001B[0m predicted_prob_true \u001B[38;5;241m=\u001B[39m \u001B[43mpredictions\u001B[49m\u001B[43m[\u001B[49m\u001B[43m:\u001B[49m\u001B[43m,\u001B[49m\u001B[38;5;241;43m1\u001B[39;49m\u001B[43m]\u001B[49m  \u001B[38;5;66;03m# Extract probability of survival\u001B[39;00m\n\u001B[1;32m      4\u001B[0m \u001B[38;5;66;03m# Print predictions\u001B[39;00m\n\u001B[1;32m      5\u001B[0m \u001B[38;5;28mprint\u001B[39m(predicted_prob_true)\n",
      "\u001B[0;31mIndexError\u001B[0m: index 1 is out of bounds for axis 1 with size 1"
     ]
    }
   ],
   "execution_count": 18
  },
  {
   "metadata": {},
   "cell_type": "markdown",
   "source": "### Real world example",
   "id": "2e47db19b7f2773f"
  },
  {
   "metadata": {
    "ExecuteTime": {
     "end_time": "2025-03-25T10:18:47.666614Z",
     "start_time": "2025-03-25T10:18:47.577885Z"
    }
   },
   "cell_type": "code",
   "source": [
    "df = pd.read_csv(\"bumble_google_reviews_cleaned.csv\")\n",
    "df.shape\n"
   ],
   "id": "b8de18730200512d",
   "outputs": [
    {
     "data": {
      "text/plain": [
       "(65530, 4)"
      ]
     },
     "execution_count": 2,
     "metadata": {},
     "output_type": "execute_result"
    }
   ],
   "execution_count": 2
  },
  {
   "metadata": {
    "ExecuteTime": {
     "end_time": "2025-03-25T10:18:49.848067Z",
     "start_time": "2025-03-25T10:18:48.369714Z"
    }
   },
   "cell_type": "code",
   "source": [
    "import pandas as pd\n",
    "import tensorflow as tf\n",
    "from sklearn.model_selection import train_test_split\n",
    "from tensorflow.keras.preprocessing.text import Tokenizer\n",
    "from tensorflow.keras.preprocessing.sequence import pad_sequences\n",
    "from tensorflow.keras.callbacks import EarlyStopping\n",
    "\n",
    "# Drop missing texts\n",
    "df = df.dropna(subset=['content'])\n",
    "\n",
    "# Tokenization\n",
    "max_vocab_size = 10000\n",
    "max_length = 100\n",
    "\n",
    "tokenizer = Tokenizer(num_words=max_vocab_size, oov_token=\"<OOV>\")\n",
    "tokenizer.fit_on_texts(df['content'])\n",
    "\n",
    "X = tokenizer.texts_to_sequences(df['content'])\n",
    "X = pad_sequences(X, maxlen=max_length, padding='post', truncating='post')\n",
    "\n",
    "# Labels: convert score (1–5) to 0–4\n",
    "y = df['score'] - 1\n",
    "\n",
    "# Train/test split\n",
    "X_train, X_test, y_train, y_test = train_test_split(X, y, test_size=0.2, random_state=42)\n"
   ],
   "id": "1ac89b7d329aefcd",
   "outputs": [],
   "execution_count": 3
  },
  {
   "metadata": {
    "ExecuteTime": {
     "end_time": "2025-03-25T10:22:09.624883Z",
     "start_time": "2025-03-25T10:18:52.039250Z"
    }
   },
   "cell_type": "code",
   "source": [
    "# Define improved model\n",
    "model = tf.keras.Sequential([\n",
    "    tf.keras.layers.Embedding(max_vocab_size, 64, input_length=max_length),\n",
    "    tf.keras.layers.Conv1D(64, 5, activation='relu'),\n",
    "    tf.keras.layers.MaxPooling1D(pool_size=2),\n",
    "    tf.keras.layers.Bidirectional(tf.keras.layers.LSTM(64, return_sequences=False)),\n",
    "    tf.keras.layers.Dropout(0.3),\n",
    "    tf.keras.layers.Dense(64, activation='relu'),\n",
    "    tf.keras.layers.Dense(5, activation='softmax')  # 5 classes\n",
    "])\n",
    "\n",
    "# Compile\n",
    "model.compile(loss='sparse_categorical_crossentropy',\n",
    "              optimizer='adam',\n",
    "              metrics=['accuracy'])\n",
    "\n",
    "# Callbacks\n",
    "early_stop = EarlyStopping(monitor='val_loss', patience=5, restore_best_weights=True)\n",
    "\n",
    "# Train\n",
    "history = model.fit(\n",
    "    X_train, y_train,\n",
    "    validation_data=(X_test, y_test),\n",
    "    epochs=10,\n",
    "    batch_size=128,\n",
    "    callbacks=[early_stop],\n",
    "    verbose=1\n",
    ")"
   ],
   "id": "c6998eb02fa5cc98",
   "outputs": [
    {
     "name": "stdout",
     "output_type": "stream",
     "text": [
      "Epoch 1/10\n"
     ]
    },
    {
     "name": "stderr",
     "output_type": "stream",
     "text": [
      "/Users/_ariee_/Library/Caches/JetBrains/PyCharm2024.2/demo/PyCharmLearningProject/venv/lib/python3.9/site-packages/keras/src/layers/core/embedding.py:90: UserWarning: Argument `input_length` is deprecated. Just remove it.\n",
      "  warnings.warn(\n"
     ]
    },
    {
     "name": "stdout",
     "output_type": "stream",
     "text": [
      "\u001B[1m410/410\u001B[0m \u001B[32m━━━━━━━━━━━━━━━━━━━━\u001B[0m\u001B[37m\u001B[0m \u001B[1m27s\u001B[0m 63ms/step - accuracy: 0.3669 - loss: 1.3878 - val_accuracy: 0.4850 - val_loss: 1.1680\n",
      "Epoch 2/10\n",
      "\u001B[1m410/410\u001B[0m \u001B[32m━━━━━━━━━━━━━━━━━━━━\u001B[0m\u001B[37m\u001B[0m \u001B[1m26s\u001B[0m 63ms/step - accuracy: 0.5208 - loss: 1.1051 - val_accuracy: 0.4981 - val_loss: 1.1498\n",
      "Epoch 3/10\n",
      "\u001B[1m410/410\u001B[0m \u001B[32m━━━━━━━━━━━━━━━━━━━━\u001B[0m\u001B[37m\u001B[0m \u001B[1m28s\u001B[0m 68ms/step - accuracy: 0.5591 - loss: 1.0276 - val_accuracy: 0.4934 - val_loss: 1.1624\n",
      "Epoch 4/10\n",
      "\u001B[1m410/410\u001B[0m \u001B[32m━━━━━━━━━━━━━━━━━━━━\u001B[0m\u001B[37m\u001B[0m \u001B[1m29s\u001B[0m 71ms/step - accuracy: 0.5954 - loss: 0.9602 - val_accuracy: 0.4922 - val_loss: 1.1978\n",
      "Epoch 5/10\n",
      "\u001B[1m410/410\u001B[0m \u001B[32m━━━━━━━━━━━━━━━━━━━━\u001B[0m\u001B[37m\u001B[0m \u001B[1m29s\u001B[0m 71ms/step - accuracy: 0.6301 - loss: 0.8949 - val_accuracy: 0.4825 - val_loss: 1.2646\n",
      "Epoch 6/10\n",
      "\u001B[1m410/410\u001B[0m \u001B[32m━━━━━━━━━━━━━━━━━━━━\u001B[0m\u001B[37m\u001B[0m \u001B[1m28s\u001B[0m 69ms/step - accuracy: 0.6709 - loss: 0.8150 - val_accuracy: 0.4728 - val_loss: 1.3473\n",
      "Epoch 7/10\n",
      "\u001B[1m410/410\u001B[0m \u001B[32m━━━━━━━━━━━━━━━━━━━━\u001B[0m\u001B[37m\u001B[0m \u001B[1m29s\u001B[0m 71ms/step - accuracy: 0.7127 - loss: 0.7239 - val_accuracy: 0.4738 - val_loss: 1.4797\n"
     ]
    }
   ],
   "execution_count": 4
  },
  {
   "metadata": {
    "ExecuteTime": {
     "end_time": "2025-03-24T16:20:24.088596Z",
     "start_time": "2025-03-24T16:20:24.005407Z"
    }
   },
   "cell_type": "code",
   "outputs": [
    {
     "name": "stdout",
     "output_type": "stream",
     "text": [
      "\u001B[1m1/1\u001B[0m \u001B[32m━━━━━━━━━━━━━━━━━━━━\u001B[0m\u001B[37m\u001B[0m \u001B[1m0s\u001B[0m 30ms/step\n",
      "Predicted score: 5\n"
     ]
    }
   ],
   "execution_count": 27,
   "source": [
    "# Beispiel-Vorhersage\n",
    "def predict_review(text):\n",
    "   #text = clean_text(text)\n",
    "    sequence = tokenizer.texts_to_sequences([text])\n",
    "    padded = pad_sequences(sequence, maxlen=max_length, padding='post', truncating='post')\n",
    "    prediction = model.predict(padded)\n",
    "    return np.argmax(prediction) + 1  # Rückumwandlung in 1-5\n",
    "\n",
    "# Test: Wie bewertet das Modell eine neue Rezension?\n",
    "example_review = \"This app is amazing! I love it so much. Best dating app ever.\"\n",
    "print(\"Predicted score:\", predict_review(example_review))"
   ],
   "id": "156aad7208408ac0"
  },
  {
   "metadata": {
    "ExecuteTime": {
     "end_time": "2025-03-24T16:20:25.826542Z",
     "start_time": "2025-03-24T16:20:25.786999Z"
    }
   },
   "cell_type": "code",
   "outputs": [
    {
     "name": "stdout",
     "output_type": "stream",
     "text": [
      "\u001B[1m1/1\u001B[0m \u001B[32m━━━━━━━━━━━━━━━━━━━━\u001B[0m\u001B[37m\u001B[0m \u001B[1m0s\u001B[0m 15ms/step\n"
     ]
    },
    {
     "data": {
      "text/plain": [
       "np.int64(3)"
      ]
     },
     "execution_count": 28,
     "metadata": {},
     "output_type": "execute_result"
    }
   ],
   "execution_count": 28,
   "source": "predict_review(\"Alright dating app, there's no fake profile, but subscription is too much expensive\")",
   "id": "4502f6d0b90ba94a"
  },
  {
   "metadata": {
    "ExecuteTime": {
     "end_time": "2025-03-24T16:20:30.598418Z",
     "start_time": "2025-03-24T16:20:30.556062Z"
    }
   },
   "cell_type": "code",
   "outputs": [
    {
     "name": "stdout",
     "output_type": "stream",
     "text": [
      "\u001B[1m1/1\u001B[0m \u001B[32m━━━━━━━━━━━━━━━━━━━━\u001B[0m\u001B[37m\u001B[0m \u001B[1m0s\u001B[0m 16ms/step\n"
     ]
    },
    {
     "data": {
      "text/plain": [
       "np.int64(3)"
      ]
     },
     "execution_count": 29,
     "metadata": {},
     "output_type": "execute_result"
    }
   ],
   "execution_count": 29,
   "source": "predict_review(\"Not sure, what to think about it, every time I have a match my heart gets broken\")",
   "id": "d077f40ea7c1e6cf"
  }
 ],
 "metadata": {
  "kernelspec": {
   "display_name": "Python 3",
   "language": "python",
   "name": "python3"
  },
  "language_info": {
   "codemirror_mode": {
    "name": "ipython",
    "version": 2
   },
   "file_extension": ".py",
   "mimetype": "text/x-python",
   "name": "python",
   "nbconvert_exporter": "python",
   "pygments_lexer": "ipython2",
   "version": "2.7.6"
  }
 },
 "nbformat": 4,
 "nbformat_minor": 5
}
