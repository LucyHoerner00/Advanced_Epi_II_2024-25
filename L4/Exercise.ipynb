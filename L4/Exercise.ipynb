{
 "cells": [
  {
   "metadata": {},
   "cell_type": "markdown",
   "source": [
    "## Exercise\n",
    "Every year, the city of Munich updates a data set that shows visitor numbers, drinking mood and Hendl consumption.\n",
    "\n",
    "https://opendata.muenchen.de/en/dataset/oktoberfest/resource/e0f664cf-6dd9-4743-bd2b-81a8b18bd1d2"
   ],
   "id": "a2f35ee015a63f47"
  },
  {
   "metadata": {
    "ExecuteTime": {
     "end_time": "2025-03-17T19:49:46.773751Z",
     "start_time": "2025-03-17T19:49:46.767173Z"
    }
   },
   "cell_type": "code",
   "source": [
    "import pandas as pd\n",
    "import numpy as np\n",
    "import matplotlib.pyplot as plt\n",
    "import seaborn as sns\n",
    "\n",
    "df = pd.read_csv(\"Oktoberfest.csv\")"
   ],
   "id": "3d81d3a2cb17c67",
   "outputs": [],
   "execution_count": 1
  },
  {
   "metadata": {},
   "cell_type": "markdown",
   "source": [
    "### Task 1\n",
    "Create **two different visualizations** and display them **side by side** using subplots. The goal is to analyze historical Oktoberfest data and explore possible relationships between key variables.\n",
    "\n",
    "**Beer Price Development**  \n",
    "- Create a **line plot** that shows how **beer prices** have changed over the years.  \n",
    "- Make sure to label the axes and add a **title** to the plot.  \n",
    "\n",
    "**Relationship Between Beer and Roasted Chicken Consumption**  \n",
    "- Create a **scatter plot** that examines the relationship between **beer consumption and roasted chicken consumption**.  \n",
    "- Add a **regression line** to highlight possible trends.  \n",
    "- Ensure the axes are properly labeled and add a **title** to the plot.  \n",
    "\n",
    "**Subplots**  \n",
    "- Display both visualizations **side by side** using **subplots**.  \n",
    "- Adjust the layout so that the figures are **well-proportioned and easy to read**.  \n"
   ],
   "id": "832b612fbe55f136"
  },
  {
   "metadata": {
    "ExecuteTime": {
     "end_time": "2025-03-17T20:11:02.549187Z",
     "start_time": "2025-03-17T20:11:02.546025Z"
    }
   },
   "cell_type": "code",
   "source": "",
   "id": "61012a2f9dc8c142",
   "outputs": [],
   "execution_count": null
  },
  {
   "metadata": {},
   "cell_type": "markdown",
   "source": [
    "### Task 2: Analyzing Beer and Roasted Chicken Prices vs. Consumption\n",
    "Analyze how **beer and roasted chicken prices** have evolved over time and how this relates to **beer consumption** at the Oktoberfest.\n",
    "\n",
    "**Plot Beer and Roasted Chicken Prices Over Time**  \n",
    "- Create a **line plot** showing the **beer and roasted chicken prices** over the years.  \n",
    "- Use **distinct colors and markers** to differentiate both price trends.  \n",
    "- Label the axes properly and add a **legend** to indicate which line corresponds to which price.\n",
    "\n",
    "**Overlay Beer Consumption on a Secondary Y-Axis**  \n",
    "- Use a **secondary Y-axis** (`twinx()`) to plot the **beer consumption** over time.  \n",
    "- Ensure that the **scales on both axes are appropriate** and clearly distinguishable.\n",
    "- Add a **legend** to show the corresponding label.\n",
    "\n",
    "**Final Touches**  \n",
    "- Give the visualization a **clear title** and adjust gridlines to enhance readability.  \n",
    "- Make sure that **both Y-axes are correctly labeled**, indicating units (€/hl).  \n"
   ],
   "id": "6d8b9ad2fd52a3ce"
  },
  {
   "metadata": {
    "ExecuteTime": {
     "end_time": "2025-03-17T20:11:06.881491Z",
     "start_time": "2025-03-17T20:11:06.879269Z"
    }
   },
   "cell_type": "code",
   "source": "",
   "id": "6943f6a2f0a962ce",
   "outputs": [],
   "execution_count": null
  },
  {
   "metadata": {},
   "cell_type": "markdown",
   "source": [
    "### Task 3: Visualizing the Relationship Between Beer Price, Visitors, and Beer Consumption\n",
    "**Create a Bubble Chart**  \n",
    "- Generate a **scatter plot** with:  \n",
    "  - **Total visitors (in millions) on the X-axis**  \n",
    "  - **Beer price (in €) on the Y-axis**  \n",
    "- Each point should **represent a year**, so color-code the points by year (`hue` parameter).\n",
    "\n",
    "**Represent Beer Consumption with Bubble Size**  \n",
    "- The **bubble size should reflect beer consumption** (larger bubbles for higher beer consumption).  \n",
    "- Adjust the scaling so that differences in consumption are clearly visible but not overwhelming.\n",
    "\n",
    "**Final Touches**  \n",
    "- Use **circular markers (`marker=\"o\"`)** to ensure a clean and readable plot.  \n",
    "- Label both axes properly and add a **title**.  \n",
    "- Include a **legend** that differentiates the years.\n",
    "- Apply **aesthetic improvements**, such as adjusting transparency (`alpha`) and adding gridlines for readability.\n"
   ],
   "id": "556e527af5f003e1"
  },
  {
   "metadata": {
    "ExecuteTime": {
     "end_time": "2025-03-17T20:11:11.570027Z",
     "start_time": "2025-03-17T20:11:11.567757Z"
    }
   },
   "cell_type": "code",
   "source": "",
   "id": "1cd518b15f08d936",
   "outputs": [],
   "execution_count": null
  }
 ],
 "metadata": {
  "kernelspec": {
   "display_name": "Python 3",
   "language": "python",
   "name": "python3"
  },
  "language_info": {
   "codemirror_mode": {
    "name": "ipython",
    "version": 2
   },
   "file_extension": ".py",
   "mimetype": "text/x-python",
   "name": "python",
   "nbconvert_exporter": "python",
   "pygments_lexer": "ipython2",
   "version": "2.7.6"
  }
 },
 "nbformat": 4,
 "nbformat_minor": 5
}
