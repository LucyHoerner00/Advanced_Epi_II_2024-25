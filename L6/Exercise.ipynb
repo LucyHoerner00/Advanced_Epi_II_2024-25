{
 "cells": [
  {
   "metadata": {},
   "cell_type": "markdown",
   "source": [
    "# Exercise: Supervised learning\n",
    "\n",
    "In this exercise, you will be given two data sets, each of which you are to use to calculate a supervised learning model."
   ],
   "id": "794701055ebd438a"
  },
  {
   "metadata": {},
   "cell_type": "markdown",
   "source": [
    "\n",
    "## Task 1: Tumor Classification using K-Nearest Neighbors (KNN)\n",
    "Classify tumors as **Benign** or **Malignant** based on patient characteristics using **K-Nearest Neighbors (KNN)**.\n",
    "\n",
    "1. **Preprocessing**\n",
    "   - Encode categorical variables (`Gender`, `Location`, `Histology`, etc.).\n",
    "   - Scale numerical features (`Age`, `Tumor_Size`, `Tumor_Growth_Rate`).\n",
    "   - Split the dataset into **training (80%)** and **testing (20%)** sets.\n",
    "\n",
    "2. **Model Implementation**\n",
    "   - Train a **K-Nearest Neighbors (KNN) classifier** to predict `Tumor_Type` (`Benign` or `Malignant`).\n",
    "   - Perform **hyperparameter tuning** to find the best `k`.\n",
    "\n",
    "3. **Model Evaluation**:\n",
    "   - Plot the **confusion matrix** and **classification report**.\n",
    "   - Compare accuracy for different values of `k` using a **line plot**.\n",
    "\n",
    "Question: Based on your accuracy values, would you say that the model is suitable for making reliable classifications about benign and malignant tumors.\n",
    "\n",
    "\n"
   ],
   "id": "b9cdf8e09c90ece4"
  },
  {
   "metadata": {},
   "cell_type": "code",
   "outputs": [],
   "execution_count": null,
   "source": [
    "import pandas as pd\n",
    "\n",
    "df = pd.read_csv('brain_tumor_dataset.csv')"
   ],
   "id": "bb9d6597dec7e84e"
  },
  {
   "metadata": {},
   "cell_type": "code",
   "outputs": [],
   "execution_count": null,
   "source": "",
   "id": "f2c1f0cce4368d25"
  },
  {
   "metadata": {},
   "cell_type": "markdown",
   "source": [
    "## Task 2\n",
    "The goal of this exercise is to predict **Life Expectancy** (`Life expectancy`) based on various health, economic, and demographic factors using **Linear Regression**. The model should be optimized using **Ridge and Lasso Regression**.\n",
    "\n",
    "1. **Preprocessing**\n",
    "- Remove irrelevant columns (`Country`, `Year`).\n",
    "- Encode categorical variables (`Status`).\n",
    "- Handle missing values appropriately.\n",
    "- Standardize numerical features (e.g., `GDP`, `Schooling`, `Alcohol`) using `StandardScaler`.\n",
    "- Split the dataset into **training (80%)** and **testing (20%)** sets.\n",
    "\n",
    "2. **Model Implementation**\n",
    "- Train a **basic Linear Regression** model and evaluate its performance.\n",
    "- Implement **Ridge Regression** and **Lasso Regression**, tuning the `alpha` hyperparameter using **cross-validation**.\n",
    "\n",
    "3. **Model Evaluation**:\n",
    "- Compute the **Root Mean Squared Error (MSE)** for all models.\n",
    "- Compare Ridge and Lasso performance to determine if regularization improves results.\n",
    "- Plot **actual vs. predicted life expectancy** scores for each model.\n"
   ],
   "id": "e8d88515d83254ca"
  },
  {
   "metadata": {},
   "cell_type": "code",
   "outputs": [],
   "execution_count": null,
   "source": "df = pd.read_csv(\"Life Expectancy Data.csv\")",
   "id": "be86b12673c8f2d1"
  },
  {
   "metadata": {},
   "cell_type": "code",
   "outputs": [],
   "execution_count": null,
   "source": "",
   "id": "1d5be263e99e302e"
  }
 ],
 "metadata": {
  "kernelspec": {
   "display_name": "Python 3",
   "language": "python",
   "name": "python3"
  },
  "language_info": {
   "codemirror_mode": {
    "name": "ipython",
    "version": 2
   },
   "file_extension": ".py",
   "mimetype": "text/x-python",
   "name": "python",
   "nbconvert_exporter": "python",
   "pygments_lexer": "ipython2",
   "version": "2.7.6"
  }
 },
 "nbformat": 4,
 "nbformat_minor": 5
}
