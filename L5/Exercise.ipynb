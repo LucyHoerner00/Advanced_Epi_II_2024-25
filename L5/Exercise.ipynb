{
 "cells": [
  {
   "metadata": {},
   "cell_type": "markdown",
   "source": [
    "# Exercise: Working with DateTime Variables\n",
    "In this task, you will work with **date and time data** in Pandas. The data set used contains counts of cyclists at various time intervals and locations in Munich. The data set contains the following variables:\n",
    "- `“datum”` = date\n",
    "- `“uhrzeit_start”` = start of the measurement interval\n",
    "- `“uhrzeit_ende”` = end of the measurement interval\n",
    "- `“richtung_1”` = direction of travel 1 of the cyclist\n",
    "- `“richtung_2”` = direction of travel 2 of the cyclist\n",
    "- `“total”` = total number of cyclists in a time interval"
   ],
   "id": "b804c8ed46ccbfc9"
  },
  {
   "metadata": {
    "ExecuteTime": {
     "end_time": "2025-03-19T19:10:15.882077Z",
     "start_time": "2025-03-19T19:10:15.627119Z"
    }
   },
   "cell_type": "code",
   "source": [
    "import pandas as pd\n",
    "\n",
    "df = pd.read_csv('rad_15min_condensed.csv')"
   ],
   "id": "7ee0f8de6bab146c",
   "outputs": [
    {
     "data": {
      "text/plain": [
       "             datum uhrzeit_start uhrzeit_ende zaehlstelle  richtung_1  \\\n",
       "0       2022.11.01         06:15        06:30    Kreuther         0.0   \n",
       "1       2022.11.01         06:15        06:30  Margareten         3.0   \n",
       "2       2022.11.01         06:15        06:30     Olympia         0.0   \n",
       "3       2022.11.01         06:30        06:45      Arnulf         6.0   \n",
       "4       2022.11.01         06:30        06:45     Erhardt         1.0   \n",
       "...            ...           ...          ...         ...         ...   \n",
       "399995  2024.12.31         23:45        00:00      Arnulf         0.0   \n",
       "399996  2024.12.31         23:45        00:00     Erhardt         3.0   \n",
       "399997  2024.12.31         23:45        00:00      Hirsch         0.0   \n",
       "399998  2024.12.31         23:45        00:00    Kreuther         0.0   \n",
       "399999  2024.12.31         23:45        00:00     Olympia         5.0   \n",
       "\n",
       "        richtung_2  gesamt  \n",
       "0              0.0     0.0  \n",
       "1              1.0     4.0  \n",
       "2              0.0     0.0  \n",
       "3              0.0     6.0  \n",
       "4              1.0     2.0  \n",
       "...            ...     ...  \n",
       "399995         1.0     1.0  \n",
       "399996         3.0     6.0  \n",
       "399997         0.0     0.0  \n",
       "399998         0.0     0.0  \n",
       "399999         0.0     5.0  \n",
       "\n",
       "[400000 rows x 7 columns]"
      ],
      "text/html": [
       "<div>\n",
       "<style scoped>\n",
       "    .dataframe tbody tr th:only-of-type {\n",
       "        vertical-align: middle;\n",
       "    }\n",
       "\n",
       "    .dataframe tbody tr th {\n",
       "        vertical-align: top;\n",
       "    }\n",
       "\n",
       "    .dataframe thead th {\n",
       "        text-align: right;\n",
       "    }\n",
       "</style>\n",
       "<table border=\"1\" class=\"dataframe\">\n",
       "  <thead>\n",
       "    <tr style=\"text-align: right;\">\n",
       "      <th></th>\n",
       "      <th>datum</th>\n",
       "      <th>uhrzeit_start</th>\n",
       "      <th>uhrzeit_ende</th>\n",
       "      <th>zaehlstelle</th>\n",
       "      <th>richtung_1</th>\n",
       "      <th>richtung_2</th>\n",
       "      <th>gesamt</th>\n",
       "    </tr>\n",
       "  </thead>\n",
       "  <tbody>\n",
       "    <tr>\n",
       "      <th>0</th>\n",
       "      <td>2022.11.01</td>\n",
       "      <td>06:15</td>\n",
       "      <td>06:30</td>\n",
       "      <td>Kreuther</td>\n",
       "      <td>0.0</td>\n",
       "      <td>0.0</td>\n",
       "      <td>0.0</td>\n",
       "    </tr>\n",
       "    <tr>\n",
       "      <th>1</th>\n",
       "      <td>2022.11.01</td>\n",
       "      <td>06:15</td>\n",
       "      <td>06:30</td>\n",
       "      <td>Margareten</td>\n",
       "      <td>3.0</td>\n",
       "      <td>1.0</td>\n",
       "      <td>4.0</td>\n",
       "    </tr>\n",
       "    <tr>\n",
       "      <th>2</th>\n",
       "      <td>2022.11.01</td>\n",
       "      <td>06:15</td>\n",
       "      <td>06:30</td>\n",
       "      <td>Olympia</td>\n",
       "      <td>0.0</td>\n",
       "      <td>0.0</td>\n",
       "      <td>0.0</td>\n",
       "    </tr>\n",
       "    <tr>\n",
       "      <th>3</th>\n",
       "      <td>2022.11.01</td>\n",
       "      <td>06:30</td>\n",
       "      <td>06:45</td>\n",
       "      <td>Arnulf</td>\n",
       "      <td>6.0</td>\n",
       "      <td>0.0</td>\n",
       "      <td>6.0</td>\n",
       "    </tr>\n",
       "    <tr>\n",
       "      <th>4</th>\n",
       "      <td>2022.11.01</td>\n",
       "      <td>06:30</td>\n",
       "      <td>06:45</td>\n",
       "      <td>Erhardt</td>\n",
       "      <td>1.0</td>\n",
       "      <td>1.0</td>\n",
       "      <td>2.0</td>\n",
       "    </tr>\n",
       "    <tr>\n",
       "      <th>...</th>\n",
       "      <td>...</td>\n",
       "      <td>...</td>\n",
       "      <td>...</td>\n",
       "      <td>...</td>\n",
       "      <td>...</td>\n",
       "      <td>...</td>\n",
       "      <td>...</td>\n",
       "    </tr>\n",
       "    <tr>\n",
       "      <th>399995</th>\n",
       "      <td>2024.12.31</td>\n",
       "      <td>23:45</td>\n",
       "      <td>00:00</td>\n",
       "      <td>Arnulf</td>\n",
       "      <td>0.0</td>\n",
       "      <td>1.0</td>\n",
       "      <td>1.0</td>\n",
       "    </tr>\n",
       "    <tr>\n",
       "      <th>399996</th>\n",
       "      <td>2024.12.31</td>\n",
       "      <td>23:45</td>\n",
       "      <td>00:00</td>\n",
       "      <td>Erhardt</td>\n",
       "      <td>3.0</td>\n",
       "      <td>3.0</td>\n",
       "      <td>6.0</td>\n",
       "    </tr>\n",
       "    <tr>\n",
       "      <th>399997</th>\n",
       "      <td>2024.12.31</td>\n",
       "      <td>23:45</td>\n",
       "      <td>00:00</td>\n",
       "      <td>Hirsch</td>\n",
       "      <td>0.0</td>\n",
       "      <td>0.0</td>\n",
       "      <td>0.0</td>\n",
       "    </tr>\n",
       "    <tr>\n",
       "      <th>399998</th>\n",
       "      <td>2024.12.31</td>\n",
       "      <td>23:45</td>\n",
       "      <td>00:00</td>\n",
       "      <td>Kreuther</td>\n",
       "      <td>0.0</td>\n",
       "      <td>0.0</td>\n",
       "      <td>0.0</td>\n",
       "    </tr>\n",
       "    <tr>\n",
       "      <th>399999</th>\n",
       "      <td>2024.12.31</td>\n",
       "      <td>23:45</td>\n",
       "      <td>00:00</td>\n",
       "      <td>Olympia</td>\n",
       "      <td>5.0</td>\n",
       "      <td>0.0</td>\n",
       "      <td>5.0</td>\n",
       "    </tr>\n",
       "  </tbody>\n",
       "</table>\n",
       "<p>400000 rows × 7 columns</p>\n",
       "</div>"
      ]
     },
     "execution_count": 11,
     "metadata": {},
     "output_type": "execute_result"
    }
   ],
   "execution_count": 11
  },
  {
   "metadata": {},
   "cell_type": "markdown",
   "source": [
    "## Task 1\n",
    "**Creating Time Variables**\n",
    "- Use the columns **`datum` (date)** and **`uhrzeit_start` (start time)** to create a new column called **`datetime_start`**.\n",
    "- Similarly, combine **`datum` (date)** and **`uhrzeit_ende` (end time)** into a new **`datetime_end`** column.\n",
    "- Make sure that the variables is in the correct **datetime format**.\n",
    "- After successfully creating `datetime_start` and `datetime_end`, **remove the original columns** (`datum`, `uhrzeit_start`, and `uhrzeit_ende`) from the dataset."
   ],
   "id": "ae5f67e1c9d2f2e4"
  },
  {
   "metadata": {
    "ExecuteTime": {
     "end_time": "2025-03-19T19:45:42.248947Z",
     "start_time": "2025-03-19T19:45:42.243759Z"
    }
   },
   "cell_type": "code",
   "source": "",
   "id": "3f13b0fb002ba608",
   "outputs": [],
   "execution_count": null
  },
  {
   "metadata": {},
   "cell_type": "markdown",
   "source": [
    "## Task 2\n",
    "In this task, you will analyze time-based trends in cycling data: determine **the peak hour for each counting station (\"zaehlstelle\")** based on the total number of cyclists recorded. Your result should be a dataframe showing:\n",
    " - The **counting station (`zaehlstelle`)**  \n",
    "  - The **peak hour (`peakhour`)**  \n",
    "  - The **total number of cyclists during that peak hour (`total_cyclists_peakhour`)**  \n",
    "\n"
   ],
   "id": "52865a7d65a14186"
  },
  {
   "metadata": {
    "ExecuteTime": {
     "end_time": "2025-03-19T19:45:43.904284Z",
     "start_time": "2025-03-19T19:45:43.901198Z"
    }
   },
   "cell_type": "code",
   "source": "",
   "id": "bd7ade209153c397",
   "outputs": [],
   "execution_count": null
  },
  {
   "metadata": {},
   "cell_type": "markdown",
   "source": [
    "## Task 3\n",
    "Analyze the dataset to determine whether the number of cyclists follows a **trend** or exhibits **seasonal patterns**.\n",
    "\n",
    "1. **Trend Analysis**\n",
    "Investigate if the cyclist count follows an increasing or decreasing trend.\n",
    "- Compute a **7-day moving average** to smooth out short-term fluctuations.\n",
    "- Plot both the **original data** and the **moving average**.\n",
    "\n",
    "2. **Apply Differencing to Remove Trends**\n",
    "- Compute the **first-order difference** of the data.\n",
    "- Plot the differenced data and analyze whether the trend is removed.\n",
    "\n",
    "3. **Compute ACF & PACF**\n",
    "- **Autocorrelation Function (ACF):** Detect repeating cycles (e.g., daily or weekly patterns).\n",
    "- **Partial Autocorrelation Function (PACF):** Identify significant lags that influence future values.\n",
    "\n",
    "**Questions for Analysis**\n",
    "- **Do you observe a clear trend in the cyclist count over time?**  \n",
    "- **Is there a repeating pattern in the data?**  \n",
    "- **What do the ACF/PACF plots suggest about seasonal effects?**  \n"
   ],
   "id": "7be4c1103877f343"
  },
  {
   "metadata": {
    "ExecuteTime": {
     "end_time": "2025-03-19T19:45:39.992802Z",
     "start_time": "2025-03-19T19:45:39.990503Z"
    }
   },
   "cell_type": "code",
   "source": "",
   "id": "234876ce8e83474d",
   "outputs": [],
   "execution_count": null
  },
  {
   "metadata": {
    "ExecuteTime": {
     "end_time": "2025-03-19T19:45:38.412783Z",
     "start_time": "2025-03-19T19:45:38.403162Z"
    }
   },
   "cell_type": "code",
   "source": "",
   "id": "73b416a1d8e6d0fa",
   "outputs": [],
   "execution_count": null
  },
  {
   "metadata": {
    "ExecuteTime": {
     "end_time": "2025-03-19T19:45:49.558128Z",
     "start_time": "2025-03-19T19:45:49.554931Z"
    }
   },
   "cell_type": "code",
   "source": "",
   "id": "f1ee19df052981b0",
   "outputs": [],
   "execution_count": null
  },
  {
   "metadata": {
    "ExecuteTime": {
     "end_time": "2025-03-19T19:45:53.704934Z",
     "start_time": "2025-03-19T19:45:53.702550Z"
    }
   },
   "cell_type": "code",
   "source": "",
   "id": "9895ca324839dbdd",
   "outputs": [],
   "execution_count": null
  },
  {
   "metadata": {},
   "cell_type": "code",
   "outputs": [],
   "execution_count": null,
   "source": "",
   "id": "95ba479711ec8147"
  }
 ],
 "metadata": {
  "kernelspec": {
   "display_name": "Python 3",
   "language": "python",
   "name": "python3"
  },
  "language_info": {
   "codemirror_mode": {
    "name": "ipython",
    "version": 2
   },
   "file_extension": ".py",
   "mimetype": "text/x-python",
   "name": "python",
   "nbconvert_exporter": "python",
   "pygments_lexer": "ipython2",
   "version": "2.7.6"
  }
 },
 "nbformat": 4,
 "nbformat_minor": 5
}
