{
 "cells": [
  {
   "metadata": {},
   "cell_type": "markdown",
   "source": [
    "## Exercise: Pandas & NumPy with Student Performance Dataset\n",
    "## Exercise: Pandas & NumPy with Student Performance Dataset\n",
    "\n",
    "You are provided with three separate datasets, all originally derived from a single dataset. However, these datasets have undergone slight modifications through different processes. Your task is to analyze the datasets, identify the differences, and correctly merge them back together.\n",
    "\n",
    "**Important Notes**:\n",
    "- Some column names have been changed and need to be translated back.\n",
    "- Certain categorical variables have altered values (e.g., some categories have been renamed).\n",
    "- Check the distribution of numerical variables, as there may be discrepancies.\n",
    "- Missing values are present in multiple columns and need to be imputed appropriately. Justify your choice of imputation method.\n",
    "- Some columns have been stored in different data types (e.g., numbers as strings). Ensure that data types are correct before merging the datasets.\n",
    "\n",
    "Your Task:\n",
    "1. Load all three datasets into Python.\n",
    "2. Identify differences and discrepancies between the datasets.\n",
    "3. Reconstruct the original dataset by:\n",
    "    - Adjusting column names and data types.\n",
    "    - Correctly merging the datasets.\n",
    "    - Handling missing values (imputation) and justifying your chosen method.\n",
    "4. Save the final dataset as Merged_StudentData.csv.\n",
    "5. Perform hypothesis tests to analyze relationships between the following variables: `Sleep_Hours`, `Exam_Score`, `Internet_Access`, `Hours_Studied`, and `Tutoring_Sessions`."
   ],
   "id": "fb3a056853745392"
  },
  {
   "metadata": {
    "ExecuteTime": {
     "end_time": "2025-03-16T20:18:14.506664Z",
     "start_time": "2025-03-16T20:18:14.502474Z"
    }
   },
   "cell_type": "code",
   "source": "",
   "id": "c077638d8b1e6b70",
   "outputs": [],
   "execution_count": null
  },
  {
   "metadata": {},
   "cell_type": "markdown",
   "source": [
    "### Hypotheses testing\n",
    "\n",
    "Hypothesis 1: There is a positive correlation between the number of hours of sleep (Sleep_Hours) and the exam grade (Exam_Score).\n",
    "- Remove potential outliers (e.g. students who sleep extremely little or extremely much, i.e. top and bottom 3 %).\n",
    "- First check whether the variables are normally distributed. If not, apply Spearman correlation."
   ],
   "id": "f2e28515a6e718f1"
  },
  {
   "metadata": {},
   "cell_type": "code",
   "outputs": [],
   "execution_count": null,
   "source": "",
   "id": "290fe3a9cb4f9f67"
  },
  {
   "metadata": {},
   "cell_type": "markdown",
   "source": [
    "Hypothesis 2: Students with Internet access (Internet_Access) spend more time studying (Hours_Studied) than students without Internet access.\n",
    "- Create a boxplot for visualization and check for outliers.\n",
    "- Remove extreme values according to boxplot definition."
   ],
   "id": "fa1453d49a429749"
  },
  {
   "metadata": {},
   "cell_type": "code",
   "outputs": [],
   "execution_count": null,
   "source": "",
   "id": "2529d7a969675c6b"
  },
  {
   "metadata": {},
   "cell_type": "markdown",
   "source": "Hypothesis 3: Students who receive tutoring (Tutoring_Sessions) have higher exam grades than students without tutoring.",
   "id": "ac496c521a3a5cc2"
  },
  {
   "metadata": {},
   "cell_type": "code",
   "outputs": [],
   "execution_count": null,
   "source": "",
   "id": "2bb6b6291eade00"
  }
 ],
 "metadata": {
  "kernelspec": {
   "display_name": "Python 3",
   "language": "python",
   "name": "python3"
  },
  "language_info": {
   "codemirror_mode": {
    "name": "ipython",
    "version": 2
   },
   "file_extension": ".py",
   "mimetype": "text/x-python",
   "name": "python",
   "nbconvert_exporter": "python",
   "pygments_lexer": "ipython2",
   "version": "2.7.6"
  }
 },
 "nbformat": 4,
 "nbformat_minor": 5
}
