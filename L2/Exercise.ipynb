{
 "cells": [
  {
   "metadata": {},
   "cell_type": "markdown",
   "source": [
    "## Exercise: Pandas & NumPy with Spotify Dataset\n",
    "Use pandas and NumPy to analyze, filter, manipulate, and visualize data from the Spotify 2023 dataset.\n",
    "\n",
    "### Task 1: Data exploration and cleaning\n",
    "1. Load the dataset in pandas.\n",
    "2. Check for missing values and handle them:\n",
    "    - Replace missing values in the \"key\" column with \"Unknown\".\n",
    "    - Fill missing values in \"in_shazam_charts\" with 0.\n",
    "3. Filter the dataset:\n",
    "    - Extract all tracks from 2023 that have been in Spotify Charts at least 50 times.\n",
    "    - Save this subset as \"popular_tracks_2023.csv\"."
   ],
   "id": "367e5477fdf02fda"
  },
  {
   "metadata": {},
   "cell_type": "code",
   "outputs": [],
   "execution_count": null,
   "source": [
    "import pandas as pd\n",
    "\n",
    "spotify_df = pd.read_csv(\"spotify-2023.csv\", encoding_errors=\"ignore\")"
   ],
   "id": "68ad1af7a355f67"
  },
  {
   "metadata": {},
   "cell_type": "code",
   "outputs": [],
   "execution_count": null,
   "source": "",
   "id": "2fabbb3bdba2ed78"
  },
  {
   "metadata": {},
   "cell_type": "markdown",
   "source": [
    "### Task 2: Statistical analysis and aggregation\n",
    "1. Calculate basic statistics:\n",
    "    - Find the average BPM (tempo) by key.\n",
    "    - Find the average energy level for songs with more than 100 million streams.\n",
    "2. Sort the dataset:\n",
    "    - Find the top 10 most streamed songs.\n",
    "    - Find the 5 least danceable songs.\n",
    "3. Group the dataset:\n",
    "    - Count how many tracks belong to each mode (Major/Minor)."
   ],
   "id": "b02fdbe9de45e213"
  },
  {
   "metadata": {},
   "cell_type": "code",
   "outputs": [],
   "execution_count": null,
   "source": "",
   "id": "504e96ad3e1ad494"
  },
  {
   "metadata": {},
   "cell_type": "markdown",
   "source": [
    "### Task 3: Feature engineering\n",
    "1. Create a new variable \"track_popularity\" using the following logic:\n",
    "    - \"Super Hit\" if streams > 500M.\n",
    "    - \"Hit\" if streams between 100M and 500M.\n",
    "    - \"Moderate\" if streams between 50M and 100M.\n",
    "    - \"Less Popular\" otherwise.\n",
    "2. Save the modified dataset with the new column as \"track_popularity_data.csv\"."
   ],
   "id": "37a52ffc453f5158"
  },
  {
   "metadata": {},
   "cell_type": "code",
   "outputs": [],
   "execution_count": null,
   "source": "",
   "id": "2e3a205a7d53d4f0"
  },
  {
   "metadata": {},
   "cell_type": "markdown",
   "source": [
    "### Task 4: Unique Task\n",
    "Each student must create their own unique variable in the dataset. Choose one approach:\n",
    "1. Assign a playlist ranking (playlist_rank):\n",
    "    - Generate a random rank between 1 and 100 for each track using np.random.randint().\n",
    "2. Create an emotional category (mood_category):\n",
    "    - Categorize songs based on valence (happiness) and energy.\n",
    "      - \"Energetic & Happy\" if valence > 60 and energy > 70.\n",
    "      - \"Calm & Happy\" if valence > 60 and energy <= 70.\n",
    "      - \"Sad\" if valence < 40.\n",
    "      - \"Neutral\" otherwise.\n",
    "3. Define a personal popularity score (custom_popularity_score):\n",
    "    - Use a custom formula (e.g., (streams / bpm) * danceability_%)."
   ],
   "id": "e95c6711ec0303f3"
  },
  {
   "metadata": {},
   "cell_type": "code",
   "outputs": [],
   "execution_count": null,
   "source": "",
   "id": "7bbcb5d288b733c0"
  }
 ],
 "metadata": {
  "kernelspec": {
   "display_name": "Python 3",
   "language": "python",
   "name": "python3"
  },
  "language_info": {
   "codemirror_mode": {
    "name": "ipython",
    "version": 2
   },
   "file_extension": ".py",
   "mimetype": "text/x-python",
   "name": "python",
   "nbconvert_exporter": "python",
   "pygments_lexer": "ipython2",
   "version": "2.7.6"
  }
 },
 "nbformat": 4,
 "nbformat_minor": 5
}
