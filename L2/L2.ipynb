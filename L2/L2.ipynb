{
 "cells": [
  {
   "metadata": {},
   "cell_type": "markdown",
   "source": [
    "# Advanced Epi II: Introduction to Python\n",
    "## Lesson 2\n",
    "- Intensify lists\n",
    "- NumPy\n",
    "- Importing packages with pandas\n",
    "---\n",
    "### Lists\n",
    "You can create **lists within a list**:"
   ],
   "id": "91abac41d197a4c0"
  },
  {
   "metadata": {
    "ExecuteTime": {
     "end_time": "2025-03-13T15:48:34.741711Z",
     "start_time": "2025-03-13T15:48:34.738548Z"
    }
   },
   "cell_type": "code",
   "source": [
    "L2.ipynb# area variables (in square meters)\n",
    "hall = 11.25\n",
    "kit = 18.0\n",
    "liv = 20.0\n",
    "bed = 10.75\n",
    "bath = 9.50\n",
    "\n",
    "# house information as list of lists\n",
    "house = [[\"hallway\", hall],\n",
    "         [\"kitchen\", kit],\n",
    "         [\"living room\", liv],\n",
    "         [\"bedroom\", bed],\n",
    "         [\"bathroom\", bath]]"
   ],
   "id": "d17f92d00cc4849e",
   "outputs": [],
   "execution_count": 75
  },
  {
   "metadata": {
    "ExecuteTime": {
     "end_time": "2025-03-13T15:48:36.227964Z",
     "start_time": "2025-03-13T15:48:36.225958Z"
    }
   },
   "cell_type": "code",
   "source": [
    "print(house)\n",
    "print(type(house))"
   ],
   "id": "f6241405c5102be3",
   "outputs": [
    {
     "name": "stdout",
     "output_type": "stream",
     "text": [
      "[['hallway', 11.25], ['kitchen', 18.0], ['living room', 20.0], ['bedroom', 10.75], ['bathroom', 9.5]]\n",
      "<class 'list'>\n"
     ]
    }
   ],
   "execution_count": 76
  },
  {
   "metadata": {},
   "cell_type": "markdown",
   "source": [
    "### Key Points About Indexing\n",
    "- **Zero-based Indexing:** The first row has index `0`, the second has index `1`, and so on.\n",
    "- **Slicing Excludes the End:** When selecting a range, e.g., `df[1:5]`, it includes **index 1 to 4**, but **not 5**.\n",
    "- **Custom Indexing:** You can assign custom index values (e.g., setting a column as the index).\n"
   ],
   "id": "582c5551ee230492"
  },
  {
   "metadata": {},
   "cell_type": "markdown",
   "source": "**Subset** elements of a list:",
   "id": "7dcbb7d5076b9b54"
  },
  {
   "metadata": {
    "ExecuteTime": {
     "end_time": "2025-03-13T15:48:38.051596Z",
     "start_time": "2025-03-13T15:48:38.048382Z"
    }
   },
   "cell_type": "code",
   "source": [
    "# Create the areas list\n",
    "areas = [\"hallway\", 11.25, \"kitchen\", 18.0, \"living room\", 20.0, \"bedroom\", 10.75, \"bathroom\", 9.50]"
   ],
   "id": "3b3bef13622da932",
   "outputs": [],
   "execution_count": 77
  },
  {
   "metadata": {
    "ExecuteTime": {
     "end_time": "2025-03-13T15:48:38.996671Z",
     "start_time": "2025-03-13T15:48:38.994098Z"
    }
   },
   "cell_type": "code",
   "source": "print(areas[1]) # second element",
   "id": "fed51b590205733b",
   "outputs": [
    {
     "name": "stdout",
     "output_type": "stream",
     "text": [
      "11.25\n"
     ]
    }
   ],
   "execution_count": 78
  },
  {
   "metadata": {
    "ExecuteTime": {
     "end_time": "2025-03-13T15:48:40.447086Z",
     "start_time": "2025-03-13T15:48:40.443766Z"
    }
   },
   "cell_type": "code",
   "source": "print(areas[0])",
   "id": "a69fdad4d043efeb",
   "outputs": [
    {
     "name": "stdout",
     "output_type": "stream",
     "text": [
      "hallway\n"
     ]
    }
   ],
   "execution_count": 79
  },
  {
   "metadata": {
    "ExecuteTime": {
     "end_time": "2025-03-13T15:48:41.198112Z",
     "start_time": "2025-03-13T15:48:41.194910Z"
    }
   },
   "cell_type": "code",
   "source": "print(house[1])",
   "id": "59459eb8cec8ba0b",
   "outputs": [
    {
     "name": "stdout",
     "output_type": "stream",
     "text": [
      "['kitchen', 18.0]\n"
     ]
    }
   ],
   "execution_count": 80
  },
  {
   "metadata": {
    "ExecuteTime": {
     "end_time": "2025-03-13T15:48:41.676869Z",
     "start_time": "2025-03-13T15:48:41.674836Z"
    }
   },
   "cell_type": "code",
   "source": "print(areas[-1]) # last element",
   "id": "7eea1f3e70899982",
   "outputs": [
    {
     "name": "stdout",
     "output_type": "stream",
     "text": [
      "9.5\n"
     ]
    }
   ],
   "execution_count": 81
  },
  {
   "metadata": {
    "ExecuteTime": {
     "end_time": "2025-03-13T15:48:42.291964Z",
     "start_time": "2025-03-13T15:48:42.290072Z"
    }
   },
   "cell_type": "code",
   "source": "print(areas[-5]) # the fifth last element",
   "id": "5a7d6198128b1b70",
   "outputs": [
    {
     "name": "stdout",
     "output_type": "stream",
     "text": [
      "20.0\n"
     ]
    }
   ],
   "execution_count": 82
  },
  {
   "metadata": {},
   "cell_type": "markdown",
   "source": "**Slicing**: select multiple elements from your list.",
   "id": "eea42e7ea5ae0cbc"
  },
  {
   "metadata": {
    "ExecuteTime": {
     "end_time": "2025-03-13T15:48:44.969855Z",
     "start_time": "2025-03-13T15:48:44.966374Z"
    }
   },
   "cell_type": "code",
   "source": "downstairs = areas[:6]",
   "id": "b54249af19925ce4",
   "outputs": [],
   "execution_count": 83
  },
  {
   "metadata": {
    "ExecuteTime": {
     "end_time": "2025-03-13T15:48:47.766841Z",
     "start_time": "2025-03-13T15:48:47.763879Z"
    }
   },
   "cell_type": "code",
   "source": "print(areas)",
   "id": "5c338ac83d03e1d7",
   "outputs": [
    {
     "name": "stdout",
     "output_type": "stream",
     "text": [
      "['hallway', 11.25, 'kitchen', 18.0, 'living room', 20.0, 'bedroom', 10.75, 'bathroom', 9.5]\n"
     ]
    }
   ],
   "execution_count": 84
  },
  {
   "metadata": {
    "ExecuteTime": {
     "end_time": "2025-03-13T15:48:48.597534Z",
     "start_time": "2025-03-13T15:48:48.594718Z"
    }
   },
   "cell_type": "code",
   "source": "print(downstairs)",
   "id": "6f66f9559ab8f24f",
   "outputs": [
    {
     "name": "stdout",
     "output_type": "stream",
     "text": [
      "['hallway', 11.25, 'kitchen', 18.0, 'living room', 20.0]\n"
     ]
    }
   ],
   "execution_count": 85
  },
  {
   "metadata": {
    "ExecuteTime": {
     "end_time": "2025-03-13T15:48:49.960556Z",
     "start_time": "2025-03-13T15:48:49.956776Z"
    }
   },
   "cell_type": "code",
   "source": "upstairs = areas[-4:]",
   "id": "e88466fa39b86a28",
   "outputs": [],
   "execution_count": 86
  },
  {
   "metadata": {
    "ExecuteTime": {
     "end_time": "2025-03-13T15:48:51.357756Z",
     "start_time": "2025-03-13T15:48:51.354914Z"
    }
   },
   "cell_type": "code",
   "source": "print(upstairs)",
   "id": "6e544fd49a7683ee",
   "outputs": [
    {
     "name": "stdout",
     "output_type": "stream",
     "text": [
      "['bedroom', 10.75, 'bathroom', 9.5]\n"
     ]
    }
   ],
   "execution_count": 87
  },
  {
   "metadata": {
    "ExecuteTime": {
     "end_time": "2025-03-13T15:48:53.006181Z",
     "start_time": "2025-03-13T15:48:53.003817Z"
    }
   },
   "cell_type": "code",
   "source": "print(areas[2:6])",
   "id": "3d1f3ee82762fa15",
   "outputs": [
    {
     "name": "stdout",
     "output_type": "stream",
     "text": [
      "['kitchen', 18.0, 'living room', 20.0]\n"
     ]
    }
   ],
   "execution_count": 88
  },
  {
   "metadata": {},
   "cell_type": "markdown",
   "source": "Subsetting lists of lists:",
   "id": "9caf4b4a10a7fdd6"
  },
  {
   "metadata": {
    "ExecuteTime": {
     "end_time": "2025-03-13T15:48:56.822428Z",
     "start_time": "2025-03-13T15:48:56.819235Z"
    }
   },
   "cell_type": "code",
   "source": "print(house)",
   "id": "511bce6c43ab645a",
   "outputs": [
    {
     "name": "stdout",
     "output_type": "stream",
     "text": [
      "[['hallway', 11.25], ['kitchen', 18.0], ['living room', 20.0], ['bedroom', 10.75], ['bathroom', 9.5]]\n"
     ]
    }
   ],
   "execution_count": 89
  },
  {
   "metadata": {
    "ExecuteTime": {
     "end_time": "2025-03-13T15:49:01.717305Z",
     "start_time": "2025-03-13T15:49:01.712674Z"
    }
   },
   "cell_type": "code",
   "source": "house[-1][1]",
   "id": "504029446845f2e9",
   "outputs": [
    {
     "data": {
      "text/plain": [
       "9.5"
      ]
     },
     "execution_count": 90,
     "metadata": {},
     "output_type": "execute_result"
    }
   ],
   "execution_count": 90
  },
  {
   "metadata": {},
   "cell_type": "markdown",
   "source": "**Extending** a list:",
   "id": "1db3c5cccde7907e"
  },
  {
   "metadata": {
    "ExecuteTime": {
     "end_time": "2025-03-13T15:49:11.649289Z",
     "start_time": "2025-03-13T15:49:11.645874Z"
    }
   },
   "cell_type": "code",
   "source": [
    "areas = areas + [\"poolhouse\", 24.5]\n",
    "print(areas)"
   ],
   "id": "4b19dea211fb1635",
   "outputs": [
    {
     "name": "stdout",
     "output_type": "stream",
     "text": [
      "['hallway', 11.25, 'kitchen', 18.0, 'living room', 20.0, 'bedroom', 10.75, 'bathroom', 9.5, 'poolhouse', 24.5]\n"
     ]
    }
   ],
   "execution_count": 91
  },
  {
   "metadata": {},
   "cell_type": "code",
   "outputs": [],
   "execution_count": null,
   "source": [
    "# not .append()!\n",
    "areas.append([\"cellar\", 20.4])\n",
    "print(areas)"
   ],
   "id": "852e8ec68b35988e"
  },
  {
   "metadata": {
    "ExecuteTime": {
     "end_time": "2025-03-13T15:50:53.670048Z",
     "start_time": "2025-03-13T15:50:53.665137Z"
    }
   },
   "cell_type": "code",
   "source": [
    "areas.extend([\"cellar\", 20.4])\n",
    "print(areas)"
   ],
   "id": "52a15e3b60dc5178",
   "outputs": [
    {
     "name": "stdout",
     "output_type": "stream",
     "text": [
      "['hallway', 11.25, 'kitchen', 18.0, 'living room', 20.0, 'bedroom', 10.75, 'bathroom', 9.5, 'poolhouse', 24.5, ('cellar', 20.4), ['cellar', 20.4], 'cellar', 20.4]\n"
     ]
    }
   ],
   "execution_count": 95
  },
  {
   "metadata": {},
   "cell_type": "markdown",
   "source": "Changing elements of lists:",
   "id": "7978984eb366329e"
  },
  {
   "metadata": {
    "ExecuteTime": {
     "end_time": "2025-03-13T15:56:21.000901Z",
     "start_time": "2025-03-13T15:56:20.997318Z"
    }
   },
   "cell_type": "code",
   "source": [
    "areas[1] = 99  # changes the second element to 99\n",
    "print(areas) "
   ],
   "id": "333962cdf24fabbc",
   "outputs": [
    {
     "name": "stdout",
     "output_type": "stream",
     "text": [
      "['hallway', 99, 11.25, 'kitchen', 18.0, 'living room', 20.0, 'bedroom', 10.75, 'bathroom', 9.5, 'poolhouse', 24.5, ('cellar', 20.4), ['cellar', 20.4], 'cellar', 20.4]\n"
     ]
    }
   ],
   "execution_count": 100
  },
  {
   "metadata": {
    "ExecuteTime": {
     "end_time": "2025-03-13T15:54:25.084606Z",
     "start_time": "2025-03-13T15:54:25.080522Z"
    }
   },
   "cell_type": "code",
   "source": [
    "# .insert()\n",
    "areas.insert(1, 23)  # inserts 23 at index 1\n",
    "print(areas) "
   ],
   "id": "2d07309226b6f863",
   "outputs": [
    {
     "name": "stdout",
     "output_type": "stream",
     "text": [
      "['hallway', 23, 11.25, 'kitchen', 18.0, 'living room', 20.0, 'bedroom', 10.75, 'bathroom', 9.5, 'poolhouse', 24.5, ('cellar', 20.4), ['cellar', 20.4], 'cellar', 20.4]\n"
     ]
    }
   ],
   "execution_count": 99
  },
  {
   "metadata": {
    "ExecuteTime": {
     "end_time": "2025-03-13T15:57:24.462643Z",
     "start_time": "2025-03-13T15:57:24.458376Z"
    }
   },
   "cell_type": "code",
   "source": [
    "my_list = [10, 20, 30, 40, 50]\n",
    "my_list[1:3] = [99, 88]\n",
    "print(my_list)  "
   ],
   "id": "64c9736ac17c3623",
   "outputs": [
    {
     "name": "stdout",
     "output_type": "stream",
     "text": [
      "[10, 99, 88, 40, 50]\n"
     ]
    }
   ],
   "execution_count": 101
  },
  {
   "metadata": {},
   "cell_type": "markdown",
   "source": "**Deleting** elements of a list:",
   "id": "4fa53b73d91b02d3"
  },
  {
   "metadata": {},
   "cell_type": "code",
   "outputs": [],
   "execution_count": null,
   "source": [
    "del areas[-2:-1]\n",
    "print(areas)"
   ],
   "id": "633a1a90e9cd3327"
  },
  {
   "metadata": {},
   "cell_type": "markdown",
   "source": [
    "### Exercise: Advanced List Manipulation\n",
    "Try to solve the following challenges using Python list operations:\n",
    "\n",
    "**Modify Elements:**\n",
    "   - Given the list `numbers = [3, 6, 9, 12, 15]`, replace the second element with `99`.\n",
    "   - Swap the first and last elements in the list.\n",
    "\n",
    "**Extend Lists:**\n",
    "   - Add `[18, 21, 24]` to `numbers` in three different ways (`append()`, `extend()`, `+` operator).\n",
    "\n",
    "**List Filtering & Comprehensions:**\n",
    "   - Given `values = [10, 23, 45, 66, 77, 89, 90]`, create a new list containing only even numbers.\n",
    "   - Create a new list where each number is squared if it is greater than 50.\n",
    "\n",
    "**Index-Based Selection:**\n",
    "   - From `letters = ['a', 'b', 'c', 'd', 'e', 'f', 'g']`, extract every second letter.\n",
    "   - Reverse the order of the list using slicing.\n",
    "\n",
    "**Nested Lists:**\n",
    "   - Given `matrix = [[1, 2, 3], [4, 5, 6], [7, 8, 9]]`, extract the middle element (`5`).\n",
    "   - Flatten the nested list into a single list `[1, 2, 3, 4, 5, 6, 7, 8, 9]` using list comprehension.\n",
    "\n"
   ],
   "id": "84e87f2455ed8c9e"
  },
  {
   "metadata": {},
   "cell_type": "markdown",
   "source": [
    "### Import packages and libraries\n",
    "In Python, we can use **packages** (collections of modules) to access **pre-built functions and tools**. This allows us to **analyze data efficiently** without writing everything from scratch.\n",
    "\n",
    "For epidemiological modeling and analysis, a useful package is **`epipy`** or **`lifelines`**, which provides statistical tools for public health.\n",
    "\n",
    "---\n",
    "\n",
    "If you are <ins>not</ins> using Jupyter Notebook but another IDE (e.g. PyCharm) to use an external package, you first need to install it (**only once**) via terminal:\n",
    "\n",
    "```python\n",
    "!pip install lifelines  # Install the lifelines package\n",
    "```\n",
    "\n",
    "Import a whole package:"
   ],
   "id": "b5ec6908fa270230"
  },
  {
   "metadata": {},
   "cell_type": "code",
   "outputs": [],
   "execution_count": null,
   "source": [
    "import numpy as np\n",
    "\n",
    "# Example: Simulating the spread of a disease over 10 days\n",
    "days = np.arange(1, 11)  # Days 1 to 10\n",
    "infection_rates = np.exp(-0.1 * days)  # Exponential decay of infections"
   ],
   "id": "47f8b5f4563cdf2e"
  },
  {
   "metadata": {},
   "cell_type": "code",
   "outputs": [],
   "execution_count": null,
   "source": [
    "print(\"Days:\", days)\n",
    "print(\"Infection rates:\", infection_rates)"
   ],
   "id": "f5953513e1eb0cae"
  },
  {
   "metadata": {},
   "cell_type": "markdown",
   "source": "Import specific functions:",
   "id": "38f804798d1d9b97"
  },
  {
   "metadata": {},
   "cell_type": "code",
   "outputs": [],
   "execution_count": null,
   "source": [
    "from math import sqrt  # Import only the square root function\n",
    "\n",
    "# Example: Calculate the standard deviation of infection rates\n",
    "infection_rates = [0.1, 0.15, 0.2, 0.25, 0.22]\n",
    "mean_rate = sum(infection_rates) / len(infection_rates)\n",
    "\n",
    "variance = sum((x - mean_rate) ** 2 for x in infection_rates) / len(infection_rates)\n",
    "std_dev = sqrt(variance)\n",
    "\n",
    "print(f\"Standard Deviation of Infection Rates: {std_dev:.4f}\")"
   ],
   "id": "bade22692dbfb82c"
  },
  {
   "metadata": {},
   "cell_type": "markdown",
   "source": "Mulitple functions:",
   "id": "af5ec37fe3b75c88"
  },
  {
   "metadata": {},
   "cell_type": "code",
   "outputs": [],
   "execution_count": null,
   "source": [
    "from random import randint, uniform  # Import multiple functions\n",
    "\n",
    "# Example: Simulate the daily number of infections in a small town\n",
    "daily_cases = [randint(5, 20) for x in range(7)]\n",
    "reproduction_numbers = [uniform(1.5, 3.5) for x in range(7)]\n",
    "\n",
    "print(\"Daily Infections:\", daily_cases)\n",
    "print(\"R₀ Values:\", reproduction_numbers)"
   ],
   "id": "92667b8322b37b1c"
  },
  {
   "metadata": {},
   "cell_type": "markdown",
   "source": "You can also import **everything** from a package. However, this is **not recommended** because it leads to namespace pollution and makes debugging more difficult.",
   "id": "314806c668ef6bdc"
  },
  {
   "metadata": {},
   "cell_type": "code",
   "outputs": [],
   "execution_count": null,
   "source": "from math import *  # Imports everything (not recommended)",
   "id": "73c683ae43f1880"
  },
  {
   "metadata": {},
   "cell_type": "markdown",
   "source": [
    "### NumPy\n",
    "![NumPy Logo](https://upload.wikimedia.org/wikipedia/commons/3/31/NumPy_logo_2020.svg)\n",
    "\n",
    "**NumPy** (*Numerical Python*) is one of the most important libraries for numerical calculations in Python.  \n",
    "It is widely used in **epidemiology, data analysis and scientific research**.\n",
    "\n",
    "**Key Features of NumPy:**\n",
    "- Supports **multi-dimensional arrays**\n",
    "- Enables **fast element-wise calculations**\n",
    "- Provides **advanced mathematical operations**\n",
    "- Optimized for **performance and memory efficiency**\n",
    "\n",
    "Advantages over normal Python lists:\n",
    "- **Faster & more efficient** (thanks to optimized C implementation)\n",
    "- **Memory-saving** as it stores **homogeneous data** (e.g. only numbers)\n",
    "- **Mathematical operations** can be applied to entire arrays (**vectorization**)\n",
    "- **Practical functions** for statistics, simulations and scientific computing\n",
    "\n",
    "**Common NumPy Functions**\n",
    "| Function | Description |\n",
    "|----------|-------------|\n",
    "| `np.array([1,2,3])` | Creates a NumPy array |\n",
    "| `np.zeros((3,3))` | Creates a 3×3 array filled with zeros |\n",
    "| `np.ones((2,2))` | Creates a 2×2 array filled with ones |\n",
    "| `np.linspace(0,10,5)` | Generates 5 evenly spaced numbers between 0 and 10 |\n",
    "| `np.random.rand(3,3)` | Generates a 3×3 matrix with random numbers |\n",
    "| `np.mean(arr)` | Computes the mean of an array |\n",
    "| `np.std(arr)` | Computes the standard deviation |\n",
    "| `np.min(arr)` | Finds the minimum value in an array |\n",
    "| `np.max(arr)` | Finds the maximum value in an array |\n",
    "| `arr[arr > 5]` | Returns all elements greater than 5 |\n",
    "| `np.arange(0, 10, 2)` | Generates an array with values from 0 to 10 (step 2) |\n",
    "| `np.eye(4)` | Creates a 4×4 identity matrix |\n",
    "| `np.full((3,3), 7)` | Creates a 3×3 matrix filled with the value 7 |\n",
    "| `np.random.randint(10, size=(3,3))` | Generates a 3×3 matrix with random integers from 0 to 9 |\n",
    "| `np.random.randn(3,3)` | Generates a 3×3 matrix with normally distributed random numbers |\n",
    "| `np.sqrt(arr)` | Computes the square root of each element in an array |\n",
    "| `np.exp(arr)` | Computes the exponential (e^x) of each element |\n",
    "| `np.log(arr)` | Computes the natural logarithm (ln) of each element |\n",
    "| `np.dot(A, B)` | Computes the dot product of two matrices |\n",
    "| `np.sum(arr, axis=0)` | Sums along the first axis (column-wise sum) |\n",
    "| `np.sum(arr, axis=1)` | Sums along the second axis (row-wise sum) |\n",
    "| `np.argmax(arr)` | Returns the index of the maximum value |\n",
    "| `np.argmin(arr)` | Returns the index of the minimum value |\n",
    "| `np.cumsum(arr)` | Computes the cumulative sum of an array |\n",
    "| `np.diff(arr)` | Computes the difference between consecutive elements |\n",
    "| `np.sort(arr)` | Sorts an array |\n",
    "| `np.unique(arr)` | Returns the unique values in an array |\n",
    "| `np.concatenate((arr1, arr2), axis=0)` | Concatenates two arrays along axis 0 |\n",
    "| `np.reshape(arr, (2,5))` | Reshapes an array to the given shape |\n",
    "| `np.transpose(arr)` | Transposes a matrix |\n",
    "| `np.linalg.inv(A)` | Computes the inverse of a matrix |\n",
    "| `np.linalg.det(A)` | Computes the determinant of a matrix |\n",
    "| `np.linalg.eig(A)` | Computes the eigenvalues and eigenvectors of a matrix |\n"
   ],
   "id": "737da0705f9a6ea7"
  },
  {
   "metadata": {
    "ExecuteTime": {
     "end_time": "2025-03-13T14:20:21.056146Z",
     "start_time": "2025-03-13T14:20:21.048944Z"
    }
   },
   "cell_type": "code",
   "source": [
    "import numpy as np\n",
    "\n",
    "arr = np.array([10, 20, 30, 40, 50])\n",
    "\n",
    "print(arr)\n",
    "type(arr)"
   ],
   "id": "da4f398fbae9af4f",
   "outputs": [
    {
     "name": "stdout",
     "output_type": "stream",
     "text": [
      "[10 20 30 40 50]\n"
     ]
    },
    {
     "data": {
      "text/plain": [
       "numpy.ndarray"
      ]
     },
     "execution_count": 2,
     "metadata": {},
     "output_type": "execute_result"
    }
   ],
   "execution_count": 2
  },
  {
   "metadata": {
    "ExecuteTime": {
     "end_time": "2025-03-13T14:05:47.775148Z",
     "start_time": "2025-03-13T14:05:47.767459Z"
    }
   },
   "cell_type": "code",
   "source": [
    "# Difference 1: elementwise calculation\n",
    "## with array\n",
    "print(arr + 10)  # add 10 to every element of the list\n",
    "print(arr * 2)  # double each element"
   ],
   "id": "9fd2bdbcd245a02b",
   "outputs": [
    {
     "name": "stdout",
     "output_type": "stream",
     "text": [
      "[20 30 40 50 60]\n",
      "[ 20  40  60  80 100]\n"
     ]
    }
   ],
   "execution_count": 3
  },
  {
   "metadata": {
    "ExecuteTime": {
     "end_time": "2025-03-13T15:53:00.197917Z",
     "start_time": "2025-03-13T15:53:00.194675Z"
    }
   },
   "cell_type": "code",
   "source": [
    "## with list\n",
    "list_example = [10, 20, 30, 40, 50]\n",
    "list_example * 3"
   ],
   "id": "1af811f386e74391",
   "outputs": [
    {
     "data": {
      "text/plain": [
       "[10, 20, 30, 40, 50, 10, 20, 30, 40, 50, 10, 20, 30, 40, 50]"
      ]
     },
     "execution_count": 97,
     "metadata": {},
     "output_type": "execute_result"
    }
   ],
   "execution_count": 97
  },
  {
   "metadata": {
    "ExecuteTime": {
     "end_time": "2025-03-13T15:53:07.829775Z",
     "start_time": "2025-03-13T15:53:07.805044Z"
    }
   },
   "cell_type": "code",
   "source": "list_example + 10",
   "id": "954bcc269f2f664",
   "outputs": [
    {
     "ename": "TypeError",
     "evalue": "can only concatenate list (not \"int\") to list",
     "output_type": "error",
     "traceback": [
      "\u001B[0;31m---------------------------------------------------------------------------\u001B[0m",
      "\u001B[0;31mTypeError\u001B[0m                                 Traceback (most recent call last)",
      "Cell \u001B[0;32mIn[98], line 1\u001B[0m\n\u001B[0;32m----> 1\u001B[0m \u001B[43mlist_example\u001B[49m\u001B[43m \u001B[49m\u001B[38;5;241;43m+\u001B[39;49m\u001B[43m \u001B[49m\u001B[38;5;241;43m10\u001B[39;49m\n",
      "\u001B[0;31mTypeError\u001B[0m: can only concatenate list (not \"int\") to list"
     ]
    }
   ],
   "execution_count": 98
  },
  {
   "metadata": {},
   "cell_type": "code",
   "outputs": [],
   "execution_count": null,
   "source": "print([x + 10 for x in list_example]) ",
   "id": "ee8ff98f26851563"
  },
  {
   "metadata": {
    "ExecuteTime": {
     "end_time": "2025-03-13T14:20:39.426156Z",
     "start_time": "2025-03-13T14:20:35.920745Z"
    }
   },
   "cell_type": "code",
   "source": [
    "# Difference 2: NumPy is more efficient for big arrays\n",
    "large_list = list(range(100000000))\n",
    "large_array = np.array(large_list)"
   ],
   "id": "b3e3f3f24bbfd63f",
   "outputs": [],
   "execution_count": 5
  },
  {
   "metadata": {
    "ExecuteTime": {
     "end_time": "2025-03-13T14:20:45.469809Z",
     "start_time": "2025-03-13T14:20:41.669538Z"
    }
   },
   "cell_type": "code",
   "source": [
    "## time difference\n",
    "import time\n",
    "start_time = time.time()\n",
    "[x * 2 for x in large_list]\n",
    "print(\"List calculation took:\", time.time() - start_time, \"seconds\")\n",
    "\n",
    "start_time = time.time()\n",
    "large_array * 2\n",
    "print(\"Array calculation took:\", time.time() - start_time, \"Sekunden\")"
   ],
   "id": "e397e020ee3dad71",
   "outputs": [
    {
     "name": "stdout",
     "output_type": "stream",
     "text": [
      "Listen-Berechnung dauerte: 3.612644910812378 Sekunden\n",
      "NumPy-Berechnung dauerte: 0.18405914306640625 Sekunden\n"
     ]
    }
   ],
   "execution_count": 6
  },
  {
   "metadata": {
    "ExecuteTime": {
     "end_time": "2025-03-13T14:46:33.178803Z",
     "start_time": "2025-03-13T14:46:33.172942Z"
    }
   },
   "cell_type": "code",
   "source": [
    "# Difference 3: 2D arrays\n",
    "matrix = np.array([[1, 2, 3], [4, 5, 6], [7, 8, 9]])\n",
    "print(matrix)\n",
    "print(matrix.shape)  # Zeigt die Dimensionen"
   ],
   "id": "27eef0e988af4cde",
   "outputs": [
    {
     "name": "stdout",
     "output_type": "stream",
     "text": [
      "[[1 2 3]\n",
      " [4 5 6]\n",
      " [7 8 9]]\n",
      "(3, 3)\n"
     ]
    }
   ],
   "execution_count": 11
  },
  {
   "metadata": {
    "ExecuteTime": {
     "end_time": "2025-03-13T14:46:57.467557Z",
     "start_time": "2025-03-13T14:46:57.464288Z"
    }
   },
   "cell_type": "code",
   "source": [
    "# Difference 4: NumPy-methods for simple statistics\n",
    "random_array = np.random.randint(0, 100, size=10)  # random numbers between 0 and 100\n",
    "print(random_array)"
   ],
   "id": "53e6b5c60d3a0148",
   "outputs": [
    {
     "name": "stdout",
     "output_type": "stream",
     "text": [
      "[94 88 84  4 67 31  9 94 53  2]\n"
     ]
    }
   ],
   "execution_count": 12
  },
  {
   "metadata": {
    "ExecuteTime": {
     "end_time": "2025-03-13T14:47:02.997635Z",
     "start_time": "2025-03-13T14:47:02.993782Z"
    }
   },
   "cell_type": "code",
   "source": [
    "print(\"Mean:\", np.mean(random_array))\n",
    "print(\"STD:\", np.std(random_array))\n",
    "print(\"Minimum:\", np.min(random_array))\n",
    "print(\"Maximum:\", np.max(random_array))"
   ],
   "id": "3826dd57a4098bd",
   "outputs": [
    {
     "name": "stdout",
     "output_type": "stream",
     "text": [
      "Mean: 52.6\n",
      "STD: 36.28277828391867\n",
      "Minimum: 2\n",
      "Maximum: 94\n"
     ]
    }
   ],
   "execution_count": 13
  },
  {
   "metadata": {
    "ExecuteTime": {
     "end_time": "2025-03-13T14:47:05.101412Z",
     "start_time": "2025-03-13T14:47:05.096067Z"
    }
   },
   "cell_type": "code",
   "source": [
    "# Difference 5: logical indexing\n",
    "## with array\n",
    "print(random_array[random_array > 50])  # shows all values greater than 50"
   ],
   "id": "f69c5229c4055510",
   "outputs": [
    {
     "name": "stdout",
     "output_type": "stream",
     "text": [
      "[94 88 84 67 94 53]\n"
     ]
    }
   ],
   "execution_count": 14
  },
  {
   "metadata": {},
   "cell_type": "code",
   "outputs": [],
   "execution_count": null,
   "source": [
    "## with list\n",
    "list_example = [10, 20, 30, 40, 50]\n",
    "print([x for x in list_example if x > 25])"
   ],
   "id": "6c893b96f6a680f7"
  },
  {
   "metadata": {
    "ExecuteTime": {
     "end_time": "2025-03-13T14:45:14.029910Z",
     "start_time": "2025-03-13T14:45:14.022725Z"
    }
   },
   "cell_type": "code",
   "source": "np.arange(1, 11)  # creates an array from 1 to 10",
   "id": "4be102f5f98686a3",
   "outputs": [
    {
     "data": {
      "text/plain": [
       "array([ 1,  2,  3,  4,  5,  6,  7,  8,  9, 10])"
      ]
     },
     "execution_count": 7,
     "metadata": {},
     "output_type": "execute_result"
    }
   ],
   "execution_count": 7
  },
  {
   "metadata": {
    "ExecuteTime": {
     "end_time": "2025-03-13T14:45:19.238605Z",
     "start_time": "2025-03-13T14:45:19.231777Z"
    }
   },
   "cell_type": "code",
   "source": "np.linspace(0, 1, 5)  # 5 evenly distributed values between 0 and 1",
   "id": "6497d42b097098d3",
   "outputs": [
    {
     "data": {
      "text/plain": [
       "array([0.  , 0.25, 0.5 , 0.75, 1.  ])"
      ]
     },
     "execution_count": 8,
     "metadata": {},
     "output_type": "execute_result"
    }
   ],
   "execution_count": 8
  },
  {
   "metadata": {
    "ExecuteTime": {
     "end_time": "2025-03-13T14:45:20.892826Z",
     "start_time": "2025-03-13T14:45:20.887897Z"
    }
   },
   "cell_type": "code",
   "source": "np.zeros((3,3))",
   "id": "802b58836f5a3ad2",
   "outputs": [
    {
     "data": {
      "text/plain": [
       "array([[0., 0., 0.],\n",
       "       [0., 0., 0.],\n",
       "       [0., 0., 0.]])"
      ]
     },
     "execution_count": 9,
     "metadata": {},
     "output_type": "execute_result"
    }
   ],
   "execution_count": 9
  },
  {
   "metadata": {
    "ExecuteTime": {
     "end_time": "2025-03-13T14:45:24.848674Z",
     "start_time": "2025-03-13T14:45:24.844902Z"
    }
   },
   "cell_type": "code",
   "source": "np.ones((2,4))",
   "id": "3f0be2a568da21f2",
   "outputs": [
    {
     "data": {
      "text/plain": [
       "array([[1., 1., 1., 1.],\n",
       "       [1., 1., 1., 1.]])"
      ]
     },
     "execution_count": 10,
     "metadata": {},
     "output_type": "execute_result"
    }
   ],
   "execution_count": 10
  },
  {
   "metadata": {
    "ExecuteTime": {
     "end_time": "2025-03-13T14:49:57.622443Z",
     "start_time": "2025-03-13T14:49:57.618935Z"
    }
   },
   "cell_type": "code",
   "source": "np.random.randint(10, size=(3,3))",
   "id": "fd4ed8bb4a1ed99b",
   "outputs": [
    {
     "data": {
      "text/plain": [
       "array([[6, 0, 9],\n",
       "       [5, 7, 9],\n",
       "       [3, 0, 2]])"
      ]
     },
     "execution_count": 20,
     "metadata": {},
     "output_type": "execute_result"
    }
   ],
   "execution_count": 20
  },
  {
   "metadata": {
    "ExecuteTime": {
     "end_time": "2025-03-13T14:50:11.745544Z",
     "start_time": "2025-03-13T14:50:11.742759Z"
    }
   },
   "cell_type": "code",
   "source": "np.random.rand(3,3)",
   "id": "ef248bb1a7d8b008",
   "outputs": [
    {
     "data": {
      "text/plain": [
       "array([[0.26360693, 0.8645443 , 0.03446848],\n",
       "       [0.58738278, 0.79332431, 0.2220018 ],\n",
       "       [0.7389586 , 0.6353606 , 0.65374993]])"
      ]
     },
     "execution_count": 21,
     "metadata": {},
     "output_type": "execute_result"
    }
   ],
   "execution_count": 21
  },
  {
   "metadata": {
    "ExecuteTime": {
     "end_time": "2025-03-13T14:50:20.389227Z",
     "start_time": "2025-03-13T14:50:20.386507Z"
    }
   },
   "cell_type": "code",
   "source": "np.random.randn(3,3)",
   "id": "1dec950da7be2003",
   "outputs": [
    {
     "data": {
      "text/plain": [
       "array([[-1.11339989,  1.54158804,  1.69457915],\n",
       "       [ 0.43779866,  0.1870225 , -0.50762927],\n",
       "       [-0.38195129,  0.85872162,  1.23629716]])"
      ]
     },
     "execution_count": 22,
     "metadata": {},
     "output_type": "execute_result"
    }
   ],
   "execution_count": 22
  },
  {
   "metadata": {},
   "cell_type": "markdown",
   "source": "Sometimes there are several ways to use methods or functions:",
   "id": "ccaff8a8cf7ea6ab"
  },
  {
   "metadata": {
    "ExecuteTime": {
     "end_time": "2025-03-13T15:24:27.689724Z",
     "start_time": "2025-03-13T15:24:27.686448Z"
    }
   },
   "cell_type": "code",
   "source": "print(np.max(arr))",
   "id": "694d41269f28dc03",
   "outputs": [
    {
     "name": "stdout",
     "output_type": "stream",
     "text": [
      "50\n"
     ]
    }
   ],
   "execution_count": 50
  },
  {
   "metadata": {
    "ExecuteTime": {
     "end_time": "2025-03-13T15:24:28.266604Z",
     "start_time": "2025-03-13T15:24:28.264388Z"
    }
   },
   "cell_type": "code",
   "source": "print(arr.max())",
   "id": "20c5376fc1abc784",
   "outputs": [
    {
     "name": "stdout",
     "output_type": "stream",
     "text": [
      "50\n"
     ]
    }
   ],
   "execution_count": 51
  },
  {
   "metadata": {},
   "cell_type": "markdown",
   "source": "Indexing and slicing:",
   "id": "c31f0d8aa122d294"
  },
  {
   "metadata": {},
   "cell_type": "code",
   "outputs": [],
   "execution_count": null,
   "source": [
    "print(arr[0])\n",
    "print(arr[-1])\n",
    "print(arr[1:4])"
   ],
   "id": "302b88a98651a79c"
  },
  {
   "metadata": {},
   "cell_type": "markdown",
   "source": [
    "### Exercise\n",
    "\n",
    "A city with **1,000,000 inhabitants** is experiencing an influenza outbreak. The number of **daily new infections** has been recorded for **30 days**.\n",
    "\n",
    "**Steps to solve:**\n",
    "1. **Create a NumPy array** with random daily new infections between **500 and 5000**, set the seed to 42.\n",
    "2. **Calculate the cumulative sum** of infections over time (total infections at each day).\n",
    "3. **Find the day with the highest infection rate**, returning both the index and the value.\n",
    "4. **Write a function `normalize_infections()` that scales the infection numbers between 0 and 1** using `np.min()` and `np.max()`."
   ],
   "id": "a5f21f29f24dadf1"
  },
  {
   "metadata": {},
   "cell_type": "code",
   "outputs": [],
   "execution_count": null,
   "source": [
    "import numpy as np\n",
    "\n",
    "# Generate an array of random daily infections (between 500 and 5000) for 30 days\n",
    "np.random.seed(42)  # set seed for reproducibility\n",
    "daily_cases = np.random.randint(500, 5000, size=30)\n",
    "print(\"Daily new infections:\", daily_cases)\n",
    "\n",
    "# Calculate cumulative infections over time\n",
    "cumulative_infections = np.cumsum(daily_infections)\n",
    "print(\"Cumulative infections:\", cumulative_infections)\n",
    "\n",
    "# Find the day with the highest infection rate\n",
    "ighest_infection_day = np.argmax(daily_infections)  # Index of highest infection day\n",
    "highest_infection_value = daily_infections[highest_infection_day]  # Value at that index\n",
    "print(\"Day with highest infections (index):\", highest_infection_day)\n",
    "print(\"Day with highest infections (value):\", highest_infection_value)\n",
    "\n",
    "# Function to normalize infection numbers\n",
    "def normalize_infections(arr):\n",
    "    return (arr - np.min(arr)) / (np.max(arr) - np.min(arr))\n",
    "\n",
    "normalized_infections = normalize_infections(daily_infections)\n",
    "print(\"Normalized infection rates:\", normalized_infections)\n"
   ],
   "id": "57155f91a0c6c009"
  },
  {
   "metadata": {},
   "cell_type": "markdown",
   "source": [
    "## Working with directories\n",
    "\n",
    "A **directory** (or folder) is a structured location used to store files on a computer. Directories help in organizing code, datasets, configurations, and outputs in programming projects. Managing directories efficiently is crucial for ensuring smooth workflow and maintainability of code.\n",
    "\n",
    "#### **Why is Directory Organization Important?**\n",
    "- **Maintains Clean Code Structure:** Organizing files logically prevents confusion and makes projects more readable.\n",
    "- **Enhances Reproducibility:** A well-structured directory allows other users (or your future self) to understand and rerun the code easily.\n",
    "- **Avoids Path-Related Errors:** Using the correct directory structure prevents issues when accessing or modifying files.\n",
    "- **Enables Automation:** A well-structured directory makes automated processing (e.g., batch processing of multiple files) easier.\n",
    "\n",
    "#### **Best Practices for Organizing Directories**\n",
    "- Use **clear and consistent folder structures**: Keep related files together (e.g., scripts, datasets, and outputs should be in separate folders).\n",
    "- Store **datasets in a `data/` folder**, Python scripts in `src/`, and results in `results/`.\n",
    "- Avoid using spaces in directory names; instead, use underscores (`_`) or dashes (`-`).\n",
    "- Use **relative paths instead of absolute paths** to keep your project portable across different machines.\n",
    "- Automate directory creation using Python’s `os` and `pathlib` modules.\n",
    "\n",
    "#### **Relative vs. Absolute Paths**\n",
    "A **relative path** specifies the file location **relative** to the current working directory, while an **absolute path** specifies the full location from the root of the file system.\n",
    "\n",
    "![directory](directory.png \"Directory\")"
   ],
   "id": "6152f677d01217b5"
  },
  {
   "metadata": {},
   "cell_type": "markdown",
   "source": [
    "### Importing Data  \n",
    "\n",
    "Pandas is one of the most widely used Python libraries for **data manipulation and analysis**. It is built on top of NumPy and provides data structures like **DataFrames** and **Series** that make working with structured data easy.\n",
    "- **DataFrames:** The core structure of Pandas, similar to an Excel table or SQL table, allows for easy data organization.\n",
    "- **Handling Missing Data:** Pandas provides functions to detect, fill, or remove missing values.\n",
    "- **Efficient Indexing & Filtering:** Quickly locate, filter, and manipulate data using labels or conditions.\n",
    "- **Powerful Grouping & Aggregation:** Easily summarize and compute statistics on large datasets.\n",
    "- **Data Import & Export:** Supports reading and writing in various formats such as CSV, Excel, JSON, and SQL.\n",
    "- **Integration with Other Libraries:** Works seamlessly with NumPy, Matplotlib, and Scikit-learn.\n",
    "\n",
    "![pandas logo](https://upload.wikimedia.org/wikipedia/commons/e/ed/Pandas_logo.svg)\n",
    "\n",
    "**Common Pandas Functions**\n",
    "| Function | Description |\n",
    "|----------|-------------|\n",
    "| `pd.read_csv(\"file.csv\")` | Reads a CSV file into a DataFrame |\n",
    "| `df.head(n)` | Displays the first `n` rows of the DataFrame |\n",
    "| `df.info()` | Shows summary information about the DataFrame |\n",
    "| `df.describe()` | Provides statistics about numerical columns |\n",
    "| `df.isnull().sum()` | Counts missing values per column |\n",
    "| `df.dropna()` | Removes rows with missing values |\n",
    "| `df.fillna(value)` | Replaces missing values with a specified value |\n",
    "| `df.apply(function, axis=0)` | Apply a function to each row or column of a DataFrame or a Series |\n",
    "| `df[\"column\"]` | Selects a single column |\n",
    "| `df[[\"col1\", \"col2\"]]` | Selects multiple columns |\n",
    "| `df[df[\"column\"] > 50]` | Filters rows based on a condition |\n",
    "| `df.sort_values(by=\"column\")` | Sorts the DataFrame by a specific column |\n",
    "| `df.groupby(\"category\").mean()` | Groups data and calculates mean values |\n",
    "| `df.to_csv(\"output.csv\")` | Saves the DataFrame as a CSV file |\n"
   ],
   "id": "bebcda1e418adcbe"
  },
  {
   "metadata": {
    "ExecuteTime": {
     "end_time": "2025-03-13T15:04:22.395644Z",
     "start_time": "2025-03-13T15:04:22.392292Z"
    }
   },
   "cell_type": "code",
   "source": [
    "# create dictionary\n",
    "data = {\n",
    "    \"Name\": [\"Alice\", \"Bob\", \"Charlie\"],\n",
    "    \"Age\": [25, 30, 35],\n",
    "    \"City\": [\"New York\", \"Los Angeles\", \"Chicago\"]\n",
    "}"
   ],
   "id": "8611df0e8df238c5",
   "outputs": [],
   "execution_count": 32
  },
  {
   "metadata": {
    "ExecuteTime": {
     "end_time": "2025-03-13T15:04:27.977566Z",
     "start_time": "2025-03-13T15:04:27.972878Z"
    }
   },
   "cell_type": "code",
   "source": "type(data)",
   "id": "ee3fd70ff79f1025",
   "outputs": [
    {
     "data": {
      "text/plain": [
       "dict"
      ]
     },
     "execution_count": 33,
     "metadata": {},
     "output_type": "execute_result"
    }
   ],
   "execution_count": 33
  },
  {
   "metadata": {
    "ExecuteTime": {
     "end_time": "2025-03-13T15:04:35.135996Z",
     "start_time": "2025-03-13T15:04:35.131394Z"
    }
   },
   "cell_type": "code",
   "source": [
    "import pandas as pd\n",
    "\n",
    "# Convert to DataFrame\n",
    "df = pd.DataFrame(data)\n",
    "df"
   ],
   "id": "e2817cb866892c4c",
   "outputs": [
    {
     "data": {
      "text/plain": [
       "      Name  Age         City\n",
       "0    Alice   25     New York\n",
       "1      Bob   30  Los Angeles\n",
       "2  Charlie   35      Chicago"
      ],
      "text/html": [
       "<div>\n",
       "<style scoped>\n",
       "    .dataframe tbody tr th:only-of-type {\n",
       "        vertical-align: middle;\n",
       "    }\n",
       "\n",
       "    .dataframe tbody tr th {\n",
       "        vertical-align: top;\n",
       "    }\n",
       "\n",
       "    .dataframe thead th {\n",
       "        text-align: right;\n",
       "    }\n",
       "</style>\n",
       "<table border=\"1\" class=\"dataframe\">\n",
       "  <thead>\n",
       "    <tr style=\"text-align: right;\">\n",
       "      <th></th>\n",
       "      <th>Name</th>\n",
       "      <th>Age</th>\n",
       "      <th>City</th>\n",
       "    </tr>\n",
       "  </thead>\n",
       "  <tbody>\n",
       "    <tr>\n",
       "      <th>0</th>\n",
       "      <td>Alice</td>\n",
       "      <td>25</td>\n",
       "      <td>New York</td>\n",
       "    </tr>\n",
       "    <tr>\n",
       "      <th>1</th>\n",
       "      <td>Bob</td>\n",
       "      <td>30</td>\n",
       "      <td>Los Angeles</td>\n",
       "    </tr>\n",
       "    <tr>\n",
       "      <th>2</th>\n",
       "      <td>Charlie</td>\n",
       "      <td>35</td>\n",
       "      <td>Chicago</td>\n",
       "    </tr>\n",
       "  </tbody>\n",
       "</table>\n",
       "</div>"
      ]
     },
     "execution_count": 35,
     "metadata": {},
     "output_type": "execute_result"
    }
   ],
   "execution_count": 35
  },
  {
   "metadata": {
    "ExecuteTime": {
     "end_time": "2025-03-13T15:18:07.002668Z",
     "start_time": "2025-03-13T15:18:06.972039Z"
    }
   },
   "cell_type": "code",
   "source": [
    "# Load the dataset (assuming it's in the same folder as the notebook)\n",
    "df = pd.read_csv(\"healthcare-dataset-stroke-data.csv\")\n",
    "\n",
    "# Display the first few rows\n",
    "df.head()"
   ],
   "id": "2afa71548b299150",
   "outputs": [
    {
     "data": {
      "text/plain": [
       "      id  gender   age  hypertension  heart_disease ever_married  \\\n",
       "0   9046    Male  67.0             0              1          Yes   \n",
       "1  51676  Female  61.0             0              0          Yes   \n",
       "2  31112    Male  80.0             0              1          Yes   \n",
       "3  60182  Female  49.0             0              0          Yes   \n",
       "4   1665  Female  79.0             1              0          Yes   \n",
       "\n",
       "       work_type Residence_type  avg_glucose_level   bmi   smoking_status  \\\n",
       "0        Private          Urban             228.69  36.6  formerly smoked   \n",
       "1  Self-employed          Rural             202.21   NaN     never smoked   \n",
       "2        Private          Rural             105.92  32.5     never smoked   \n",
       "3        Private          Urban             171.23  34.4           smokes   \n",
       "4  Self-employed          Rural             174.12  24.0     never smoked   \n",
       "\n",
       "   stroke  \n",
       "0       1  \n",
       "1       1  \n",
       "2       1  \n",
       "3       1  \n",
       "4       1  "
      ],
      "text/html": [
       "<div>\n",
       "<style scoped>\n",
       "    .dataframe tbody tr th:only-of-type {\n",
       "        vertical-align: middle;\n",
       "    }\n",
       "\n",
       "    .dataframe tbody tr th {\n",
       "        vertical-align: top;\n",
       "    }\n",
       "\n",
       "    .dataframe thead th {\n",
       "        text-align: right;\n",
       "    }\n",
       "</style>\n",
       "<table border=\"1\" class=\"dataframe\">\n",
       "  <thead>\n",
       "    <tr style=\"text-align: right;\">\n",
       "      <th></th>\n",
       "      <th>id</th>\n",
       "      <th>gender</th>\n",
       "      <th>age</th>\n",
       "      <th>hypertension</th>\n",
       "      <th>heart_disease</th>\n",
       "      <th>ever_married</th>\n",
       "      <th>work_type</th>\n",
       "      <th>Residence_type</th>\n",
       "      <th>avg_glucose_level</th>\n",
       "      <th>bmi</th>\n",
       "      <th>smoking_status</th>\n",
       "      <th>stroke</th>\n",
       "    </tr>\n",
       "  </thead>\n",
       "  <tbody>\n",
       "    <tr>\n",
       "      <th>0</th>\n",
       "      <td>9046</td>\n",
       "      <td>Male</td>\n",
       "      <td>67.0</td>\n",
       "      <td>0</td>\n",
       "      <td>1</td>\n",
       "      <td>Yes</td>\n",
       "      <td>Private</td>\n",
       "      <td>Urban</td>\n",
       "      <td>228.69</td>\n",
       "      <td>36.6</td>\n",
       "      <td>formerly smoked</td>\n",
       "      <td>1</td>\n",
       "    </tr>\n",
       "    <tr>\n",
       "      <th>1</th>\n",
       "      <td>51676</td>\n",
       "      <td>Female</td>\n",
       "      <td>61.0</td>\n",
       "      <td>0</td>\n",
       "      <td>0</td>\n",
       "      <td>Yes</td>\n",
       "      <td>Self-employed</td>\n",
       "      <td>Rural</td>\n",
       "      <td>202.21</td>\n",
       "      <td>NaN</td>\n",
       "      <td>never smoked</td>\n",
       "      <td>1</td>\n",
       "    </tr>\n",
       "    <tr>\n",
       "      <th>2</th>\n",
       "      <td>31112</td>\n",
       "      <td>Male</td>\n",
       "      <td>80.0</td>\n",
       "      <td>0</td>\n",
       "      <td>1</td>\n",
       "      <td>Yes</td>\n",
       "      <td>Private</td>\n",
       "      <td>Rural</td>\n",
       "      <td>105.92</td>\n",
       "      <td>32.5</td>\n",
       "      <td>never smoked</td>\n",
       "      <td>1</td>\n",
       "    </tr>\n",
       "    <tr>\n",
       "      <th>3</th>\n",
       "      <td>60182</td>\n",
       "      <td>Female</td>\n",
       "      <td>49.0</td>\n",
       "      <td>0</td>\n",
       "      <td>0</td>\n",
       "      <td>Yes</td>\n",
       "      <td>Private</td>\n",
       "      <td>Urban</td>\n",
       "      <td>171.23</td>\n",
       "      <td>34.4</td>\n",
       "      <td>smokes</td>\n",
       "      <td>1</td>\n",
       "    </tr>\n",
       "    <tr>\n",
       "      <th>4</th>\n",
       "      <td>1665</td>\n",
       "      <td>Female</td>\n",
       "      <td>79.0</td>\n",
       "      <td>1</td>\n",
       "      <td>0</td>\n",
       "      <td>Yes</td>\n",
       "      <td>Self-employed</td>\n",
       "      <td>Rural</td>\n",
       "      <td>174.12</td>\n",
       "      <td>24.0</td>\n",
       "      <td>never smoked</td>\n",
       "      <td>1</td>\n",
       "    </tr>\n",
       "  </tbody>\n",
       "</table>\n",
       "</div>"
      ]
     },
     "execution_count": 36,
     "metadata": {},
     "output_type": "execute_result"
    }
   ],
   "execution_count": 36
  },
  {
   "metadata": {},
   "cell_type": "code",
   "outputs": [],
   "execution_count": null,
   "source": "df_stata = pd.read_stata(\"example_dataset.dta\")",
   "id": "1e14352eefc97963"
  },
  {
   "metadata": {},
   "cell_type": "markdown",
   "source": "If your dataset is not in the same folder as your Jupyter Notebook, you need to provide the full path:",
   "id": "1cac6eaa1182247d"
  },
  {
   "metadata": {},
   "cell_type": "code",
   "outputs": [],
   "execution_count": null,
   "source": [
    "df = pd.read_csv(\"/Advanced Epidemiology II/L2/healthcare-dataset-stroke-data.csv\")  # Mac/Linux\n",
    "df = pd.read_csv(\"C:/Advanced Epidemiology II/L2/healthcare-dataset-stroke-data.csv\")  # Windows"
   ],
   "id": "2c0f900c5cc49b8f"
  },
  {
   "metadata": {
    "ExecuteTime": {
     "end_time": "2025-03-13T15:18:58.876467Z",
     "start_time": "2025-03-13T15:18:58.861421Z"
    }
   },
   "cell_type": "code",
   "source": [
    "# Display basic information\n",
    "df.info()"
   ],
   "id": "e9769f5073e0073b",
   "outputs": [
    {
     "name": "stdout",
     "output_type": "stream",
     "text": [
      "<class 'pandas.core.frame.DataFrame'>\n",
      "RangeIndex: 5110 entries, 0 to 5109\n",
      "Data columns (total 12 columns):\n",
      " #   Column             Non-Null Count  Dtype  \n",
      "---  ------             --------------  -----  \n",
      " 0   id                 5110 non-null   int64  \n",
      " 1   gender             5110 non-null   object \n",
      " 2   age                5110 non-null   float64\n",
      " 3   hypertension       5110 non-null   int64  \n",
      " 4   heart_disease      5110 non-null   int64  \n",
      " 5   ever_married       5110 non-null   object \n",
      " 6   work_type          5110 non-null   object \n",
      " 7   Residence_type     5110 non-null   object \n",
      " 8   avg_glucose_level  5110 non-null   float64\n",
      " 9   bmi                4909 non-null   float64\n",
      " 10  smoking_status     5110 non-null   object \n",
      " 11  stroke             5110 non-null   int64  \n",
      "dtypes: float64(3), int64(4), object(5)\n",
      "memory usage: 479.2+ KB\n"
     ]
    }
   ],
   "execution_count": 37
  },
  {
   "metadata": {
    "ExecuteTime": {
     "end_time": "2025-03-13T15:19:11.251947Z",
     "start_time": "2025-03-13T15:19:11.240989Z"
    }
   },
   "cell_type": "code",
   "source": [
    "# Show the first 5 rows\n",
    "df.head()"
   ],
   "id": "d427320877584bbd",
   "outputs": [
    {
     "data": {
      "text/plain": [
       "      id  gender   age  hypertension  heart_disease ever_married  \\\n",
       "0   9046    Male  67.0             0              1          Yes   \n",
       "1  51676  Female  61.0             0              0          Yes   \n",
       "2  31112    Male  80.0             0              1          Yes   \n",
       "3  60182  Female  49.0             0              0          Yes   \n",
       "4   1665  Female  79.0             1              0          Yes   \n",
       "\n",
       "       work_type Residence_type  avg_glucose_level   bmi   smoking_status  \\\n",
       "0        Private          Urban             228.69  36.6  formerly smoked   \n",
       "1  Self-employed          Rural             202.21   NaN     never smoked   \n",
       "2        Private          Rural             105.92  32.5     never smoked   \n",
       "3        Private          Urban             171.23  34.4           smokes   \n",
       "4  Self-employed          Rural             174.12  24.0     never smoked   \n",
       "\n",
       "   stroke  \n",
       "0       1  \n",
       "1       1  \n",
       "2       1  \n",
       "3       1  \n",
       "4       1  "
      ],
      "text/html": [
       "<div>\n",
       "<style scoped>\n",
       "    .dataframe tbody tr th:only-of-type {\n",
       "        vertical-align: middle;\n",
       "    }\n",
       "\n",
       "    .dataframe tbody tr th {\n",
       "        vertical-align: top;\n",
       "    }\n",
       "\n",
       "    .dataframe thead th {\n",
       "        text-align: right;\n",
       "    }\n",
       "</style>\n",
       "<table border=\"1\" class=\"dataframe\">\n",
       "  <thead>\n",
       "    <tr style=\"text-align: right;\">\n",
       "      <th></th>\n",
       "      <th>id</th>\n",
       "      <th>gender</th>\n",
       "      <th>age</th>\n",
       "      <th>hypertension</th>\n",
       "      <th>heart_disease</th>\n",
       "      <th>ever_married</th>\n",
       "      <th>work_type</th>\n",
       "      <th>Residence_type</th>\n",
       "      <th>avg_glucose_level</th>\n",
       "      <th>bmi</th>\n",
       "      <th>smoking_status</th>\n",
       "      <th>stroke</th>\n",
       "    </tr>\n",
       "  </thead>\n",
       "  <tbody>\n",
       "    <tr>\n",
       "      <th>0</th>\n",
       "      <td>9046</td>\n",
       "      <td>Male</td>\n",
       "      <td>67.0</td>\n",
       "      <td>0</td>\n",
       "      <td>1</td>\n",
       "      <td>Yes</td>\n",
       "      <td>Private</td>\n",
       "      <td>Urban</td>\n",
       "      <td>228.69</td>\n",
       "      <td>36.6</td>\n",
       "      <td>formerly smoked</td>\n",
       "      <td>1</td>\n",
       "    </tr>\n",
       "    <tr>\n",
       "      <th>1</th>\n",
       "      <td>51676</td>\n",
       "      <td>Female</td>\n",
       "      <td>61.0</td>\n",
       "      <td>0</td>\n",
       "      <td>0</td>\n",
       "      <td>Yes</td>\n",
       "      <td>Self-employed</td>\n",
       "      <td>Rural</td>\n",
       "      <td>202.21</td>\n",
       "      <td>NaN</td>\n",
       "      <td>never smoked</td>\n",
       "      <td>1</td>\n",
       "    </tr>\n",
       "    <tr>\n",
       "      <th>2</th>\n",
       "      <td>31112</td>\n",
       "      <td>Male</td>\n",
       "      <td>80.0</td>\n",
       "      <td>0</td>\n",
       "      <td>1</td>\n",
       "      <td>Yes</td>\n",
       "      <td>Private</td>\n",
       "      <td>Rural</td>\n",
       "      <td>105.92</td>\n",
       "      <td>32.5</td>\n",
       "      <td>never smoked</td>\n",
       "      <td>1</td>\n",
       "    </tr>\n",
       "    <tr>\n",
       "      <th>3</th>\n",
       "      <td>60182</td>\n",
       "      <td>Female</td>\n",
       "      <td>49.0</td>\n",
       "      <td>0</td>\n",
       "      <td>0</td>\n",
       "      <td>Yes</td>\n",
       "      <td>Private</td>\n",
       "      <td>Urban</td>\n",
       "      <td>171.23</td>\n",
       "      <td>34.4</td>\n",
       "      <td>smokes</td>\n",
       "      <td>1</td>\n",
       "    </tr>\n",
       "    <tr>\n",
       "      <th>4</th>\n",
       "      <td>1665</td>\n",
       "      <td>Female</td>\n",
       "      <td>79.0</td>\n",
       "      <td>1</td>\n",
       "      <td>0</td>\n",
       "      <td>Yes</td>\n",
       "      <td>Self-employed</td>\n",
       "      <td>Rural</td>\n",
       "      <td>174.12</td>\n",
       "      <td>24.0</td>\n",
       "      <td>never smoked</td>\n",
       "      <td>1</td>\n",
       "    </tr>\n",
       "  </tbody>\n",
       "</table>\n",
       "</div>"
      ]
     },
     "execution_count": 38,
     "metadata": {},
     "output_type": "execute_result"
    }
   ],
   "execution_count": 38
  },
  {
   "metadata": {},
   "cell_type": "code",
   "outputs": [],
   "execution_count": null,
   "source": [
    "# Show summary statistics for numerical columns\n",
    "df.describe()"
   ],
   "id": "79d4e49703dd2bb1"
  },
  {
   "metadata": {},
   "cell_type": "code",
   "outputs": [],
   "execution_count": null,
   "source": "print(df[\"work_type\"].nunique())  # Number of unique work types",
   "id": "d38446d62f5ded01"
  },
  {
   "metadata": {},
   "cell_type": "code",
   "outputs": [],
   "execution_count": null,
   "source": [
    "# Count missing values in each column\n",
    "df.isnull().sum()"
   ],
   "id": "c7ce015ee7ff83b8"
  },
  {
   "metadata": {},
   "cell_type": "code",
   "outputs": [],
   "execution_count": null,
   "source": "df[\"bmi\"].fillna(df[\"bmi\"].mean(), inplace=True)",
   "id": "6c55d01bd984931d"
  },
  {
   "metadata": {},
   "cell_type": "code",
   "outputs": [],
   "execution_count": null,
   "source": "df.isnull().sum()",
   "id": "91817816e493b5f5"
  },
  {
   "metadata": {},
   "cell_type": "code",
   "outputs": [],
   "execution_count": null,
   "source": [
    "df_senior = df[df[\"age\"] >= 60]\n",
    "df_senior.head()"
   ],
   "id": "3c4f5651c2a5f591"
  },
  {
   "metadata": {},
   "cell_type": "markdown",
   "source": [
    "**Practice**:\n",
    "- Find all female patients who smoke.\n",
    "- Find all patients with hypertension and heart disease."
   ],
   "id": "4a300bdc7304cd03"
  },
  {
   "metadata": {},
   "cell_type": "code",
   "outputs": [],
   "execution_count": null,
   "source": [
    "# Solution\n",
    "female_smokers = df[(df[\"gender\"] == \"Female\") & (df[\"smoking_status\"] == \"smokes\")]\n",
    "hypertension_heart_disease = df[(df[\"hypertension\"] == 1) & (df[\"heart_disease\"] == 1)]"
   ],
   "id": "ab3e154942a5895c"
  },
  {
   "metadata": {},
   "cell_type": "markdown",
   "source": "Grouping and aggregations:",
   "id": "11b723369edf6cfb"
  },
  {
   "metadata": {},
   "cell_type": "code",
   "outputs": [],
   "execution_count": null,
   "source": "df.groupby(\"smoking_status\")[\"avg_glucose_level\"].median()",
   "id": "ff09c25c5cae5d07"
  },
  {
   "metadata": {},
   "cell_type": "markdown",
   "source": [
    "**Practice**:\n",
    "- Count how many people in each residence type (Urban vs. Rural) had a stroke.\n",
    "- Find the mean BMI for each `gender` and `work_type` combination."
   ],
   "id": "f0fd0de616276ffd"
  },
  {
   "metadata": {},
   "cell_type": "code",
   "outputs": [],
   "execution_count": null,
   "source": [
    "# Solution\n",
    "print(df.groupby(\"Residence_type\")[\"stroke\"].sum())  # Count of strokes by residence type\n",
    "\n",
    "bmi_means = df.groupby([\"gender\", \"work_type\"])[\"bmi\"].mean()\n",
    "print(bmi_means)"
   ],
   "id": "2fdc28b5f5166a3a"
  },
  {
   "metadata": {},
   "cell_type": "markdown",
   "source": "Creating new columns:",
   "id": "2fb34c9a164c45b6"
  },
  {
   "metadata": {},
   "cell_type": "code",
   "outputs": [],
   "execution_count": null,
   "source": "df[\"elderly\"] = df[\"age\"].apply(lambda x: \"Yes\" if x >= 65 else \"No\")",
   "id": "ca6ecb77c13c4ca7"
  },
  {
   "metadata": {},
   "cell_type": "markdown",
   "source": [
    "**Practice**: \n",
    "- Create a new column \"high_risk\": `1` if `bmi > 30` AND `avg_glucose_level > 200`, `0` otherwise.\n",
    "- Add a new column `bmi_category`, which classifies `bmi` as:\n",
    "   - \"Underweight\" if BMI < 18.5\n",
    "   - \"Normal\" if 18.5 ≤ BMI < 25\n",
    "   - \"Overweight\" if 25 ≤ BMI < 30\n",
    "   - \"Obese\" if BMI ≥ 30"
   ],
   "id": "9bb5935e20b3b7e8"
  },
  {
   "metadata": {},
   "cell_type": "code",
   "outputs": [],
   "execution_count": null,
   "source": [
    "# Solution\n",
    "df[\"high_risk\"] = df.apply(lambda x: 1 if x[\"bmi\"] > 30 and x[\"avg_glucose_level\"] > 200 else 0, axis=1)\n",
    "print(df[[\"bmi\", \"avg_glucose_level\", \"high_risk\"]].head())  # Show new column\n",
    "\n",
    "def classify_bmi(bmi):\n",
    "    if bmi < 18.5:\n",
    "        return \"Underweight\"\n",
    "    elif bmi < 25:\n",
    "        return \"Normal\"\n",
    "    elif bmi < 30:\n",
    "        return \"Overweight\"\n",
    "    else:\n",
    "        return \"Obese\"\n",
    "\n",
    "df[\"bmi_category\"] = df[\"bmi\"].apply(classify_bmi)\n",
    "print(df[[\"bmi\", \"bmi_category\"]].head())"
   ],
   "id": "93d0167db1bbb24"
  },
  {
   "metadata": {},
   "cell_type": "code",
   "outputs": [],
   "execution_count": null,
   "source": "df.head()",
   "id": "499fc8c92059b5c9"
  },
  {
   "metadata": {},
   "cell_type": "markdown",
   "source": "Sorting and ranking:",
   "id": "79dd6d7ae37323b7"
  },
  {
   "metadata": {},
   "cell_type": "code",
   "outputs": [],
   "execution_count": null,
   "source": "df.sort_values(by=\"avg_glucose_level\", ascending=False).head(10)",
   "id": "da1a299550d78b65"
  },
  {
   "metadata": {},
   "cell_type": "markdown",
   "source": [
    "**Practice**:\n",
    "- Find the top 5 oldest patients.\n",
    "- Find the 5 patients with the lowest BMI."
   ],
   "id": "4c46bc0a78b908f3"
  },
  {
   "metadata": {},
   "cell_type": "code",
   "outputs": [],
   "execution_count": null,
   "source": [
    "# Solution\n",
    "print(df.sort_values(by=\"age\", ascending=False).head(5))  # Oldest patients\n",
    "print(df.sort_values(by=\"bmi\", ascending=True).head(5))  # Lowest BMI patients"
   ],
   "id": "5e396ef6e7b3288b"
  },
  {
   "metadata": {},
   "cell_type": "markdown",
   "source": "Saving modified data:",
   "id": "ae0df8191deb6f07"
  },
  {
   "metadata": {},
   "cell_type": "code",
   "outputs": [],
   "execution_count": null,
   "source": "df.to_csv(\"cleaned_healthcare_data.csv\", index=False)",
   "id": "b0eb0bf53c816604"
  }
 ],
 "metadata": {
  "kernelspec": {
   "display_name": "Python 3",
   "language": "python",
   "name": "python3"
  },
  "language_info": {
   "codemirror_mode": {
    "name": "ipython",
    "version": 2
   },
   "file_extension": ".py",
   "mimetype": "text/x-python",
   "name": "python",
   "nbconvert_exporter": "python",
   "pygments_lexer": "ipython2",
   "version": "2.7.6"
  }
 },
 "nbformat": 4,
 "nbformat_minor": 5
}
